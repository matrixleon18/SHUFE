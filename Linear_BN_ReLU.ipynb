{
 "cells": [
  {
   "cell_type": "code",
   "execution_count": 59,
   "id": "d7aa9c77-2b13-4de7-8c73-5bf651101990",
   "metadata": {},
   "outputs": [],
   "source": [
    "# 一个mnist识别的代码\n",
    "import torch\n",
    "from torch import nn\n",
    "from torch.autograd import Variable\n",
    "from torch import optim\n",
    "from torch.utils.data import DataLoader\n",
    "from torchvision import datasets, transforms\n",
    "from matplotlib import pyplot as plt"
   ]
  },
  {
   "cell_type": "code",
   "execution_count": 4,
   "id": "54f11e68-af12-4a4b-a1dd-fd64aed3a4b2",
   "metadata": {},
   "outputs": [],
   "source": [
    "# 这是传统的全链接网络\n",
    "class simple_Net(nn.Module):\n",
    "    def __init__(self, in_dim, n_hidden_1, n_hidden_2, out_dim):\n",
    "        super(simpleNet, self).__init__()\n",
    "        self.layer1 = nn.Linear(in_dim, n_hidden_1)\n",
    "        self.layer2 = nn.Linear(n_hidden_1, n_hidden_2)\n",
    "        self.layer3 = nn.Linear(n_hidden_2, out_dim)\n",
    "        \n",
    "    def forward(self, x):\n",
    "        x = self.layer1(x)\n",
    "        x = self.layer2(x)\n",
    "        x = self.layer3(x)\n",
    "        return x"
   ]
  },
  {
   "cell_type": "code",
   "execution_count": 5,
   "id": "05ab7e5a-2f9b-40a2-bf51-7f1da82f39ab",
   "metadata": {},
   "outputs": [],
   "source": [
    "# 定义带了ReLU激活层的网络\n",
    "class Activation_Net(nn.Module):\n",
    "    def __init__(self, in_dim, n_hidden_1, n_hidden_2, out_dim):\n",
    "        super(Activation_Net, self).__init__()\n",
    "        self.layer1 = nn.Sequential(nn.Linear(in_dim, n_hidden_1), nn.ReLU(True))     # 将 Linear和ReLU组合成一个layer\n",
    "        self.layer2 = nn.Sequential(nn.Linear(n_hidden_1, n_hidden_2), nn.ReLU(True)) # 将 Linear和ReLU组合成一个layer\n",
    "        self.layer3 = nn.Sequential(nn.Linear(n_hidden_2, out_dim))\n",
    "        \n",
    "    def forward(self, x):\n",
    "        x = self.layer1(x)\n",
    "        x = self.layer2(x)\n",
    "        x = self.layer3(x)\n",
    "        return x"
   ]
  },
  {
   "cell_type": "code",
   "execution_count": 6,
   "id": "2942cc12-50e9-4f83-925c-f57b31a93be2",
   "metadata": {},
   "outputs": [],
   "source": [
    "# 定义带了ReLU激活层和BN层的网络\n",
    "class Batch_Net(nn.Module):\n",
    "    def __init__(self, in_dim, n_hidden_1, n_hidden_2, out_dim):\n",
    "        super(Batch_Net, self).__init__()\n",
    "        self.layer1 = nn.Sequential(nn.Linear(in_dim, n_hidden_1), nn.BatchNorm1d(n_hidden_1), nn.ReLU(True))     # 将 Linear, BN, ReLU组合成一个layer\n",
    "        self.layer2 = nn.Sequential(nn.Linear(n_hidden_1, n_hidden_2), nn.BatchNorm1d(n_hidden_2), nn.ReLU(True)) # 将 Linear, BN, ReLU组合成一个layer\n",
    "        self.layer3 = nn.Sequential(nn.Linear(n_hidden_2, out_dim))\n",
    "        \n",
    "    def forward(self, x):\n",
    "        x = self.layer1(x)\n",
    "        x = self.layer2(x)\n",
    "        x = self.layer3(x)\n",
    "        return x"
   ]
  },
  {
   "cell_type": "code",
   "execution_count": 47,
   "id": "914f89fd-291c-4d6f-aee3-3a060dbd12c0",
   "metadata": {},
   "outputs": [],
   "source": [
    "# 开始准备数据\n",
    "batch_size = 64\n",
    "lr = 1e-2\n",
    "num_epoches = 10\n",
    "\n",
    "data_tf = transforms.Compose([transforms.ToTensor(), transforms.Normalize([0.5],[0.5])])\n",
    "\n",
    "train_dataset = datasets.MNIST(root='./data', train=True, transform=data_tf, download=True)\n",
    "\n",
    "test_dataset = datasets.MNIST(root='./data', train=False, transform=data_tf)\n",
    "\n",
    "train_loader = DataLoader(train_dataset, batch_size=batch_size, shuffle=True)\n",
    "\n",
    "test_loader = DataLoader(test_dataset, batch_size=batch_size, shuffle=False)\n",
    "\n",
    "# model = simpleNet(28*28, 300, 100, 10)\n",
    "model = Activation_Net(28*28, 300, 100, 10)\n",
    "# model = Batch_Net(28*28, 300, 100, 10)\n",
    "\n",
    "loss_func = nn.CrossEntropyLoss()\n",
    "\n",
    "opti_func = optim.Adam(model.parameters(), lr=lr)\n"
   ]
  },
  {
   "cell_type": "code",
   "execution_count": 64,
   "id": "88d2a210-0aad-4a9d-b09c-894ee7fa5c3c",
   "metadata": {},
   "outputs": [
    {
     "name": "stdout",
     "output_type": "stream",
     "text": [
      "train loss: 0.9850098490715027\n",
      "train loss: 0.001805473119020462\n",
      "train loss: 0.09947649389505386\n",
      "train loss: 0.05861756205558777\n",
      "train loss: 0.1603401005268097\n",
      "train loss: 0.024322785437107086\n",
      "train loss: 0.2742932438850403\n",
      "train loss: 0.002995947143062949\n",
      "train loss: 0.2160206139087677\n",
      "train loss: 5.477942977449857e-05\n",
      "[tensor(0.9850), tensor(0.0018), tensor(0.0995), tensor(0.0586), tensor(0.1603), tensor(0.0243), tensor(0.2743), tensor(0.0030), tensor(0.2160), tensor(5.4779e-05)]\n"
     ]
    }
   ],
   "source": [
    "# 开始训练\n",
    "train_loss = list(range(num_epoches))\n",
    "for epoch in range(num_epoches):\n",
    "    train_loss[epoch] = 0\n",
    "    for train_data in train_loader:\n",
    "        img, label = train_data\n",
    "        img = img.view(img.size(0), -1)\n",
    "        img = Variable(img)\n",
    "        label = Variable(label)\n",
    "        ##### forward #####\n",
    "        out = model(img)\n",
    "        loss = loss_func(out, label)\n",
    "        ##### backward ###\n",
    "        opti_func.zero_grad()\n",
    "        loss.backward()\n",
    "        opti_func.step()\n",
    "    print(\"train loss: {}\".format(loss))\n",
    "    train_loss[epoch] = loss.data\n",
    "print(train_loss)\n",
    "    \n",
    "# Simple_Net      : train loss: 0.49769243597984314\n",
    "# Activation_Net  : train loss: 0.025277957320213318\n",
    "# Batch_Net.      : train loss: 0.05666544288396835"
   ]
  },
  {
   "cell_type": "code",
   "execution_count": 51,
   "id": "ecfb1e89-c842-4074-8806-688380e9b111",
   "metadata": {},
   "outputs": [
    {
     "name": "stdout",
     "output_type": "stream",
     "text": [
      "Test Loss: 0.207220, Acc: 0.950500\n"
     ]
    }
   ],
   "source": [
    "# 开始测试\n",
    "model.eval()\n",
    "eval_loss = 0\n",
    "eval_acc = 0\n",
    "\n",
    "for data in test_loader:\n",
    "    img, label = data\n",
    "    img = img.view(img.size(0), -1)\n",
    "    img = Variable(img)\n",
    "    label = Variable(label)\n",
    "    \n",
    "    out = model(img)\n",
    "    loss = loss_func(out, label)\n",
    "    eval_loss += loss.data * label.size(0)\n",
    "    _, pred = torch.max(out, 1)\n",
    "    num_correct = (pred==label).sum()\n",
    "    eval_acc += num_correct.data\n",
    "\n",
    "print('Test Loss: {:.6f}, Acc: {:.6f}'.format(eval_loss/(len(test_dataset)), eval_acc/(len(test_dataset))))\n",
    "\n",
    "# Simple_Net      : Test Loss: 0.505879, Acc: 0.849400\n",
    "# Activation_Net  : Test Loss: 0.207220, Acc: 0.950500\n",
    "# Batch_Net       : Test Loss: 0.087046, Acc: 0.977900"
   ]
  },
  {
   "cell_type": "code",
   "execution_count": 65,
   "id": "abda147f-5c9c-47e3-bf7e-56bdd3104a39",
   "metadata": {},
   "outputs": [
    {
     "data": {
      "image/png": "[encoded data removed]",
      "text/plain": [
       "<Figure size 432x288 with 1 Axes>"
      ]
     },
     "metadata": {
      "needs_background": "light"
     },
     "output_type": "display_data"
    }
   ],
   "source": [
    "plt.plot(train_loss)\n",
    "plt.show()"
   ]
  }
 ],
 "metadata": {
  "kernelspec": {
   "display_name": "Python 3 (ipykernel)",
   "language": "python",
   "name": "python3"
  },
  "language_info": {
   "codemirror_mode": {
    "name": "ipython",
    "version": 3
   },
   "file_extension": ".py",
   "mimetype": "text/x-python",
   "name": "python",
   "nbconvert_exporter": "python",
   "pygments_lexer": "ipython3",
   "version": "3.7.3"
  }
 },
 "nbformat": 4,
 "nbformat_minor": 5
}
