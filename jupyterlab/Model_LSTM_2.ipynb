{
 "cells": [
  {
   "cell_type": "code",
   "execution_count": 1,
   "id": "df055ebf-71d4-4fdd-95a3-b391fdfc40bd",
   "metadata": {},
   "outputs": [],
   "source": [
    "# 两层 LSTM 的结构"
   ]
  },
  {
   "cell_type": "code",
   "execution_count": 2,
   "id": "39540de0-f3f7-49d4-85fc-8e5b795f8389",
   "metadata": {},
   "outputs": [],
   "source": [
    "# 准备数据\n",
    "import torch\n",
    "import torch.nn as nn\n",
    "from torch.autograd import Variable\n",
    "import numpy as np\n",
    "import pandas as pd\n",
    "import time\n",
    "import random\n",
    "import matplotlib.pyplot as plt"
   ]
  },
  {
   "cell_type": "code",
   "execution_count": 3,
   "id": "3b46b98e-ca92-437c-baf0-ff836e490e4c",
   "metadata": {},
   "outputs": [],
   "source": [
    "np.random.seed(1027)\n",
    "torch.manual_seed(1027)\n",
    "torch.cuda.manual_seed(1027)\n",
    "torch.backends.cudnn.deterministic = True"
   ]
  },
  {
   "cell_type": "code",
   "execution_count": 4,
   "id": "7ede11b1-7293-4e58-a48c-d5ccc006a0e1",
   "metadata": {},
   "outputs": [],
   "source": [
    "# 设置 GPU 优先\n",
    "device = torch.device('cuda:0' if torch.cuda.is_available() else 'cpu')\n",
    "\n",
    "# 加载数据\n",
    "dataset = pd.read_csv(\"601229.csv\", index_col=0)\n",
    "dataset = dataset.drop(['date'], axis=1)\n",
    "dataset = dataset.fillna(0)"
   ]
  },
  {
   "cell_type": "code",
   "execution_count": 5,
   "id": "9d794ff1-ee8b-4515-a9fc-5a02349c8573",
   "metadata": {},
   "outputs": [
    {
     "name": "stdout",
     "output_type": "stream",
     "text": [
      "rolling_data shape: (786, 25, 139)\n",
      "seq count: 786\n",
      "seq length: 25\n",
      "TRAIN_BATCH_COUNT : 17\n",
      "VALID_BATCH_COUNT : 2\n",
      "TEST_BATCH_COUNT  : 1\n",
      "train_x: torch.Size([17, 40, 25, 138])\n",
      "train_y: torch.Size([17, 40, 1, 1])\n",
      "valid_x: torch.Size([2, 40, 25, 138])\n",
      "valid_y: torch.Size([2, 40, 1, 1])\n",
      "test_x:  torch.Size([1, 26, 25, 138])\n",
      "test_y:  torch.Size([1, 26, 1, 1])\n",
      "train_batch_count: 17\n",
      "valid_batch_count: 2\n",
      "test_batch_count:  1\n"
     ]
    }
   ],
   "source": [
    "# 将数据按照BATCH_SIZE的窗口进行滑动，每个窗口数据做一组\n",
    "# # 数据转成sequence的格式，这里定义每个seq的长度\n",
    "TRAIN_VALIDATION_RATIO = 0.9\n",
    "TRAIN_BATCH_SIZE = 40                                                        # 注意：BATCH_SIZE是要能够整除(total_seq_count-1)的\n",
    "TEST_BATCH_SIZE = 1\n",
    "SEQ_LENGTH = 25\n",
    "Y_SEQ_LEN = 1                                                         # 要用2个y来表示预测的第一天和预测的第二天，对应 \"future\" 和 \"future2\",每个y都是1-D的，y的seq_len是2\n",
    "Y_DIM = 1\n",
    "X_DIM = dataset.shape[1]-Y_SEQ_LEN                                    # 表示输入的sequence里每个element有122维度，也是encoder的input_dim\n",
    "\n",
    "# 把数据切换成 BATCH_SIZE 的一个个batch\n",
    "rolling_data = pd.DataFrame()\n",
    "for i in dataset.rolling(SEQ_LENGTH):\n",
    "    if i.shape[0] == SEQ_LENGTH:\n",
    "        rolling_data = rolling_data.append(i)\n",
    "\n",
    "rolling_data = rolling_data.values.reshape(-1, SEQ_LENGTH, X_DIM+Y_SEQ_LEN)                   # 数据一共是 seq_count x seq_len x (x_in_dim+Y_SEQ_LEN) \n",
    "\n",
    "print(\"rolling_data shape: {}\".format(rolling_data.shape))\n",
    "print(\"seq count: {}\".format(rolling_data.shape[0]))                                       # 所以一共有 seq_count 列数据，每一行的数据是123维 （包括y）\n",
    "print(\"seq length: {}\".format(SEQ_LENGTH))\n",
    "\n",
    "# TEST_BATCH_COUNT  = (rolling_data.shape[0])%TRAIN_BATCH_SIZE\n",
    "TEST_BATCH_SIZE  = (rolling_data.shape[0])%TRAIN_BATCH_SIZE\n",
    "if TEST_BATCH_SIZE == 0:                                                                   # 如果 rolling_data 刚好被整除，那就专门留一整块给test，全部算一个batch\n",
    "    TEST_BATCH_SIZE = TRAIN_BATCH_SIZE\n",
    "TEST_BATCH_COUNT = 1\n",
    "TRAIN_BATCH_COUNT = int(((rolling_data.shape[0]-TEST_BATCH_SIZE*TEST_BATCH_COUNT)//TRAIN_BATCH_SIZE) * TRAIN_VALIDATION_RATIO)\n",
    "VALID_BATCH_COUNT = int(((rolling_data.shape[0]-TEST_BATCH_SIZE*TEST_BATCH_COUNT)//TRAIN_BATCH_SIZE) - TRAIN_BATCH_COUNT)\n",
    "\n",
    "print(\"TRAIN_BATCH_COUNT : {}\".format(TRAIN_BATCH_COUNT))\n",
    "print(\"VALID_BATCH_COUNT : {}\".format(VALID_BATCH_COUNT))\n",
    "print(\"TEST_BATCH_COUNT  : {}\".format(TEST_BATCH_COUNT))\n",
    "\n",
    "# train = rolling_data[:-test_seq_count].reshape(-1, BATCH_SIZE, SEQ_LENGTH, X_DIM+Y_SEQ_LEN)           # 把数据转成 tain_batch_count x BATCH_SIZE x seq_len x in_dim 格式\n",
    "# test  = rolling_data[-test_seq_count:].reshape(-1, BATCH_SIZE, SEQ_LENGTH, X_DIM+Y_SEQ_LEN)           # 把数据转成 test_batch_count x BATCH_SIZE x seq_len x in_dim 格式\n",
    "\n",
    "train = rolling_data[:TRAIN_BATCH_COUNT*TRAIN_BATCH_SIZE].reshape(TRAIN_BATCH_COUNT, TRAIN_BATCH_SIZE, SEQ_LENGTH, X_DIM+Y_DIM*Y_SEQ_LEN)                    # 把数据转成 tain_batch_count x TRAIN_BATCH_SIZE x seq_len x in_dim 格式\n",
    "valid = rolling_data[TRAIN_BATCH_COUNT*TRAIN_BATCH_SIZE:-TEST_BATCH_COUNT*TEST_BATCH_SIZE].reshape(VALID_BATCH_COUNT, TRAIN_BATCH_SIZE, SEQ_LENGTH, X_DIM+Y_DIM*Y_SEQ_LEN)     # 把数据转成 tain_batch_count x TRAIN_BATCH_SIZE x seq_len x in_dim 格式\n",
    "test  = rolling_data[-TEST_BATCH_COUNT*TEST_BATCH_SIZE:].reshape(TEST_BATCH_COUNT, TEST_BATCH_SIZE, SEQ_LENGTH, X_DIM+Y_DIM*Y_SEQ_LEN)                     # 把数据转成 test_batch_count x TEST_BATCH_SIZE x seq_len x in_dim 格式\n",
    "\n",
    "TRAIN_BATCH_COUNT = train.shape[0]\n",
    "TRAIN_BATCH_SIZE = train.shape[1]\n",
    "VALID_BATCH_COUNT = valid.shape[0]\n",
    "VALID_BATCH_SIZE = valid.shape[1]\n",
    "TEST_BATCH_COUNT = test.shape[0]\n",
    "TEST_BATCH_SIZE = test.shape[1]\n",
    "\n",
    "train = torch.tensor(train)\n",
    "valid = torch.tensor(valid)\n",
    "test  = torch.tensor(test)\n",
    "\n",
    "\n",
    "train_x, train_y = train[:,:,:,Y_SEQ_LEN:], train[:,:,-1:,0:Y_SEQ_LEN]           # [train_batch_count, batch_size, sequence_length, XorY dimission]\n",
    "valid_x, valid_y = valid[:,:,:,Y_SEQ_LEN:], valid[:,:,-1:,0:Y_SEQ_LEN]           # [valid_batch_count, batch_size, sequence_length, XorY dimission]\n",
    "test_x,  test_y  = test[:,:,:, Y_SEQ_LEN:],  test[:,:,-1:,0:Y_SEQ_LEN]           # [train_batch_count, batch_size, sequence_length, XorY dimission]\n",
    "\n",
    "train_y = train_y.permute(0, 1, 3, 2)                                    # conver from [train_batch_count, batch_size, seq_length, y_seq_len]  to [train_batch_count, batch_size, y_seq_len, 1-dim]\n",
    "valid_y = valid_y.permute(0, 1, 3, 2)                                    # conver from [train_batch_count, batch_size, seq_length, y_seq_len]  to [train_batch_count, batch_size, y_seq_len, 1-dim]\n",
    "test_y  =  test_y.permute(0, 1, 3, 2)                                    # conver from [test_batch_count, batch_size, seq_length, y_seq_len]  to  [test_batch_count, batch_size, y_seq_len, 1-dim]\n",
    "\n",
    "\n",
    "train_x = train_x.to(device)\n",
    "train_y = train_y.to(device)\n",
    "valid_x = valid_x.to(device)\n",
    "valid_y = valid_y.to(device)\n",
    "test_x = test_x.to(device)\n",
    "test_y = test_y.to(device)\n",
    "\n",
    "print(\"train_x: {}\".format(train_x.shape))\n",
    "print(\"train_y: {}\".format(train_y.shape))\n",
    "print(\"valid_x: {}\".format(valid_x.shape))\n",
    "print(\"valid_y: {}\".format(valid_y.shape))\n",
    "print(\"test_x:  {}\".format(test_x.shape))\n",
    "print(\"test_y:  {}\".format(test_y.shape))\n",
    "print(\"train_batch_count: {}\".format(train.shape[0]))\n",
    "print(\"valid_batch_count: {}\".format(valid.shape[0]))\n",
    "print(\"test_batch_count:  {}\".format(test.shape[0]))"
   ]
  },
  {
   "cell_type": "code",
   "execution_count": 6,
   "id": "5f5b7bce-a6af-4fc4-bada-7dd20985f789",
   "metadata": {},
   "outputs": [],
   "source": [
    "# Define 2-lyaers LSTM class\n",
    "\n",
    "class LSTMModel(nn.Module):\n",
    "    def __init__(self, input_size, hidden_dim_size, num_layers, output_size, dropout=0.1):\n",
    "        super().__init__()\n",
    "        self.dropout = nn.Dropout(dropout)\n",
    "        \n",
    "        self.lstm1 = nn.LSTM(input_size=input_size,      hidden_size=hidden_dim_size, num_layers=num_layers, batch_first=True, dropout=dropout)\n",
    "        self.lstm2 = nn.LSTM(input_size=hidden_dim_size, hidden_size=hidden_dim_size, num_layers=num_layers, batch_first=True, dropout=dropout)\n",
    "\n",
    "\n",
    "        self.linear_1 = nn.Linear(hidden_dim_size, int(hidden_dim_size/4))\n",
    "        self.relu = nn.ReLU()\n",
    "        self.linear_2 = nn.Linear(hidden_dim_size, output_size)\n",
    "\n",
    "        # self.h10 = torch.zeros(NUM_LAYERS, BATCH_SIZE, int(hidden_dim_size/2)).double().to(device)\n",
    "        # self.c10 = torch.zeros(NUM_LAYERS, BATCH_SIZE, int(hidden_dim_size/2)).double().to(device)\n",
    "        # self.h20 = torch.zeros(NUM_LAYERS, BATCH_SIZE, hidden_dim_size).double().to(device)\n",
    "        # self.c20 = torch.zeros(NUM_LAYERS, BATCH_SIZE, hidden_dim_size).double().to(device)\n",
    "        \n",
    "        self.init_weights2()\n",
    "\n",
    "    def init_weights1(self):\n",
    "        for name, param in self.lstm1.named_parameters():\n",
    "            if 'bias' in name:\n",
    "                nn.init.constant_(param, 0.0)\n",
    "            elif 'weight_ih' in name:\n",
    "                nn.init.kaiming_normal_(param)\n",
    "            elif 'weight_hh' in name:\n",
    "                nn.init.orthogonal_(param)\n",
    "        for name, param in self.lstm2.named_parameters():\n",
    "            if 'bias' in name:\n",
    "                nn.init.constant_(param, 0.0)\n",
    "            elif 'weight_ih' in name:\n",
    "                nn.init.kaiming_normal_(param)\n",
    "            elif 'weight_hh' in name:\n",
    "                nn.init.orthogonal_(param)\n",
    "                \n",
    "    def init_weights2(self):\n",
    "        for name, param in self.lstm1.named_parameters():\n",
    "            if 'bias' in name:\n",
    "                nn.init.constant_(param, 0.0)\n",
    "            elif 'weight_ih' in name:\n",
    "                nn.init.kaiming_normal_(param)\n",
    "            elif 'weight_hh' in name:\n",
    "                nn.init.kaiming_normal_(param)    \n",
    "        for name, param in self.lstm2.named_parameters():\n",
    "            if 'bias' in name:\n",
    "                nn.init.constant_(param, 0.0)\n",
    "            elif 'weight_ih' in name:\n",
    "                nn.init.kaiming_normal_(param)\n",
    "            elif 'weight_hh' in name:\n",
    "                nn.init.kaiming_normal_(param)    \n",
    "                \n",
    "    def init_weights3(self):\n",
    "        for name, param in self.lstm1.named_parameters():\n",
    "            if 'bias' in name:\n",
    "                nn.init.constant_(param, 0.0)\n",
    "            elif 'weight_ih' in name:\n",
    "                nn.init.orthogonal_(param)\n",
    "            elif 'weight_hh' in name:\n",
    "                nn.init.orthogonal_(param)\n",
    "        for name, param in self.lstm2.named_parameters():\n",
    "            if 'bias' in name:\n",
    "                nn.init.constant_(param, 0.0)\n",
    "            elif 'weight_ih' in name:\n",
    "                nn.init.orthogonal_(param)\n",
    "            elif 'weight_hh' in name:\n",
    "                nn.init.orthogonal_(param)\n",
    "                \n",
    "    def forward(self, x, hidden, cell):\n",
    "\n",
    "        # layer 1\n",
    "        # x = self.linear_1(x)\n",
    "        \n",
    "        x = self.dropout(x)\n",
    "        \n",
    "        # We need to detach as we are doing truncated backpropagation through time (BPTT)\n",
    "        # If we don't, we'll backprop all the way to the start even after going through another batch        \n",
    "        # LSTM layer\n",
    "        # lstm_out, (h_n, c_n) = self.lstm(x, (self.h0.detach(), self.c0.detach()))\n",
    "        \n",
    "        lstm1_out, (h1_n, c1_n) = self.lstm1(x, (hidden, cell))\n",
    "        \n",
    "        # lstm1_out = self.dropout(lstm1_out)\n",
    "        \n",
    "        lstm_out, (h2_n, c2_n) = self.lstm2(lstm1_out, (h1_n, c1_n))\n",
    "\n",
    "        lstm_out = self.dropout(lstm_out)\n",
    "        \n",
    "        # Linear_out = self.linear_1(lstm_out)\n",
    "        # self.relu(Linear_out)\n",
    "        predictions = self.linear_2(lstm_out)\n",
    "        \n",
    "        return predictions, h2_n, c2_n"
   ]
  },
  {
   "cell_type": "code",
   "execution_count": 7,
   "id": "f33bcc6e-17bd-45ef-a37c-0c4fc5266e5e",
   "metadata": {
    "tags": []
   },
   "outputs": [],
   "source": [
    "# 实例化模型\n",
    "HIDDEN_SIZE = 1024\n",
    "NUM_LAYERS = 2\n",
    "\n",
    "model = LSTMModel(input_size=X_DIM, hidden_dim_size=HIDDEN_SIZE, num_layers=NUM_LAYERS, output_size=1).double().to(device)"
   ]
  },
  {
   "cell_type": "code",
   "execution_count": 8,
   "id": "7eaeb8d5-5b0a-459b-80d6-4f3e01be3588",
   "metadata": {},
   "outputs": [],
   "source": [
    "# 训练 LSTM 模型 ---- 这里的损失函数是计算Sequence最后一个元素的预测数据和真实数据差异\n",
    "\n",
    "HIDDEN_SIZE = 1024\n",
    "NUM_LAYERS = 2\n",
    "\n",
    "def RMSELoss(yhat,y):\n",
    "    return torch.sqrt(torch.mean((yhat-y)**2))\n",
    "\n",
    "#MAPE——平均绝对百分比误差  mean_absolute_percent_error\n",
    "def MAPE(y_pred ,y_true):\n",
    "    absolute_percent_error = (torch.abs(y_pred-y_true)+1e-7)/(torch.abs(y_true)+1e-7)\n",
    "    return torch.mean(absolute_percent_error)\n",
    "\n",
    "model = LSTMModel(input_size=X_DIM, hidden_dim_size=HIDDEN_SIZE, num_layers=NUM_LAYERS, output_size=1).double().to(device)\n",
    "LR = 1e-5\n",
    "loss_func = RMSELoss\n",
    "optimizer = torch.optim.Adam(model.parameters(), lr=LR, weight_decay=1e-6)\n",
    "scheduler = torch.optim.lr_scheduler.ExponentialLR(optimizer, gamma=1, last_epoch=-1)"
   ]
  },
  {
   "cell_type": "code",
   "execution_count": 9,
   "id": "93f9863d-1199-43a9-82dc-8dd586f96836",
   "metadata": {
    "tags": []
   },
   "outputs": [
    {
     "name": "stdout",
     "output_type": "stream",
     "text": [
      "9 of 200 epoch   train_loss: 1.075999   valid_loss: 1.167096\n",
      "19 of 200 epoch   train_loss: 0.721753   valid_loss: 0.867879\n",
      "29 of 200 epoch   train_loss: 0.497784   valid_loss: 0.624174\n",
      "39 of 200 epoch   train_loss: 0.318095   valid_loss: 0.401804\n",
      "49 of 200 epoch   train_loss: 0.268041   valid_loss: 0.367531\n",
      "59 of 200 epoch   train_loss: 0.235066   valid_loss: 0.333359\n",
      "69 of 200 epoch   train_loss: 0.275295   valid_loss: 0.306305\n",
      "79 of 200 epoch   train_loss: 0.254477   valid_loss: 0.343178\n",
      "89 of 200 epoch   train_loss: 0.223647   valid_loss: 0.398235\n",
      "99 of 200 epoch   train_loss: 0.241609   valid_loss: 0.360900\n",
      "109 of 200 epoch   train_loss: 0.207002   valid_loss: 0.437676\n",
      "119 of 200 epoch   train_loss: 0.192123   valid_loss: 0.402823\n",
      "129 of 200 epoch   train_loss: 0.227585   valid_loss: 0.496983\n",
      "139 of 200 epoch   train_loss: 0.225207   valid_loss: 0.468026\n",
      "149 of 200 epoch   train_loss: 0.203755   valid_loss: 0.460012\n",
      "159 of 200 epoch   train_loss: 0.184914   valid_loss: 0.407609\n",
      "169 of 200 epoch   train_loss: 0.184417   valid_loss: 0.352055\n",
      "179 of 200 epoch   train_loss: 0.196014   valid_loss: 0.377823\n",
      "189 of 200 epoch   train_loss: 0.174012   valid_loss: 0.374764\n",
      "199 of 200 epoch   train_loss: 0.199006   valid_loss: 0.468353\n"
     ]
    },
    {
     "data": {
      "image/png": "[encoded data removed]",
      "text/plain": [
       "<Figure size 432x288 with 1 Axes>"
      ]
     },
     "metadata": {
      "needs_background": "light"
     },
     "output_type": "display_data"
    }
   ],
   "source": [
    "# 训练 LSTM 模型;  ---- 这里的损失函数是计算Sequence最后一个元素的预测数据和真实数据差异\n",
    "model.train()\n",
    "epoches = 200\n",
    "train_epoch_loss = 0\n",
    "train_epoch_loss_list = []\n",
    "valid_smallest_loss = 1\n",
    "valid_smallest_epoch = 0\n",
    "valid_epoch_loss = 0\n",
    "valid_epoch_loss_list = []\n",
    "\n",
    "train_batch_count = train_x.shape[0]\n",
    "valid_batch_count = valid_x.shape[0]\n",
    "\n",
    "h0 = torch.zeros(NUM_LAYERS, TRAIN_BATCH_SIZE, HIDDEN_SIZE).double().to(device)\n",
    "c0 = torch.zeros(NUM_LAYERS, TRAIN_BATCH_SIZE, HIDDEN_SIZE).double().to(device)\n",
    "\n",
    "\n",
    "for epoch in range(epoches):\n",
    "    batch_loss = []\n",
    "    train_epoch_loss = 0\n",
    "    train_pred_value_list = []\n",
    "    train_real_value_list = []\n",
    "    train_batch_list = list(range(0,train_batch_count))\n",
    "    # random.shuffle(train_batch_list)\n",
    "    for step in train_batch_list:\n",
    "        train_pred, hn, cn = model(train_x[step], h0, c0)\n",
    "        # h0, c0 = hn.detach(), cn.detach()\n",
    "        loss = loss_func(train_pred[:,-1,-1], train_y[step][:,-1,-1])                # Compare the all sequences' last element in one batch\n",
    "        train_pred_value_list.extend(list(train_pred[:,-1].cpu().detach().flatten().numpy() ))\n",
    "        train_real_value_list.extend(list(train_y[step,:,-1,-1].cpu().detach().flatten().numpy() ))\n",
    "        optimizer.zero_grad()\n",
    "        loss.backward()\n",
    "        torch.nn.utils.clip_grad_norm_(model.parameters(), max_norm=20, norm_type=2)\n",
    "        optimizer.step()\n",
    "        batch_loss.append(loss.cpu().data.numpy())\n",
    "    # print(batch_loss)\n",
    "    train_epoch_loss = np.mean(batch_loss)\n",
    "\n",
    "    batch_loss = []\n",
    "    valid_epoch_loss = 0\n",
    "    valid_pred_value_list = []\n",
    "    valid_real_value_list = []\n",
    "    for step in range(valid_batch_count):\n",
    "        valid_pred, hn, cn = model(valid_x[step], h0, c0)\n",
    "        loss = loss_func(valid_pred[:,-1,-1], valid_y[step][:,-1,-1])\n",
    "        valid_pred_value_list.extend(list(valid_pred[:,-1].cpu().detach().flatten().numpy()))\n",
    "        valid_real_value_list.extend(list(valid_y[step,:,-1,-1].cpu().detach().flatten().numpy()))\n",
    "        batch_loss.append(loss.cpu().data.numpy())\n",
    "    # print(batch_loss)\n",
    "    valid_epoch_loss = np.mean(batch_loss)\n",
    "    \n",
    "    if ((epoch+1) %10) == 0:\n",
    "        print(\"{} of {} epoch   train_loss: {:.6f}   valid_loss: {:.6f}\".format(epoch, epoches, train_epoch_loss, valid_epoch_loss))\n",
    "\n",
    "    valid_epoch_loss_list.append(valid_epoch_loss)\n",
    "    train_epoch_loss_list.append(train_epoch_loss)\n",
    "\n",
    "plt.plot(train_epoch_loss_list, 'r-')\n",
    "plt.plot(valid_epoch_loss_list, 'b-')\n",
    "plt.show()    "
   ]
  },
  {
   "cell_type": "code",
   "execution_count": 10,
   "id": "e8d4eaee-d674-4cc8-af8e-c958397b5cd0",
   "metadata": {
    "tags": []
   },
   "outputs": [
    {
     "data": {
      "image/png": "[encoded data removed]",
      "text/plain": [
       "<Figure size 432x288 with 1 Axes>"
      ]
     },
     "metadata": {
      "needs_background": "light"
     },
     "output_type": "display_data"
    }
   ],
   "source": [
    "# 这是 train 的预测图形\n",
    "plt.plot(train_real_value_list, 'r-')\n",
    "plt.plot(train_pred_value_list, 'b-')\n",
    "plt.show()\n",
    "# print(train_real_value_list)"
   ]
  },
  {
   "cell_type": "code",
   "execution_count": 11,
   "id": "aadd64ba-7cae-4714-98d7-3ec8cf7e4a00",
   "metadata": {
    "tags": []
   },
   "outputs": [
    {
     "data": {
      "image/png": "[encoded data removed]",
      "text/plain": [
       "<Figure size 432x288 with 1 Axes>"
      ]
     },
     "metadata": {
      "needs_background": "light"
     },
     "output_type": "display_data"
    }
   ],
   "source": [
    "# 这是 vali的预测图形\n",
    "plt.plot(valid_real_value_list, 'r-')\n",
    "plt.plot(valid_pred_value_list, 'b-')\n",
    "plt.show()"
   ]
  },
  {
   "cell_type": "code",
   "execution_count": 12,
   "id": "eccbecf8-5fa2-4006-a154-c30deb5f470c",
   "metadata": {},
   "outputs": [
    {
     "name": "stdout",
     "output_type": "stream",
     "text": [
      "(786, 25, 139)\n",
      "40\n",
      "760\n",
      "(761, 25, 139)\n",
      "torch.Size([19, 40, 25, 138]) torch.Size([19, 40, 1, 1])\n",
      "torch.Size([1, 1, 25, 138]) torch.Size([1, 1, 1, 1])\n",
      "tensor([[[[0.]]]], device='cuda:0', dtype=torch.float64)\n"
     ]
    }
   ],
   "source": [
    "# 把rolling_data再分割为 train / test 就再预测\n",
    "# 既然 预测值 和时序相关性很高，可以考虑太早的零星数据对于test影响不大，可以删掉\n",
    "print(rolling_data.shape)\n",
    "print(TRAIN_BATCH_SIZE)\n",
    "print(((rolling_data.shape[0]-1)//TRAIN_BATCH_SIZE)*TRAIN_BATCH_SIZE)\n",
    "rolling_data = rolling_data[-((rolling_data.shape[0]-1)//TRAIN_BATCH_SIZE)*TRAIN_BATCH_SIZE-1:,]\n",
    "print(rolling_data.shape)\n",
    "\n",
    "train = rolling_data[:-1].reshape(-1, TRAIN_BATCH_SIZE, SEQ_LENGTH, X_DIM+Y_DIM*Y_SEQ_LEN)                    # 把数据转成 tain_batch_count x TRAIN_BATCH_SIZE x seq_len x in_dim 格式\n",
    "test  = rolling_data[-1:].reshape(1, 1, SEQ_LENGTH, X_DIM+Y_DIM*Y_SEQ_LEN)                     # 把数据转成 test_batch_count x TEST_BATCH_SIZE x seq_len x in_dim 格式\n",
    "\n",
    "train = torch.tensor(train).to(device)\n",
    "test  = torch.tensor(test).to(device)\n",
    "\n",
    "train_x, train_y = train[:,:,:,Y_SEQ_LEN:], train[:,:,-1:,0:Y_SEQ_LEN]           # [train_batch_count, batch_size, sequence_length, XorY dimission]\n",
    "test_x,  test_y  = test[:,:,:, Y_SEQ_LEN:],  test[:,:,-1:,0:Y_SEQ_LEN]           # [train_batch_count, batch_size, sequence_length, XorY dimission]\n",
    "print(train_x.shape, train_y.shape)\n",
    "print(test_x.shape, test_y.shape)\n",
    "print(test_y)"
   ]
  },
  {
   "cell_type": "code",
   "execution_count": 13,
   "id": "366b1fe3-8ce2-4887-ad39-b5281ece8c0e",
   "metadata": {
    "jupyter": {
     "source_hidden": true
    },
    "tags": []
   },
   "outputs": [
    {
     "name": "stdout",
     "output_type": "stream",
     "text": [
      "9 of 200 epoch   train_loss: 1.058580\n",
      "19 of 200 epoch   train_loss: 0.566292\n",
      "29 of 200 epoch   train_loss: 0.651194\n",
      "39 of 200 epoch   train_loss: 0.394204\n",
      "49 of 200 epoch   train_loss: 0.355252\n",
      "59 of 200 epoch   train_loss: 0.369913\n",
      "69 of 200 epoch   train_loss: 0.291685\n",
      "79 of 200 epoch   train_loss: 0.240643\n",
      "89 of 200 epoch   train_loss: 0.216833\n",
      "99 of 200 epoch   train_loss: 0.214223\n",
      "109 of 200 epoch   train_loss: 0.244823\n",
      "119 of 200 epoch   train_loss: 0.227368\n",
      "129 of 200 epoch   train_loss: 0.203216\n",
      "139 of 200 epoch   train_loss: 0.195952\n",
      "149 of 200 epoch   train_loss: 0.203443\n",
      "159 of 200 epoch   train_loss: 0.213043\n",
      "169 of 200 epoch   train_loss: 0.193751\n",
      "179 of 200 epoch   train_loss: 0.196570\n",
      "189 of 200 epoch   train_loss: 0.168394\n",
      "199 of 200 epoch   train_loss: 0.178311\n"
     ]
    },
    {
     "data": {
      "image/png": "[encoded data removed]",
      "text/plain": [
       "<Figure size 432x288 with 1 Axes>"
      ]
     },
     "metadata": {
      "needs_background": "light"
     },
     "output_type": "display_data"
    }
   ],
   "source": [
    "# 再重新生成模型再 train 模型\n",
    "model = LSTMModel(input_size=X_DIM, hidden_dim_size=HIDDEN_SIZE, num_layers=NUM_LAYERS, output_size=1).double().to(device)\n",
    "LR = 1e-5\n",
    "# loss_func = nn.MSELoss(reduction=\"mean\")\n",
    "loss_func = RMSELoss\n",
    "optimizer = torch.optim.Adam(model.parameters(), lr=LR, weight_decay=1e-6)\n",
    "scheduler = torch.optim.lr_scheduler.ExponentialLR(optimizer, gamma=1, last_epoch=-1)\n",
    "model.train()\n",
    "\n",
    "h0 = torch.zeros(NUM_LAYERS, TRAIN_BATCH_SIZE, HIDDEN_SIZE).double().to(device)\n",
    "c0 = torch.zeros(NUM_LAYERS, TRAIN_BATCH_SIZE, HIDDEN_SIZE).double().to(device)\n",
    "\n",
    "\n",
    "for epoch in range(epoches):\n",
    "    batch_loss = []\n",
    "    train_epoch_loss = 0\n",
    "    train_pred_value_list = []\n",
    "    train_real_value_list = []\n",
    "    train_batch_list = list(range(0,train_batch_count))\n",
    "    # random.shuffle(train_batch_list)\n",
    "    for step in range(0, train_x.shape[0]):\n",
    "        train_pred, hn, cn = model(train_x[step], h0, c0)\n",
    "        # h0, c0 = hn.detach(), cn.detach()\n",
    "        loss = loss_func(train_pred[:,-1,-1], train_y[step][:,-1,-1])                # Compare the all sequences' last element in one batch\n",
    "        train_pred_value_list.extend(list(train_pred[:,-1,-1].cpu().detach().flatten().numpy() ))\n",
    "        train_real_value_list.extend(list(train_y[step,:,-1,-1].cpu().detach().flatten().numpy() ))\n",
    "        optimizer.zero_grad()\n",
    "        loss.backward()\n",
    "        torch.nn.utils.clip_grad_norm_(model.parameters(), max_norm=20, norm_type=2)\n",
    "        optimizer.step()\n",
    "        batch_loss.append(loss.cpu().data.numpy())\n",
    "    if ((epoch+1) %10) == 0:\n",
    "        print(\"{} of {} epoch   train_loss: {:.6f}\".format(epoch, epoches, np.mean(batch_loss)))\n",
    "    train_epoch_loss = np.mean(batch_loss)\n",
    "    \n",
    "plt.plot(train_real_value_list, 'r-')\n",
    "plt.plot(train_pred_value_list, 'b-')\n",
    "plt.show()    "
   ]
  },
  {
   "cell_type": "code",
   "execution_count": 14,
   "id": "9f0c5c0b-33bf-4dda-92e3-ffacba5f9bd4",
   "metadata": {
    "tags": []
   },
   "outputs": [
    {
     "name": "stdout",
     "output_type": "stream",
     "text": [
      "torch.Size([40, 25, 1])\n",
      "torch.Size([19, 40, 1, 1])\n",
      "tensor([[6.7600]], device='cuda:0', dtype=torch.float64)\n",
      "tensor([6.8475], device='cuda:0', dtype=torch.float64,\n",
      "       grad_fn=<SelectBackward0>)\n"
     ]
    }
   ],
   "source": [
    "print(train_pred.shape)\n",
    "print(train_y.shape)\n",
    "\n",
    "print(train_y[-1,-1])\n",
    "print(train_pred[-1,-1])"
   ]
  },
  {
   "cell_type": "code",
   "execution_count": 15,
   "id": "07c998eb-eb02-4689-b9c4-d7117a02fe84",
   "metadata": {},
   "outputs": [
    {
     "data": {
      "image/png": "[encoded data removed]",
      "text/plain": [
       "<Figure size 432x288 with 1 Axes>"
      ]
     },
     "metadata": {
      "needs_background": "light"
     },
     "output_type": "display_data"
    }
   ],
   "source": [
    "plt.plot(train_real_value_list, 'r-')\n",
    "plt.plot(train_pred_value_list, 'b-')\n",
    "plt.show()"
   ]
  },
  {
   "cell_type": "code",
   "execution_count": 16,
   "id": "b36e041f-9ac9-41ce-96f8-03f7872bb03a",
   "metadata": {},
   "outputs": [
    {
     "name": "stdout",
     "output_type": "stream",
     "text": [
      "6.76\n",
      "6.8474968371672755\n"
     ]
    }
   ],
   "source": [
    "# print(train_x.shape)\n",
    "# print(test_x.shape)\n",
    "print(train_real_value_list[-1])\n",
    "print(train_pred_value_list[-1])"
   ]
  },
  {
   "cell_type": "code",
   "execution_count": 17,
   "id": "d9860a56-8be8-42d6-a4f8-2b5befbdc214",
   "metadata": {},
   "outputs": [
    {
     "name": "stdout",
     "output_type": "stream",
     "text": [
      "torch.Size([1, 1, 1, 1])\n",
      "torch.Size([1, 25, 1])\n",
      "tensor([[[[0.]]]], device='cuda:0', dtype=torch.float64)\n",
      "tensor([[6.8654]], device='cuda:0', dtype=torch.float64,\n",
      "       grad_fn=<SliceBackward0>)\n"
     ]
    }
   ],
   "source": [
    "model.eval()\n",
    "\n",
    "h0 = torch.zeros(NUM_LAYERS, test_x.shape[1], HIDDEN_SIZE).double().to(device)\n",
    "c0 = torch.zeros(NUM_LAYERS, test_x.shape[1], HIDDEN_SIZE).double().to(device)\n",
    "\n",
    "pred, hn, cn = model(test_x[-1], h0, c0)\n",
    "\n",
    "print(test_y.shape)\n",
    "print(pred.shape)\n",
    "print(test_y)\n",
    "print(pred[:,-1,:])"
   ]
  },
  {
   "cell_type": "code",
   "execution_count": null,
   "id": "76b83f3b-d110-4968-a685-13beebc4dec9",
   "metadata": {},
   "outputs": [],
   "source": []
  }
 ],
 "metadata": {
  "kernelspec": {
   "display_name": "Python 3 (ipykernel)",
   "language": "python",
   "name": "python3"
  },
  "language_info": {
   "codemirror_mode": {
    "name": "ipython",
    "version": 3
   },
   "file_extension": ".py",
   "mimetype": "text/x-python",
   "name": "python",
   "nbconvert_exporter": "python",
   "pygments_lexer": "ipython3",
   "version": "3.7.0"
  }
 },
 "nbformat": 4,
 "nbformat_minor": 5
}
