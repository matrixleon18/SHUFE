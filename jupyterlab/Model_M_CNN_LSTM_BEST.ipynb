{
 "cells": [
  {
   "cell_type": "code",
   "execution_count": 1,
   "id": "0f6e9707-a755-443b-8483-00b9df2ea38b",
   "metadata": {},
   "outputs": [],
   "source": [
    "# CNN + LSTM + Multi-Head-Attention 的结构"
   ]
  },
  {
   "cell_type": "code",
   "execution_count": 2,
   "id": "301a0bfe-88e2-4398-9334-cc77d8bb8563",
   "metadata": {},
   "outputs": [],
   "source": [
    "# 准备数据\n",
    "import torch\n",
    "import torch.nn as nn\n",
    "from torch.autograd import Variable\n",
    "import torch.nn.functional as F\n",
    "import numpy as np\n",
    "import pandas as pd\n",
    "import time\n",
    "import random\n",
    "import math\n",
    "import matplotlib.pyplot as plt"
   ]
  },
  {
   "cell_type": "code",
   "execution_count": 3,
   "id": "0a0c3f73-0613-4605-9691-ba3dfbbfbf66",
   "metadata": {},
   "outputs": [],
   "source": [
    "np.random.seed(3)\n",
    "torch.manual_seed(3)\n",
    "torch.cuda.manual_seed(3)\n",
    "\n",
    "# np.random.seed(1027)\n",
    "# torch.manual_seed(1027)\n",
    "# torch.cuda.manual_seed(1027)\n",
    "torch.backends.cudnn.deterministic = True"
   ]
  },
  {
   "cell_type": "code",
   "execution_count": 4,
   "id": "fe160cab-111b-4904-abb0-8204a8a10669",
   "metadata": {},
   "outputs": [
    {
     "name": "stdout",
     "output_type": "stream",
     "text": [
      "(825, 136)\n",
      "(825, 137)\n",
      "Index(['future', 'close', 'hl_pct', 'co_pct', 'vm5_pct', 'close-sma5',\n",
      "       'close-sma10', 'close-sma30', 'close-sma60', 'close-sma90',\n",
      "       ...\n",
      "       'max5-max60', 'max10-max30', 'max10-max60', 'max30-max60', 'mon', 'tue',\n",
      "       'wed', 'thr', 'fri', 'dummy'],\n",
      "      dtype='object', length=137)\n"
     ]
    }
   ],
   "source": [
    "# 设置 GPU 优先\n",
    "device = torch.device('cuda:0' if torch.cuda.is_available() else 'cpu')\n",
    "\n",
    "# 加载数据\n",
    "# dataset = pd.read_csv(\"601229_price_qfq_137dims.csv\", index_col=0)\n",
    "dataset = pd.read_csv(\"601229_price_qfq_137dims_part.csv\", index_col=0)\n",
    "# dataset = dataset.drop(['date'], axis=1)\n",
    "dataset = dataset.fillna(0)\n",
    "print(dataset.shape)\n",
    "if dataset.shape[0] %2 == 1:                                                  # 因为 position_encoding需要偶数的dim，才能对称\n",
    "    dataset['dummy'] = 0\n",
    "print(dataset.shape)\n",
    "print(dataset.columns)"
   ]
  },
  {
   "cell_type": "code",
   "execution_count": 5,
   "id": "e812258d-0a75-4bff-b1eb-383f1f9f96be",
   "metadata": {},
   "outputs": [
    {
     "name": "stdout",
     "output_type": "stream",
     "text": [
      "rolling_data shape: (801, 25, 137)\n",
      "seq count: 801\n",
      "seq length: 25\n",
      "TRAIN_BATCH_COUNT : 18\n",
      "VALID_BATCH_COUNT : 2\n",
      "TEST_BATCH_COUNT  : 1\n",
      "train_x: torch.Size([18, 40, 25, 136])\n",
      "train_y: torch.Size([18, 40, 1, 1])\n",
      "valid_x: torch.Size([2, 40, 25, 136])\n",
      "valid_y: torch.Size([2, 40, 1, 1])\n",
      "test_x:  torch.Size([1, 1, 25, 136])\n",
      "test_y:  torch.Size([1, 1, 1, 1])\n",
      "train_batch_count: 18\n",
      "valid_batch_count: 2\n",
      "test_batch_count:  1\n"
     ]
    }
   ],
   "source": [
    "# 将数据按照BATCH_SIZE的窗口进行滑动，每个窗口数据做一组\n",
    "# # 数据转成sequence的格式，这里定义每个seq的长度\n",
    "TRAIN_VALIDATION_RATIO = 0.9\n",
    "TRAIN_BATCH_SIZE = 40                                                        # 注意：BATCH_SIZE是要能够整除(total_seq_count-1)的\n",
    "TEST_BATCH_SIZE = 1\n",
    "SEQ_LENGTH = 25\n",
    "Y_SEQ_LEN = 1                                                         # 要用2个y来表示预测的第一天和预测的第二天，对应 \"future\" 和 \"future2\",每个y都是1-D的，y的seq_len是2\n",
    "Y_DIM = 1\n",
    "X_DIM = dataset.shape[1]-Y_SEQ_LEN                                    # 表示输入的sequence里每个element有122维度，也是encoder的input_dim\n",
    "\n",
    "# 把数据切换成 BATCH_SIZE 的一个个batch\n",
    "rolling_data = pd.DataFrame()\n",
    "for i in dataset.rolling(SEQ_LENGTH):\n",
    "    if i.shape[0] == SEQ_LENGTH:\n",
    "        rolling_data = rolling_data.append(i)\n",
    "\n",
    "rolling_data = rolling_data.values.reshape(-1, SEQ_LENGTH, X_DIM+Y_SEQ_LEN)                   # 数据一共是 seq_count x seq_len x (x_in_dim+Y_SEQ_LEN) \n",
    "\n",
    "# 打乱train数据\n",
    "# np.random.shuffle(rolling_data)\n",
    "\n",
    "print(\"rolling_data shape: {}\".format(rolling_data.shape))\n",
    "print(\"seq count: {}\".format(rolling_data.shape[0]))                                       # 所以一共有 seq_count 列数据，每一行的数据是123维 （包括y）\n",
    "print(\"seq length: {}\".format(SEQ_LENGTH))\n",
    "\n",
    "# TEST_BATCH_COUNT  = (rolling_data.shape[0])%TRAIN_BATCH_SIZE\n",
    "TEST_BATCH_SIZE  = (rolling_data.shape[0])%TRAIN_BATCH_SIZE\n",
    "if TEST_BATCH_SIZE == 0:                                                                   # 如果 rolling_data 刚好被整除，那就专门留一整块给test，全部算一个batch\n",
    "    TEST_BATCH_SIZE = TRAIN_BATCH_SIZE\n",
    "TEST_BATCH_COUNT = 1\n",
    "TRAIN_BATCH_COUNT = int(((rolling_data.shape[0]-TEST_BATCH_SIZE*TEST_BATCH_COUNT)//TRAIN_BATCH_SIZE) * TRAIN_VALIDATION_RATIO)\n",
    "VALID_BATCH_COUNT = int(((rolling_data.shape[0]-TEST_BATCH_SIZE*TEST_BATCH_COUNT)//TRAIN_BATCH_SIZE) - TRAIN_BATCH_COUNT)\n",
    "\n",
    "print(\"TRAIN_BATCH_COUNT : {}\".format(TRAIN_BATCH_COUNT))\n",
    "print(\"VALID_BATCH_COUNT : {}\".format(VALID_BATCH_COUNT))\n",
    "print(\"TEST_BATCH_COUNT  : {}\".format(TEST_BATCH_COUNT))\n",
    "\n",
    "# train = rolling_data[:-test_seq_count].reshape(-1, BATCH_SIZE, SEQ_LENGTH, X_DIM+Y_SEQ_LEN)           # 把数据转成 tain_batch_count x BATCH_SIZE x seq_len x in_dim 格式\n",
    "# test  = rolling_data[-test_seq_count:].reshape(-1, BATCH_SIZE, SEQ_LENGTH, X_DIM+Y_SEQ_LEN)           # 把数据转成 test_batch_count x BATCH_SIZE x seq_len x in_dim 格式\n",
    "\n",
    "train = rolling_data[:TRAIN_BATCH_COUNT*TRAIN_BATCH_SIZE].reshape(TRAIN_BATCH_COUNT, TRAIN_BATCH_SIZE, SEQ_LENGTH, X_DIM+Y_DIM*Y_SEQ_LEN)                    # 把数据转成 tain_batch_count x TRAIN_BATCH_SIZE x seq_len x in_dim 格式\n",
    "valid = rolling_data[TRAIN_BATCH_COUNT*TRAIN_BATCH_SIZE:-TEST_BATCH_COUNT*TEST_BATCH_SIZE].reshape(VALID_BATCH_COUNT, TRAIN_BATCH_SIZE, SEQ_LENGTH, X_DIM+Y_DIM*Y_SEQ_LEN)     # 把数据转成 tain_batch_count x TRAIN_BATCH_SIZE x seq_len x in_dim 格式\n",
    "test  = rolling_data[-TEST_BATCH_COUNT*TEST_BATCH_SIZE:].reshape(TEST_BATCH_COUNT, TEST_BATCH_SIZE, SEQ_LENGTH, X_DIM+Y_DIM*Y_SEQ_LEN)                     # 把数据转成 test_batch_count x TEST_BATCH_SIZE x seq_len x in_dim 格式\n",
    "\n",
    "TRAIN_BATCH_COUNT = train.shape[0]\n",
    "TRAIN_BATCH_SIZE = train.shape[1]\n",
    "VALID_BATCH_COUNT = valid.shape[0]\n",
    "VALID_BATCH_SIZE = valid.shape[1]\n",
    "TEST_BATCH_COUNT = test.shape[0]\n",
    "TEST_BATCH_SIZE = test.shape[1]\n",
    "\n",
    "train = torch.tensor(train)\n",
    "valid = torch.tensor(valid)\n",
    "test  = torch.tensor(test)\n",
    "\n",
    "\n",
    "train_x, train_y = train[:,:,:,Y_SEQ_LEN:], train[:,:,-1:,0:Y_SEQ_LEN]           # [train_batch_count, batch_size, sequence_length, XorY dimission]\n",
    "valid_x, valid_y = valid[:,:,:,Y_SEQ_LEN:], valid[:,:,-1:,0:Y_SEQ_LEN]           # [valid_batch_count, batch_size, sequence_length, XorY dimission]\n",
    "test_x,  test_y  = test[:,:,:, Y_SEQ_LEN:],  test[:,:,-1:,0:Y_SEQ_LEN]           # [train_batch_count, batch_size, sequence_length, XorY dimission]\n",
    "\n",
    "train_y = train_y.permute(0, 1, 3, 2)                                    # conver from [train_batch_count, batch_size, seq_length, y_seq_len]  to [train_batch_count, batch_size, y_seq_len, 1-dim]\n",
    "valid_y = valid_y.permute(0, 1, 3, 2)                                    # conver from [train_batch_count, batch_size, seq_length, y_seq_len]  to [train_batch_count, batch_size, y_seq_len, 1-dim]\n",
    "test_y  =  test_y.permute(0, 1, 3, 2)                                    # conver from [test_batch_count, batch_size, seq_length, y_seq_len]  to  [test_batch_count, batch_size, y_seq_len, 1-dim]\n",
    "\n",
    "\n",
    "train_x = train_x.to(device)\n",
    "train_y = train_y.to(device)\n",
    "valid_x = valid_x.to(device)\n",
    "valid_y = valid_y.to(device)\n",
    "test_x = test_x.to(device)\n",
    "test_y = test_y.to(device)\n",
    "\n",
    "print(\"train_x: {}\".format(train_x.shape))\n",
    "print(\"train_y: {}\".format(train_y.shape))\n",
    "print(\"valid_x: {}\".format(valid_x.shape))\n",
    "print(\"valid_y: {}\".format(valid_y.shape))\n",
    "print(\"test_x:  {}\".format(test_x.shape))\n",
    "print(\"test_y:  {}\".format(test_y.shape))\n",
    "print(\"train_batch_count: {}\".format(train.shape[0]))\n",
    "print(\"valid_batch_count: {}\".format(valid.shape[0]))\n",
    "print(\"test_batch_count:  {}\".format(test.shape[0]))"
   ]
  },
  {
   "cell_type": "code",
   "execution_count": 25,
   "id": "3699882f-47e3-4cd3-a9ca-9be52a8f89e4",
   "metadata": {},
   "outputs": [],
   "source": [
    "# 定义 PositionEncoding 模型\n",
    "class PositionalEncoding(nn.Module):\n",
    "    def __init__(self, d_model, dropout=0.1, max_len=5000):\n",
    "        super(PositionalEncoding, self).__init__()\n",
    "        self.dropout = nn.Dropout(p=dropout)\n",
    "\n",
    "        pe = torch.zeros(max_len, d_model)                                                                  # seq_len x input_dim\n",
    "        position = torch.arange(0, max_len, dtype=torch.float).unsqueeze(1)                                 # seq_len x 1\n",
    "        div_term = torch.exp(torch.arange(0, d_model, 2).float() * (-math.log(10000.0) / d_model))          # input_dim/2\n",
    "        \n",
    "        pe[:, 0::2] = torch.sin(position * div_term)\n",
    "        pe[:, 1::2] = torch.cos(position * div_term)\n",
    "        pe = pe.unsqueeze(0).transpose(0, 1)\n",
    "        self.register_buffer('pe', pe)\n",
    "\n",
    "    def forward(self, x):\n",
    "        '''\n",
    "        x: [seq_len, batch_size, d_model]\n",
    "        '''\n",
    "        x = x + self.pe[:x.size(0), :]\n",
    "        return self.dropout(x)\n",
    "\n",
    "\n",
    "\n",
    "# 定义 LSTM 模型\n",
    "class LSTMModel(nn.Module):\n",
    "    def __init__(self, input_size, hidden_dim_size, num_layers, output_size, dropout=0.1):\n",
    "        super().__init__()\n",
    "        self.hidden_size = hidden_dim_size\n",
    "        self.sequence_length = SEQ_LENGTH\n",
    "        self.num_layers = num_layers  \n",
    "        self.output_size = output_size\n",
    "        self.input_dim_size = input_size\n",
    "        \n",
    "        self.post=PositionalEncoding(d_model=self.input_dim_size, dropout=0.1, max_len=self.sequence_length)\n",
    "\n",
    "        self.bn1 = nn.BatchNorm1d(256)  \n",
    "        self.bn2 = nn.BatchNorm1d(self.hidden_size)\n",
    "        \n",
    "        self.conv01 = nn.Conv1d(input_size, input_size, kernel_size=2, padding='same')        \n",
    "        self.conv02 = nn.Conv1d(input_size, input_size, kernel_size=3, padding='same')\n",
    "        self.conv03 = nn.Conv1d(input_size, input_size, kernel_size=4, padding='same')\n",
    "        self.conv04 = nn.Conv1d(input_size, input_size, kernel_size=5, padding='same')\n",
    "        self.conv05 = nn.Conv1d(input_size, input_size, kernel_size=6, padding='same')\n",
    "                \n",
    "                \n",
    "        self.num_attention_head = 4                                                                  # 64\n",
    "        self.attention_head_size = int(input_size/self.num_attention_head)                      # 每个头是32个维度\n",
    "        self.all_head_size = self.num_attention_head * self.attention_head_size                       # 所有的头的维度合集\n",
    "        \n",
    "        self.dropout = nn.Dropout(dropout)\n",
    "        \n",
    "        self.lstm0 = nn.LSTM(input_size=input_size, hidden_size=128, num_layers=self.num_layers, batch_first=True, dropout=dropout, bidirectional=True)\n",
    "        \n",
    "        self.lstm1 = nn.LSTM(input_size=6*2*128, hidden_size=1024, num_layers=self.num_layers, batch_first=True, dropout=dropout, bidirectional=True)\n",
    "        \n",
    "        self.lstm2 = nn.LSTM(input_size=2*1024, hidden_size=256, num_layers=self.num_layers, batch_first=True, dropout=dropout, bidirectional=True)\n",
    "        \n",
    "        self.lstm3 = nn.LSTM(input_size=2*256, hidden_size=128, num_layers=self.num_layers, batch_first=True, dropout=dropout, bidirectional=True)\n",
    "        self.lstm4 = nn.LSTM(input_size=2*128, hidden_size=64, num_layers=self.num_layers, batch_first=True, dropout=dropout, bidirectional=True)\n",
    "     \n",
    "        self.layer_norm = nn.LayerNorm(136, elementwise_affine=False)\n",
    "\n",
    "        self.linear_0 = nn.Linear(6*2*128, self.output_size)\n",
    "        \n",
    "        self.linear_1 = nn.Linear(2*1024, self.output_size)          # 这个是将输入的维度转换成 hidden_dim 的\n",
    "\n",
    "        self.linear_2 = nn.Linear(2*256, self.output_size)          # 这个是将输入的维度转换成 hidden_dim 的\n",
    "        \n",
    "        self.linear_3 = nn.Linear(2*128, self.output_size)    # 这个是给最后的多头注意力再乘 W0 的\n",
    "        \n",
    "        self.linear_4 = nn.Linear(2*64, self.output_size)\n",
    "        \n",
    "        self.linear_5 = nn.Linear(2*1024, self.output_size)\n",
    "        \n",
    "        self.relu = nn.LeakyReLU()                                       # 用 relu 来增强模型非线性\n",
    "        self.tanh = nn.Tanh()\n",
    "        \n",
    "        # self.query = nn.Linear(self.hidden_size, self.hidden_size)     # 输入768， 输出多头的维度总数。这里还是768.\n",
    "        # self.key = nn.Linear(self.hidden_size, self.hidden_size)       # 输入768， 输出多头的维度总数。这里还是768.\n",
    "        # self.value = nn.Linear(self.hidden_size, self.hidden_size)     # 输入768， 输出多头的维度总数。这里还是768.\n",
    "        \n",
    "        self.query = nn.Linear(input_size, self.all_head_size)     # 输入768， 输出多头的维度总数。这里还是768.\n",
    "        self.key = nn.Linear(input_size, self.all_head_size)       # 输入768， 输出多头的维度总数。这里还是768.\n",
    "        self.value = nn.Linear(input_size, self.all_head_size)     # 输入768， 输出多头的维度总数。这里还是768.\n",
    "        self.att_linear = nn.Linear(input_size, input_size)    # 这个是给最后的多头注意力再乘 W0 的\n",
    "  \n",
    "        self.init_weights3()\n",
    "\n",
    "\n",
    "                \n",
    "    def init_weights3(self):\n",
    "        for name, param in self.lstm0.named_parameters():\n",
    "            if 'bias' in name:\n",
    "                nn.init.constant_(param, 0.0)\n",
    "            elif 'weight_ih' in name:\n",
    "                nn.init.orthogonal_(param)\n",
    "            elif 'weight_hh' in name:\n",
    "                nn.init.orthogonal_(param)\n",
    "\n",
    "    \n",
    "    \n",
    "    def conv_net01(self, x):\n",
    "        x = x.permute(0, 2, 1)\n",
    "        # x = F.relu(self.conv01(x))\n",
    "        x = self.relu(self.conv01(x))\n",
    "        x = x.permute(0, 2, 1)\n",
    "        return x\n",
    " \n",
    "    def conv_net02(self, x):\n",
    "        x = x.permute(0, 2, 1)\n",
    "        # x = F.relu(self.conv02(x))\n",
    "        x = self.relu(self.conv02(x))\n",
    "        x = x.permute(0, 2, 1)\n",
    "        return x\n",
    "    \n",
    "    def conv_net03(self, x):\n",
    "        x = x.permute(0, 2, 1)\n",
    "        # x = F.relu(self.conv03(x))\n",
    "        x = self.relu(self.conv03(x))\n",
    "        x = x.permute(0, 2, 1)\n",
    "        return x\n",
    "\n",
    "    def conv_net04(self, x):\n",
    "        x = x.permute(0, 2, 1)\n",
    "        # x = F.relu(self.conv04(x))\n",
    "        x = self.relu(self.conv04(x))\n",
    "        x = x.permute(0, 2, 1)\n",
    "        return x\n",
    "    \n",
    "    def conv_net05(self, x):\n",
    "        x = x.permute(0, 2, 1)\n",
    "        x = F.relu(self.conv05(x))\n",
    "        x = x.permute(0, 2, 1)\n",
    "        return x\n",
    "    \n",
    "    def attention_net(self, in_value, mask=None):\n",
    "\n",
    "        batch_size = in_value.shape[0]\n",
    "        seq_len = in_value.shape[1]\n",
    "        hidden_dim = in_value.shape[2]\n",
    "\n",
    "        \n",
    "        # Q : [batch_size, seq_len, hidden_dim] ==> [batch_size, seq_len, num_head, head_size] ==> [batch_size, num_head, seq_len, head_size]\n",
    "        Q = self.query(in_value).reshape(batch_size, seq_len, self.num_attention_head, self.attention_head_size).permute(0, 2, 1, 3)      # 先将 hidden_dim 切成 num_head * head_size ，再将 num_head 和 seq_len互换\n",
    "        K = self.key(in_value).reshape(batch_size, seq_len, self.num_attention_head, self.attention_head_size).permute(0, 2, 1, 3)        # 先将 hidden_dim 切成 num_head * head_size ，再将 num_head 和 seq_len互换\n",
    "        V = self.value(in_value).reshape(batch_size, seq_len, self.num_attention_head, self.attention_head_size).permute(0, 2, 1, 3)      # 先将 hidden_dim 切成 num_head * head_size ，再将 num_head 和 seq_len互换\n",
    "        \n",
    "        # d_k = Q.size(-1)                                                                            # d_k为query的维度。避免概率接近0\n",
    "        \n",
    "        # attention_scores = torch.matmul(query, lstm_output.transpose(1, 2)) / math.sqrt(d_k)     #打分机制  [batch_size, seq_len, hid_dim] * [batch_size, hid_dim, seq_len] ==> scores:[batch_size, seq_len, seq_len], 每个值就是两个输入x元素的相似性\n",
    "        attention_scores = torch.matmul(Q, K.transpose(-1, -2))                                    # [batch_size, num_head, seq_len, head_size] * [batch_size, num_head, head_size, seq_len] ==> [batch_size, num_head, seq_len, seq_len]\n",
    "        \n",
    "        # attention_scores = attention_scores / math.sqrt(d_k)                                       # [batch_size, seq_len, seq_len]\n",
    "        attention_scores = attention_scores / math.sqrt(self.attention_head_size)                  # 多头机制下，hidden-dim被划分为 num_head个区域，所以现在要除的就是每个小区域的维度开方\n",
    "        \n",
    "        # alpha = F.softmax(attention_scores, dim = -1)                                            #对最后一个维度归一化得分  [batch_size, seq_len, seq_len] 保证相似性在一行上归一了。\n",
    "        alpha = nn.Softmax(dim=-1)(attention_scores)                                               # 因为alpha是方阵，0维的seq_len就是真正的序列长度，1维的seq_len是对应每一个element和序列元素相关性。\n",
    "        \n",
    "        # alpha = self.dropout(alpha)\n",
    "\n",
    "        attention = torch.matmul(alpha, V)                                            # [batch_size, num_head, seq_len, seq_len] * [batch_size, num_head, seq_len, head_size] = [batch_size, num_head, seq_len, head_size]\n",
    "        \n",
    "        attention = attention.permute(0, 2, 1, 3).contiguous()                        # [batch_size, num_head, seq_len, head_size] ==> [batch_size, seq_len, num_head, head_size]\n",
    "        # new_attention_shape = attention.size()[:-2] + (self.all_head_size,)\n",
    "        # attention = attention.view(*new_attention_shape)\n",
    "        attention = attention.reshape(batch_size, seq_len, self.all_head_size)\n",
    "        \n",
    "        attention = self.att_linear(attention)\n",
    "        \n",
    "        return attention      \n",
    "        \n",
    "    \n",
    "    def forward(self, x):\n",
    "        batch_size = x.shape[0]\n",
    "        h0 = torch.zeros(2*NUM_LAYERS, batch_size, 128).float().to(device)\n",
    "        c0 = torch.zeros(2*NUM_LAYERS, batch_size, 128).float().to(device)\n",
    "   \n",
    "        h1 = torch.zeros(2*NUM_LAYERS, batch_size, 1024).float().to(device)\n",
    "        c1 = torch.zeros(2*NUM_LAYERS, batch_size, 1024).float().to(device)\n",
    "\n",
    "        h2 = torch.zeros(2*NUM_LAYERS, batch_size, 256).float().to(device)\n",
    "        c2 = torch.zeros(2*NUM_LAYERS, batch_size, 256).float().to(device)\n",
    "        \n",
    "        x = x.float()\n",
    "        \n",
    "        # # 下面这是 position_encoding 实现\n",
    "        # x = x.permute(1, 0, 2)                                                                 # 转化为 seq_len * batch_size * hidden_dim\n",
    "        # # 输入的维度： seq_len * batch * hidden_dim\n",
    "        # x = self.post(x)\n",
    "        # # 输出的维度： seq_len * batch * hidden_dim\n",
    "        # x = x.permute(1, 0, 2)    \n",
    "        \n",
    "        x0 = self.dropout(x)\n",
    "\n",
    "        x0 = self.layer_norm(x0)\n",
    "        x0,_ = self.lstm0(x0, (h0, c0))\n",
    "        \n",
    "        x1 = self.conv_net01(x)                                                                   # 40 x 25 x 256 [batch_size, seq_len, dim]\n",
    "        x1 = self.dropout(x1)        \n",
    "\n",
    "        x1 = self.layer_norm(x1)\n",
    "        x1,_ = self.lstm0(x1, (h0, c0))     \n",
    "        \n",
    "        # lstm1_out, (h1_n, c1_n) = self.lstm1(x1, (hidden, cell))                                  # 40 x 25 x 256 [batch_size, seq_len, dim] \n",
    "        # lstm1_out = self.dropout(lstm1_out)\n",
    "        # lstm1_out,  (h2_n, c2_n) = self.lstm2(lstm1_out, (h1_n, c1_n))                            # 40 x 25 x 256 [batch_size, seq_len, dim] \n",
    "        # attn_output01 = self.attention_net(lstm1_out)                                             # 和LSTM的不同就在于这一句\n",
    "        # x1 = self.attention_net(x1)\n",
    "\n",
    "        x2 = self.conv_net02(x)\n",
    "        x2 = self.dropout(x2)    \n",
    "\n",
    "        x2 = self.layer_norm(x2)\n",
    "        x2,_ = self.lstm0(x2, (h0, c0))    \n",
    "        # lstm1_out, (h1_n, c1_n) = self.lstm1(x2, (hidden, cell))\n",
    "        # lstm1_out = self.dropout(lstm1_out)\n",
    "        # lstm1_out,  (h2_n, c2_n) = self.lstm2(lstm1_out, (h1_n, c1_n))\n",
    "        # attn_output02 = self.attention_net(lstm1_out)       #和LSTM的不同就在于这一句\n",
    "        # x2 = self.attention_net(x2)\n",
    "        \n",
    "        x3 = self.conv_net03(x)\n",
    "        x3 = self.dropout(x3) \n",
    "\n",
    "        x3 = self.layer_norm(x3)\n",
    "        x3,_ = self.lstm0(x3, (h0, c0))       \n",
    "        # lstm1_out, (h1_n, c1_n) = self.lstm1(x3, (hidden, cell))\n",
    "        # lstm1_out = self.dropout(lstm1_out)\n",
    "        # lstm1_out,  (h2_n, c2_n) = self.lstm2(lstm1_out, (h1_n, c1_n))\n",
    "        # attn_output03 = self.attention_net(lstm1_out)       #和LSTM的不同就在于这一句\n",
    "        # x3 = self.attention_net(x3)\n",
    "        \n",
    "        x4 = self.conv_net04(x)\n",
    "        x4 = self.dropout(x4) \n",
    "     \n",
    "        x4 = self.layer_norm(x4)    \n",
    "        x4,_ = self.lstm0(x4, (h0, c0))    \n",
    "        \n",
    "        \n",
    "        x5 = self.conv_net04(x)\n",
    "        x5 = self.dropout(x5) \n",
    "\n",
    "        x5 = self.layer_norm(x5)               \n",
    "        x5,_ = self.lstm0(x5, (h0, c0))\n",
    "        \n",
    "        x_output = torch.cat([x0, x1, x2, x3, x4, x5], 2)  # 40 x 25 x 1024 [batch_size, seq_len, dim]\n",
    "        # x_output = torch.cat([x0, x1, x2, x3], 2)  # 40 x 25 x 1024 [batch_size, seq_len, dim]\n",
    "        \n",
    "        x_ouput = self.dropout(x_output)\n",
    "        # predictions = self.linear_0(x_output)   \n",
    "        \n",
    "        x_output, _ = self.lstm1(x_output, (h1,c1))\n",
    "        \n",
    "        x_ouput = self.dropout(x_output)\n",
    "        \n",
    "        \n",
    "        predictions = self.linear_1(x_output)\n",
    "\n",
    "\n",
    "        \n",
    "        return predictions\n"
   ]
  },
  {
   "cell_type": "code",
   "execution_count": 26,
   "id": "847eb8d0-f5f3-4943-ad9e-b9f2a7ba5c52",
   "metadata": {},
   "outputs": [],
   "source": [
    "# 训练 LSTM 模型 ---- 这里的损失函数是计算Sequence最后一个元素的预测数据和真实数据差异\n",
    "\n",
    "HIDDEN_SIZE = 1024\n",
    "NUM_LAYERS = 2\n",
    "\n",
    "def RMSELoss(yhat,y):\n",
    "    return torch.sqrt(torch.mean((yhat-y)**2))\n",
    "\n",
    "# model = LSTMModel(input_size=train_x.shape[3], hidden_dim_size=HIDDEN_SIZE, num_layers=NUM_LAYERS, seq_len=train_x.shape[2], output_size=1).float().to(device)\n",
    "model = LSTMModel(input_size=X_DIM, hidden_dim_size=HIDDEN_SIZE, num_layers=NUM_LAYERS, output_size=1).float().to(device)\n",
    "LR = 1e-5\n",
    "# loss_func = nn.MSELoss(reduction=\"mean\")\n",
    "loss_func = RMSELoss\n",
    "optimizer = torch.optim.Adam(model.parameters(), lr=LR, weight_decay=1e-6)\n",
    "scheduler = torch.optim.lr_scheduler.ExponentialLR(optimizer, gamma=1, last_epoch=-1)"
   ]
  },
  {
   "cell_type": "code",
   "execution_count": 27,
   "id": "a55a643b-f390-4f82-b4fb-da27b3592b8c",
   "metadata": {
    "tags": []
   },
   "outputs": [
    {
     "name": "stdout",
     "output_type": "stream",
     "text": [
      "9 of 200 epoch   train_loss: 0.481   valid_loss: 0.823\n",
      "19 of 200 epoch   train_loss: 0.304   valid_loss: 0.365\n",
      "29 of 200 epoch   train_loss: 0.219   valid_loss: 0.279\n",
      "39 of 200 epoch   train_loss: 0.201   valid_loss: 0.227\n",
      "49 of 200 epoch   train_loss: 0.193   valid_loss: 0.207\n",
      "59 of 200 epoch   train_loss: 0.153   valid_loss: 0.195\n",
      "69 of 200 epoch   train_loss: 0.148   valid_loss: 0.185\n",
      "79 of 200 epoch   train_loss: 0.146   valid_loss: 0.187\n",
      "89 of 200 epoch   train_loss: 0.190   valid_loss: 0.203\n",
      "99 of 200 epoch   train_loss: 0.162   valid_loss: 0.225\n",
      "109 of 200 epoch   train_loss: 0.129   valid_loss: 0.189\n",
      "119 of 200 epoch   train_loss: 0.149   valid_loss: 0.188\n",
      "129 of 200 epoch   train_loss: 0.132   valid_loss: 0.187\n",
      "139 of 200 epoch   train_loss: 0.105   valid_loss: 0.190\n",
      "149 of 200 epoch   train_loss: 0.159   valid_loss: 0.191\n",
      "159 of 200 epoch   train_loss: 0.104   valid_loss: 0.181\n",
      "169 of 200 epoch   train_loss: 0.101   valid_loss: 0.189\n",
      "179 of 200 epoch   train_loss: 0.095   valid_loss: 0.195\n",
      "189 of 200 epoch   train_loss: 0.096   valid_loss: 0.174\n",
      "199 of 200 epoch   train_loss: 0.102   valid_loss: 0.194\n"
     ]
    },
    {
     "data": {
      "image/png": "[encoded data removed]",
      "text/plain": [
       "<Figure size 432x288 with 1 Axes>"
      ]
     },
     "metadata": {
      "needs_background": "light"
     },
     "output_type": "display_data"
    },
    {
     "name": "stdout",
     "output_type": "stream",
     "text": [
      "min train loss: 0.086\n",
      "min valid loss: 0.170\n"
     ]
    }
   ],
   "source": [
    "# 训练 LSTM 模型;  ---- 这里的损失函数是计算Sequence最后一个元素的预测数据和真实数据差异\n",
    "model.train()\n",
    "epoches = 200\n",
    "train_epoch_loss = 0\n",
    "train_epoch_loss_list = []\n",
    "valid_smallest_loss = 1\n",
    "valid_smallest_epoch = 0\n",
    "valid_epoch_loss = 0\n",
    "valid_epoch_loss_list = []\n",
    "\n",
    "train_batch_count = train_x.shape[0]\n",
    "valid_batch_count = valid_x.shape[0]\n",
    "\n",
    "\n",
    "for epoch in range(epoches):\n",
    "    batch_loss = []\n",
    "    train_epoch_loss = 0\n",
    "    train_pred_value_list = []\n",
    "    train_real_value_list = []\n",
    "    train_batch_list = list(range(0,train_batch_count))\n",
    "    # random.shuffle(train_batch_list)\n",
    "    for step in train_batch_list:\n",
    "        train_pred = model(train_x[step])\n",
    "        # h0, c0 = hn.detach(), cn.detach()\n",
    "        loss = loss_func(train_pred[:,-1,-1], train_y[step][:,-1,-1])                # Compare the all sequences' last element in one batch\n",
    "        train_pred_value_list.extend(list(train_pred[:,-1].cpu().detach().flatten().numpy() ))\n",
    "        train_real_value_list.extend(list(train_y[step,:,-1,-1].cpu().detach().flatten().numpy() ))\n",
    "        optimizer.zero_grad()\n",
    "        loss.backward()\n",
    "        torch.nn.utils.clip_grad_norm_(model.parameters(), max_norm=20, norm_type=2)\n",
    "        optimizer.step()\n",
    "        batch_loss.append(loss.cpu().data.numpy())\n",
    "    # print(batch_loss)\n",
    "    train_epoch_loss = np.mean(batch_loss)\n",
    "\n",
    "    batch_loss = []\n",
    "    valid_epoch_loss = 0\n",
    "    valid_pred_value_list = []\n",
    "    valid_real_value_list = []\n",
    "    for step in range(valid_batch_count):\n",
    "        valid_pred = model(valid_x[step])\n",
    "        loss = loss_func(valid_pred[:,-1], valid_y[step][:,-1,-1])\n",
    "        valid_pred_value_list.extend(list(valid_pred[:,-1].cpu().detach().flatten().numpy()))\n",
    "        valid_real_value_list.extend(list(valid_y[step,:,-1,-1].cpu().detach().flatten().numpy()))\n",
    "        batch_loss.append(loss.cpu().data.numpy())\n",
    "\n",
    "    # print(batch_loss)\n",
    "    valid_epoch_loss = np.mean(batch_loss)\n",
    "    \n",
    "\n",
    "    valid_epoch_loss_list.append(valid_epoch_loss)\n",
    "    train_epoch_loss_list.append(train_epoch_loss)\n",
    "\n",
    "    if ((epoch+1) %10) == 0:\n",
    "        print(\"{} of {} epoch   train_loss: {:.3f}   valid_loss: {:.3f}\".format(epoch, epoches, train_epoch_loss, valid_epoch_loss))\n",
    "    \n",
    "    # if train_epoch_loss < 0.1:\n",
    "    #     print(\"**************************************************** STOP TRAIN *******************************************\")\n",
    "    #     print(\"{} of {} epoch   train_loss: {:.3f}   valid_loss: {:.3f}\".format(epoch, epoches, train_epoch_loss, valid_epoch_loss))\n",
    "    \n",
    "plt.plot(train_epoch_loss_list, 'r-')\n",
    "plt.plot(valid_epoch_loss_list, 'b-')\n",
    "plt.show()  \n",
    "print(\"min train loss: {:.3f}\".format(min(train_epoch_loss_list)))\n",
    "print(\"min valid loss: {:.3f}\".format(min(valid_epoch_loss_list)))"
   ]
  },
  {
   "cell_type": "code",
   "execution_count": 28,
   "id": "2b69845d-ab88-441a-8ad9-e92ddf92884f",
   "metadata": {
    "tags": []
   },
   "outputs": [
    {
     "data": {
      "image/png": "[encoded data removed]",
      "text/plain": [
       "<Figure size 432x288 with 1 Axes>"
      ]
     },
     "metadata": {
      "needs_background": "light"
     },
     "output_type": "display_data"
    }
   ],
   "source": [
    "# 这是 train 的预测图形\n",
    "plt.plot(train_real_value_list, 'r-')\n",
    "plt.plot(train_pred_value_list, 'b-')\n",
    "plt.show()\n",
    "# print(train_real_value_list)"
   ]
  },
  {
   "cell_type": "code",
   "execution_count": 29,
   "id": "cb5eeb65-91d9-40f2-a653-2a0d84653eac",
   "metadata": {
    "tags": []
   },
   "outputs": [
    {
     "data": {
      "image/png": "[encoded data removed]",
      "text/plain": [
       "<Figure size 432x288 with 1 Axes>"
      ]
     },
     "metadata": {
      "needs_background": "light"
     },
     "output_type": "display_data"
    }
   ],
   "source": [
    "# 这是 vali的预测图形\n",
    "plt.plot(valid_real_value_list, 'r-')\n",
    "plt.plot(valid_pred_value_list, 'b-')\n",
    "plt.show()"
   ]
  },
  {
   "cell_type": "code",
   "execution_count": 30,
   "id": "c8cc4f28-b980-401f-873d-95218a9cd9c6",
   "metadata": {
    "tags": []
   },
   "outputs": [
    {
     "data": {
      "image/png": "[encoded data removed]",
      "text/plain": [
       "<Figure size 432x288 with 1 Axes>"
      ]
     },
     "metadata": {
      "needs_background": "light"
     },
     "output_type": "display_data"
    },
    {
     "name": "stdout",
     "output_type": "stream",
     "text": [
      "[7.03 7.01 6.93 6.8  6.63 6.66 6.69 6.61 6.44 6.49 6.49 6.55 6.5  6.56\n",
      " 6.52 6.5  6.52 6.49 6.47 6.54 6.64 6.74 6.86 6.74 6.76 6.69 6.74 6.73\n",
      " 6.72 6.75 6.65 6.7  6.66 6.61 6.69 6.43 6.37 6.38 6.41 6.49]\n",
      "[6.948006  6.9878793 6.938682  6.918315  6.7699637 6.613526  6.601333\n",
      " 6.549988  6.499385  6.341552  6.4326177 6.3422046 6.462596  6.472978\n",
      " 6.5473824 6.522879  6.4704895 6.4015646 6.421218  6.413432  6.481142\n",
      " 6.6849895 6.7936296 6.7889943 6.7242746 6.7074547 6.7116027 6.6344867\n",
      " 6.645113  6.6202726 6.6956325 6.5856338 6.624989  6.485447  6.406782\n",
      " 6.5893517 6.261323  6.3511147 6.4014235 6.510993 ]\n"
     ]
    }
   ],
   "source": [
    "# 这是 valid 最后一段的数据。误差累积到这里已经很大了。\n",
    "plt.plot(valid_y[-1,:,-1,-1].cpu().detach().flatten().numpy(), 'r-')\n",
    "plt.plot(valid_pred[:,-1].cpu().detach().flatten().numpy(), 'b-')\n",
    "plt.show()\n",
    "print(valid_y[-1,:,-1,-1].cpu().detach().flatten().numpy())\n",
    "print(valid_pred[:,-1].cpu().detach().flatten().numpy())"
   ]
  },
  {
   "cell_type": "code",
   "execution_count": 31,
   "id": "85d09b95-01d6-428e-8ef2-43e7dd9ce31b",
   "metadata": {},
   "outputs": [
    {
     "name": "stdout",
     "output_type": "stream",
     "text": [
      "Test Loss : 0.266\n",
      "Prediction: 6.75\n",
      "Actual:     6.48\n"
     ]
    },
    {
     "data": {
      "image/png": "[encoded data removed]",
      "text/plain": [
       "<Figure size 432x288 with 1 Axes>"
      ]
     },
     "metadata": {
      "needs_background": "light"
     },
     "output_type": "display_data"
    },
    {
     "name": "stdout",
     "output_type": "stream",
     "text": [
      "tensor([6.4800], device='cuda:0', dtype=torch.float64)\n",
      "tensor([[6.7457]], device='cuda:0', grad_fn=<SelectBackward0>)\n"
     ]
    }
   ],
   "source": [
    "# 用模型预测数据\n",
    "# 考虑到时序因素，这里的时候误差很大。\n",
    "model.eval()\n",
    "test_loss = 0\n",
    "\n",
    "for step in range(test_x.shape[0]):\n",
    "    pred = model(test_x[step])\n",
    "    \n",
    "    loss = loss_func(pred[:,-1,-1], test_y[step][:,-1,-1])               # Compare the all sequences' last element in one batch\n",
    "    \n",
    "    if test_x.shape[0] > 1:\n",
    "        actual_line.append(test_y[step][-1,-1].item())\n",
    "        pred_line.append(pred[-1,-1].item())\n",
    "    elif test_x.shape[0] == 1:\n",
    "        actual_line = test_y[step].cpu().detach().flatten().numpy()        # Only plot the last sequence of test batch\n",
    "        pred_line   = pred[:,-1].cpu().detach().flatten().numpy()                # Only plot the last sequence of test batch\n",
    "        \n",
    "print(\"Test Loss : {:.3f}\".format(loss.data))\n",
    "print(\"Prediction: {:.2f}\".format(float(pred[-1,-1].data)))\n",
    "print(\"Actual:     {:.2f}\".format(float(test_y[step][-1,-1].data)))\n",
    "\n",
    "\n",
    "plt.plot(test_y[step,:,-1,-1].cpu().detach().flatten().numpy(), 'r--')\n",
    "plt.plot(pred[:,-1].cpu().detach().flatten().numpy(), 'b-')\n",
    "plt.show()\n",
    "print(test_y[step,:,-1,-1])\n",
    "print(pred[:,-1])"
   ]
  },
  {
   "cell_type": "code",
   "execution_count": 32,
   "id": "d7b93b91-3541-4b67-8262-66ceb3acd753",
   "metadata": {},
   "outputs": [
    {
     "name": "stdout",
     "output_type": "stream",
     "text": [
      "(801, 25, 137)\n",
      "40\n",
      "800\n",
      "(801, 25, 137)\n",
      "torch.Size([20, 40, 25, 136]) torch.Size([20, 40, 1, 1])\n",
      "torch.Size([1, 1, 25, 136]) torch.Size([1, 1, 1, 1])\n",
      "tensor([[[[6.4800]]]], device='cuda:0', dtype=torch.float64)\n"
     ]
    }
   ],
   "source": [
    "# 把rolling_data再分割为 train / test 就再预测\n",
    "# 既然 预测值 和时序相关性很高，可以考虑太早的零星数据对于test影响不大，可以删掉\n",
    "rolling_data = pd.DataFrame()\n",
    "for i in dataset.rolling(SEQ_LENGTH):\n",
    "    if i.shape[0] == SEQ_LENGTH:\n",
    "        rolling_data = rolling_data.append(i)\n",
    "\n",
    "rolling_data = rolling_data.values.reshape(-1, SEQ_LENGTH, X_DIM+Y_SEQ_LEN)                   # 数据一共是 seq_count x seq_len x (x_in_dim+Y_SEQ_LEN) \n",
    "\n",
    "# 打乱train数据\n",
    "# tmp_data = rolling_data[:-1]\n",
    "# np.random.shuffle(tmp_data)\n",
    "# rolling_data = np.concatenate((tmp_data, rolling_data[-1:]), axis=0)\n",
    "\n",
    "\n",
    "print(rolling_data.shape)\n",
    "print(TRAIN_BATCH_SIZE)\n",
    "print(((rolling_data.shape[0]-1)//TRAIN_BATCH_SIZE)*TRAIN_BATCH_SIZE)\n",
    "rolling_data = rolling_data[-((rolling_data.shape[0]-1)//TRAIN_BATCH_SIZE)*TRAIN_BATCH_SIZE-1:,]\n",
    "print(rolling_data.shape)\n",
    "\n",
    "train = rolling_data[:-1].reshape(-1, TRAIN_BATCH_SIZE, SEQ_LENGTH, X_DIM+Y_DIM*Y_SEQ_LEN)                    # 把数据转成 tain_batch_count x TRAIN_BATCH_SIZE x seq_len x in_dim 格式\n",
    "test  = rolling_data[-1:].reshape(1, 1, SEQ_LENGTH, X_DIM+Y_DIM*Y_SEQ_LEN)                     # 把数据转成 test_batch_count x TEST_BATCH_SIZE x seq_len x in_dim 格式\n",
    "\n",
    "train = torch.tensor(train).to(device)\n",
    "test  = torch.tensor(test).to(device)\n",
    "\n",
    "train_x, train_y = train[:,:,:,Y_SEQ_LEN:], train[:,:,-1:,0:Y_SEQ_LEN]           # [train_batch_count, batch_size, sequence_length, XorY dimission]\n",
    "test_x,  test_y  = test[:,:,:, Y_SEQ_LEN:],  test[:,:,-1:,0:Y_SEQ_LEN]           # [train_batch_count, batch_size, sequence_length, XorY dimission]\n",
    "print(train_x.shape, train_y.shape)\n",
    "print(test_x.shape, test_y.shape)\n",
    "print(test_y)"
   ]
  },
  {
   "cell_type": "code",
   "execution_count": 33,
   "id": "36aa93b9-0c68-4771-8c31-4840a9e16c0c",
   "metadata": {},
   "outputs": [
    {
     "name": "stdout",
     "output_type": "stream",
     "text": [
      "9 of 200 epoch   train_loss: 0.478257\n",
      "19 of 200 epoch   train_loss: 0.281495\n",
      "29 of 200 epoch   train_loss: 0.228501\n",
      "39 of 200 epoch   train_loss: 0.201758\n",
      "49 of 200 epoch   train_loss: 0.195679\n",
      "59 of 200 epoch   train_loss: 0.174717\n",
      "69 of 200 epoch   train_loss: 0.161093\n",
      "79 of 200 epoch   train_loss: 0.147938\n",
      "89 of 200 epoch   train_loss: 0.220744\n",
      "99 of 200 epoch   train_loss: 0.140871\n",
      "109 of 200 epoch   train_loss: 0.141812\n",
      "119 of 200 epoch   train_loss: 0.118493\n",
      "129 of 200 epoch   train_loss: 0.111308\n",
      "139 of 200 epoch   train_loss: 0.136544\n",
      "149 of 200 epoch   train_loss: 0.126174\n",
      "159 of 200 epoch   train_loss: 0.102847\n",
      "169 of 200 epoch   train_loss: 0.109046\n",
      "179 of 200 epoch   train_loss: 0.091990\n",
      "189 of 200 epoch   train_loss: 0.107851\n",
      "199 of 200 epoch   train_loss: 0.145189\n"
     ]
    },
    {
     "data": {
      "image/png": "[encoded data removed]",
      "text/plain": [
       "<Figure size 432x288 with 1 Axes>"
      ]
     },
     "metadata": {
      "needs_background": "light"
     },
     "output_type": "display_data"
    }
   ],
   "source": [
    "# 再重新生成模型再 train 模型\n",
    "model = LSTMModel(input_size=X_DIM, hidden_dim_size=HIDDEN_SIZE, num_layers=NUM_LAYERS, output_size=1).float().to(device)\n",
    "LR = 1e-5\n",
    "# loss_func = nn.MSELoss(reduction=\"mean\")\n",
    "loss_func = RMSELoss\n",
    "optimizer = torch.optim.Adam(model.parameters(), lr=LR, weight_decay=1e-6)\n",
    "scheduler = torch.optim.lr_scheduler.ExponentialLR(optimizer, gamma=1, last_epoch=-1)\n",
    "model.train()\n",
    "\n",
    "h0 = torch.zeros(NUM_LAYERS, TRAIN_BATCH_SIZE, HIDDEN_SIZE).float().to(device)\n",
    "c0 = torch.zeros(NUM_LAYERS, TRAIN_BATCH_SIZE, HIDDEN_SIZE).float().to(device)\n",
    "\n",
    "\n",
    "for epoch in range(epoches):\n",
    "    batch_loss = []\n",
    "    train_epoch_loss = 0\n",
    "    train_pred_value_list = []\n",
    "    train_real_value_list = []\n",
    "    train_batch_list = list(range(0,train_batch_count))\n",
    "    # random.shuffle(train_batch_list)\n",
    "    for step in range(0, train_x.shape[0]):\n",
    "        train_pred = model(train_x[step])\n",
    "        # h0, c0 = hn.detach(), cn.detach()\n",
    "        loss = loss_func(train_pred[:,-1,-1], train_y[step][:,-1,-1])                # Compare the all sequences' last element in one batch\n",
    "        train_pred_value_list.extend(list(train_pred[:,-1,-1].cpu().detach().flatten().numpy() ))\n",
    "        train_real_value_list.extend(list(train_y[step,:,-1,-1].cpu().detach().flatten().numpy() ))\n",
    "        optimizer.zero_grad()\n",
    "        loss.backward()\n",
    "        torch.nn.utils.clip_grad_norm_(model.parameters(), max_norm=20, norm_type=2)\n",
    "        optimizer.step()\n",
    "        batch_loss.append(loss.cpu().data.numpy())\n",
    "    if ((epoch+1) %10) == 0:\n",
    "        print(\"{} of {} epoch   train_loss: {:.6f}\".format(epoch, epoches, np.mean(batch_loss)))\n",
    "    train_epoch_loss = np.mean(batch_loss)\n",
    "    \n",
    "plt.plot(train_real_value_list, 'r-')\n",
    "plt.plot(train_pred_value_list, 'b-')\n",
    "plt.show()    "
   ]
  },
  {
   "cell_type": "code",
   "execution_count": 34,
   "id": "69b17f39-67ef-43c1-8619-e37146361e15",
   "metadata": {},
   "outputs": [
    {
     "name": "stdout",
     "output_type": "stream",
     "text": [
      "torch.Size([40, 25, 1])\n",
      "torch.Size([20, 40, 1, 1])\n",
      "tensor([[6.4900]], device='cuda:0', dtype=torch.float64)\n",
      "tensor([6.6814], device='cuda:0', grad_fn=<SelectBackward0>)\n"
     ]
    }
   ],
   "source": [
    "print(train_pred.shape)\n",
    "print(train_y.shape)\n",
    "\n",
    "print(train_y[-1,-1])\n",
    "print(train_pred[-1,-1])"
   ]
  },
  {
   "cell_type": "code",
   "execution_count": 35,
   "id": "f336190a-8bc4-47c5-975a-8bd2686a62e7",
   "metadata": {},
   "outputs": [
    {
     "data": {
      "image/png": "[encoded data removed]",
      "text/plain": [
       "<Figure size 432x288 with 1 Axes>"
      ]
     },
     "metadata": {
      "needs_background": "light"
     },
     "output_type": "display_data"
    }
   ],
   "source": [
    "plt.plot(train_real_value_list, 'r-')\n",
    "plt.plot(train_pred_value_list, 'b-')\n",
    "plt.show()"
   ]
  },
  {
   "cell_type": "code",
   "execution_count": 36,
   "id": "64b5edd6-7cd8-400f-b198-2d8cdfa405ac",
   "metadata": {},
   "outputs": [
    {
     "name": "stdout",
     "output_type": "stream",
     "text": [
      "6.49\n",
      "6.681355\n"
     ]
    }
   ],
   "source": [
    "# print(train_x.shape)\n",
    "# print(test_x.shape)\n",
    "print(train_real_value_list[-1])\n",
    "print(train_pred_value_list[-1])"
   ]
  },
  {
   "cell_type": "code",
   "execution_count": 37,
   "id": "7cfbfe06-2838-4e89-a7be-69dc7d233231",
   "metadata": {},
   "outputs": [
    {
     "name": "stdout",
     "output_type": "stream",
     "text": [
      "torch.Size([1, 1, 1, 1])\n",
      "torch.Size([1, 25, 1])\n",
      "tensor([[[[6.4800]]]], device='cuda:0', dtype=torch.float64)\n",
      "tensor([[6.8240]], device='cuda:0', grad_fn=<SliceBackward0>)\n"
     ]
    }
   ],
   "source": [
    "model.eval()\n",
    "\n",
    "h0 = torch.zeros(NUM_LAYERS, test_x.shape[1], HIDDEN_SIZE).float().to(device)\n",
    "c0 = torch.zeros(NUM_LAYERS, test_x.shape[1], HIDDEN_SIZE).float().to(device)\n",
    "\n",
    "pred = model(test_x[-1])\n",
    "\n",
    "print(test_y.shape)\n",
    "print(pred.shape)\n",
    "print(test_y)\n",
    "print(pred[:,-1,:])"
   ]
  },
  {
   "cell_type": "code",
   "execution_count": null,
   "id": "87037347-7918-43f4-ad12-5809814aa673",
   "metadata": {},
   "outputs": [],
   "source": []
  },
  {
   "cell_type": "code",
   "execution_count": null,
   "id": "fed7e0d7-b00b-4982-8717-70a367f4c2ed",
   "metadata": {},
   "outputs": [],
   "source": []
  }
 ],
 "metadata": {
  "kernelspec": {
   "display_name": "Python 3 (ipykernel)",
   "language": "python",
   "name": "python3"
  },
  "language_info": {
   "codemirror_mode": {
    "name": "ipython",
    "version": 3
   },
   "file_extension": ".py",
   "mimetype": "text/x-python",
   "name": "python",
   "nbconvert_exporter": "python",
   "pygments_lexer": "ipython3",
   "version": "3.7.0"
  },
  "toc-autonumbering": false,
  "toc-showmarkdowntxt": false
 },
 "nbformat": 4,
 "nbformat_minor": 5
}
