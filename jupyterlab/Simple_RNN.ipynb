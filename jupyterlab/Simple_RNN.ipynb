{
 "cells": [
  {
   "cell_type": "code",
   "execution_count": 1,
   "id": "c79d9768-347c-4f76-b310-7ccf808a033e",
   "metadata": {},
   "outputs": [],
   "source": [
    "# 这是用RNN模型将sin的输入转换为cos的输出；\n",
    "import torch\n",
    "import torch.nn as nn\n",
    "from torch.autograd import Variable\n",
    "import numpy as np\n",
    "import matplotlib.pyplot as plt\n"
   ]
  },
  {
   "cell_type": "code",
   "execution_count": null,
   "id": "f2eb4441-d214-4e9b-b69b-4282392f0355",
   "metadata": {},
   "outputs": [],
   "source": [
    "TIME_STEP = 9                               # rnn 定义的时间步数\n",
    "INPUT_SIZE = 1                              # 因为输入的是1个数字，输入也就是1个feature\n",
    "LR = 0.01                                   # learning rate\n",
    "HIDDEN_SIZE = 64                            # 隐藏层的特征数量\n",
    "torch.manual_seed(1)                        # 随机数种子"
   ]
  },
  {
   "cell_type": "code",
   "execution_count": null,
   "id": "26e8c479-86a0-4883-828f-a5e494aace11",
   "metadata": {},
   "outputs": [],
   "source": [
    "\n",
    "class RNN(nn.Module):                                   # hidden = np.tanh(np.dot(self.W_hh, hidden) + np.dot(self.W_xh, x))\n",
    "    def __init__(self):\n",
    "        super().__init__()\n",
    "        self.rnn = nn.RNN(                              # 自己定义一个RNN神经网络\n",
    "            input_size = INPUT_SIZE,                    # 输入 x 的feature 维度\n",
    "            hidden_size = HIDDEN_SIZE,                  # 隐状态 hidden_state 中的feature维度\n",
    "            num_layers = 5,                             # RNN 的层数\n",
    "            nonlinearity='relu',                        # 指定激活函数 [‘tanh’ | ’relu’]. 默认: ‘tanh’\n",
    "            bias = True,                                # 如果是 False , 那么 RNN 层就不会使用偏置权重 b_ih 和 b_hh, 默认: True\n",
    "            batch_first = True,                         # 如果 True, 输入Tensor的shape应该是(batch, seq, features),并且输出也是一样.\n",
    "            dropout = 0,                                # 如果值非零, 那么除了最后一层外, 其它层的输出都会套上一个 dropout 层\n",
    "            bidirectional = False                       # 如果 True , 将会变成一个双向 RNN, 默认为 False\n",
    "        )\n",
    "        self.out = nn.Linear(HIDDEN_SIZE, 1)            # 定义一个输出层，这是RNN的最后输出，只用输出output_vector\n",
    "\n",
    "    def forward(self, x, h_state):                      # 这就是RNN每次输入的参数x和h。RNN输入必需是3维tensor\n",
    "        # x (batch, time_step, input_size)              # 这是RNN的ｘ的维度            (批量, 序列长度, 输入的特征维度）\n",
    "        # h_state (n_layers, batch, hidden_size)        # 这是hidden_state的维度       (层数×方向, 批量, 输出的特征维度）/*方向：单向是１；双向是２*/\n",
    "        # r_out (batch, time_step, hidden_size)         # 这是网络实际输出的r_out的维度 (批量，序列长度，输出的特征维度X方向）\n",
    "        r_out, h_state = self.rnn(x, h_state)           # RNN每次输入x, hidden_state; 输出r_out, hidden_state; 给定一个序列x,每个x.size=[batch_size, feature].\n",
    "        outs = []\n",
    "        for time_step in range(r_out.size(1)):\n",
    "            outs.append(self.out(r_out[:, time_step, :]))\n",
    "\n",
    "        return torch.stack(outs, dim=1), h_state        # RNN的forward输出了output_vector, hidden_state"
   ]
  },
  {
   "cell_type": "code",
   "execution_count": null,
   "id": "5e52c858-7c44-4db1-ae6b-c384c93ad48c",
   "metadata": {},
   "outputs": [],
   "source": [
    "rnn = RNN()\n",
    "optimizer = torch.optim.Adam(rnn.parameters(), lr=LR, weight_decay=1e-6)    # 定义了优化函数ADAM对RNN的参数反向优化，定义了 learning rate 和 权重衰减率\n",
    "loss_func = nn.MSELoss()                                                    # 定义了模型的损失函数用 mean-square-error\n",
    "\n",
    "\n",
    "h_state = None                                                          # 起始时输入给RNN的hidden_state就是None\n",
    "\n",
    "for step in range(200):                                                # 计算２000次。相当于２000个顺序的时间片数据丢进去计算\n",
    "    start, end = step*np.pi, (step+1)*np.pi                             # 每次计算的区间就是一个PI里的数据\n",
    "    steps = np.linspace(start, end, TIME_STEP, dtype=np.float32)        # 在[star，star+PI]之间均匀地取TIME_STEP个点\n",
    "    x_np = np.sin(steps)                                                # 这就是用来输入的数据。就是每个点的sin值\n",
    "    y_np = np.cos(steps+np.pi/2)                                          # 这就是需要被预测出的数据。就是每个点的cos值\n",
    "    \n",
    "    x = Variable(torch.from_numpy(x_np[np.newaxis, :, np.newaxis]))     # 将x_np从1维(n)转化成3维(1,n,1);forward()里定义了x格式(batch, seq_len, input_size)\n",
    "    y = Variable(torch.from_numpy(y_np[np.newaxis, :, np.newaxis]))     # 将y_np从1维(n)转化成3维(1,n,1);forward()里定义了out格式(batch, seq_len, input_size)\n",
    "    # print(x.size())\n",
    "    # print(y.size())\n",
    "    \n",
    "    prediction, h_state = rnn(x, h_state)                               # 这就是一次RNN模型forward()得出来的结果\n",
    "    # print(h_state.size())                                             # h_state是tensor(data, grad_fn=xxxx)它的data格式为tensor(n_layers, batch, hidden_size)\n",
    "    h_state = Variable(h_state.data)                                    # 把 h_state(tensor)中的数据取出来,因为h_state包含.data和.grad 舍弃了梯度\n",
    "\n",
    "    loss = loss_func(prediction, y)                                     # 用损失函数计算误差\n",
    "    optimizer.zero_grad()                                               # 清空优化器梯度\n",
    "    loss.backward()                                                     # 反向传播求解梯度\n",
    "    optimizer.step()                                                    # 更新权重的参数。优化网络参数具体应指 W_xh, W_hh, b_h 以及 W_hq, b_q\n",
    "    \n",
    "    if (step+1)%20==0:\n",
    "        print(\"step:{}  loss:{:.9f}\".format(step, loss.data.float()))\n",
    "\n",
    "        plt.ion()                                                           # 把实际图和预测图动态打印出来\n",
    "        plt.plot(steps, y_np, color='b')\n",
    "        plt.plot(steps, np.squeeze(prediction.data.numpy()), color='r')\n",
    "        plt.show()\n",
    "        plt.pause(0.30)"
   ]
  },
  {
   "cell_type": "code",
   "execution_count": null,
   "id": "bc1ad0bd-8093-4a2b-8b69-92fe3894ba7d",
   "metadata": {},
   "outputs": [],
   "source": [
    "# 以下为新的 RNN 例子"
   ]
  },
  {
   "cell_type": "code",
   "execution_count": null,
   "id": "0689f3a6-7a7a-4a28-a7cb-41e0d34fd5f9",
   "metadata": {},
   "outputs": [],
   "source": [
    "# 试一下 RNN 的变长seq的处理情况\n",
    "import torch\n",
    "import torch.nn as nn\n",
    "from torch.nn.utils.rnn import pad_sequence\n",
    "from torch.nn.utils.rnn import pack_sequence\n",
    "from torch.nn.utils.rnn import pad_packed_sequence\n",
    "from torch.nn.utils.rnn import pack_padded_sequence"
   ]
  },
  {
   "cell_type": "code",
   "execution_count": null,
   "id": "50dd0745-0b9b-4ca1-aaea-16fb40f50d30",
   "metadata": {},
   "outputs": [],
   "source": [
    "# 生成 3 句话\n",
    "sa = [[1],[2],[3]]\n",
    "sb = [[4], [5]]\n",
    "sc = [[6]]"
   ]
  },
  {
   "cell_type": "code",
   "execution_count": null,
   "id": "ecf40df3-5d56-44d8-a74b-f3deaeed7537",
   "metadata": {},
   "outputs": [],
   "source": [
    "# 再来定义一个RNN\n",
    "rnn = nn.RNN(1, 3, batch_first=True)"
   ]
  },
  {
   "cell_type": "code",
   "execution_count": null,
   "id": "08ccc11b-2f09-450e-add6-c9370ca54d35",
   "metadata": {},
   "outputs": [],
   "source": [
    "# 用rnn处理一下第一句话\n",
    "input = torch.Tensor([sa])\n",
    "rnn(input)"
   ]
  },
  {
   "cell_type": "code",
   "execution_count": null,
   "id": "ce6f0fbd-c095-4660-a42e-f81d9a1f8fc3",
   "metadata": {},
   "outputs": [],
   "source": [
    "# 把 sa,sb,sc 做成一个batch来处理\n",
    "# 下面这样处理是错误的\n",
    "# input = torch.Tensor([sa, sb, sc])\n",
    "# 因为sa的dim是3，sb的dim是2，sc的dim是1，这不匹配\n",
    "# [\n",
    "#  [[1],[2],[3]],\n",
    "#  [[4],[5]],\n",
    "#  [[6]]\n",
    "# ]\n",
    "# 要把矩阵调整到一样维度的话，做补齐\n",
    "# [\n",
    "#  [[1],[2],[3]]\n",
    "#  [[4],[5],[0]]\n",
    "#  [[6],[0],[0]]\n",
    "# ]\n",
    "\n",
    "# 下面用 0 来补齐，并调整成 batch_first\n",
    "padded_seq = pad_sequence([torch.Tensor(sa), torch.Tensor(sb), torch.Tensor(sc)], batch_first=True)\n",
    "print(padded_seq)\n",
    "\n",
    "# 如果不是 batch_first 的模式\n",
    "# padded_seq = pad_sequence([torch.Tensor(sa), torch.Tensor(sb), torch.Tensor(sc)], batch_first=False)\n",
    "# print(padded_seq)\n",
    "\n",
    "rnn(padded_seq)"
   ]
  },
  {
   "cell_type": "code",
   "execution_count": null,
   "id": "140b11ba-e275-4a61-b787-6ff63644341e",
   "metadata": {},
   "outputs": [],
   "source": [
    "# 或者不再补 0， 直接每次抽取一个元素后生成seq 后再发给RNN\n",
    "packed_seq = pack_sequence([torch.Tensor(i) for i in [sa, sb, sc]])\n",
    "print(packed_seq)\n",
    "# 但是packed_seq默认是seq_first的，所以前面的rnn要重新来\n",
    "rnn = nn.RNN(1, 3)\n",
    "rnn(packed_seq)\n",
    "                            "
   ]
  },
  {
   "cell_type": "code",
   "execution_count": null,
   "id": "0492cfb3-717b-455e-a0c2-ea99ea3fa15b",
   "metadata": {},
   "outputs": [],
   "source": [
    "################# 下面试试股票数据处理 #################"
   ]
  },
  {
   "cell_type": "code",
   "execution_count": 2,
   "id": "ae5bc6cd-84a8-4042-90de-0ddad98d3742",
   "metadata": {},
   "outputs": [],
   "source": [
    "import pandas as pd"
   ]
  },
  {
   "cell_type": "code",
   "execution_count": 3,
   "id": "53d3500d-7c41-429b-907e-f82cf2430061",
   "metadata": {},
   "outputs": [
    {
     "name": "stdout",
     "output_type": "stream",
     "text": [
      "(150, 118)\n"
     ]
    }
   ],
   "source": [
    "# 加载数据\n",
    "dataset = pd.read_csv(\"000600.csv\", index_col=0)\n",
    "dataset = dataset.drop(['date','prediction'], axis=1)\n",
    "# print(dataset.columns)\n",
    "# print(dataset.tail())\n",
    "dataset['updown'] = dataset['updown']\n",
    "print(dataset.shape)\n",
    "# print(dataset.tail())"
   ]
  },
  {
   "cell_type": "code",
   "execution_count": 5,
   "id": "80098777-883e-4103-ba71-26a85e060e1f",
   "metadata": {},
   "outputs": [],
   "source": [
    "# 方法1，直接将数据等分成batch\n",
    "# 把数据分成训练数据和测试数据\n",
    "# print(dataset)\n",
    "# n_train = 120\n",
    "# train = dataset.iloc[:n_train, :].reset_index(drop=True)\n",
    "# test  = dataset.iloc[n_train:, :].reset_index(drop=True)\n",
    "\n",
    "# train_x, train_y = train.iloc[:, 1:], train.iloc[:, 0]\n",
    "# test_x, test_y = test.iloc[:, 1:], test.iloc[:, 0]\n",
    "\n",
    "# train_y = np.array(train_y).reshape(-1, 1)\n",
    "# test_y = np.array(test_y).reshape(-1, 1)\n",
    "\n",
    "# print(train_x.shape)\n",
    "# print(train_y.shape)\n",
    "# print(test_x.shape)\n",
    "# print(test_y.shape)\n"
   ]
  },
  {
   "cell_type": "code",
   "execution_count": 6,
   "id": "4dbb922a-6a93-4c67-b51c-622dee71748f",
   "metadata": {},
   "outputs": [],
   "source": [
    "# 数据转换成 tesnsor\n",
    "# train_x = torch.tensor(np.array(train_x))\n",
    "# train_y = torch.tensor(np.array(train_y))\n",
    "# test_x = torch.tensor(np.array(test_x))\n",
    "# test_y = torch.tensor(np.array(test_y))\n",
    "# print(train_x.shape)\n",
    "# print(train_y.shape)\n",
    "# print(test_x.shape)\n",
    "# print(test_y.shape)\n",
    "\n",
    "# # 数据转成 batch 的格式\n",
    "# batch_count = 8               # 把训练数据切割成 batch_count 个batch\n",
    "# batch_size = 15               # 每个batch里面有 batch_size 个数据\n",
    "\n",
    "# # 把训练数据分成 8 个batch，每个 15 个数据\n",
    "# train_x = train_x.reshape(batch_count, batch_size, 117)\n",
    "# train_y = train_y.reshape(batch_count, batch_size, 1)\n",
    "# # 把测试数据分成 2 个batch，每个 batch 有 15 个数据\n",
    "# test_x = test_x.reshape(2, 15, 117)\n",
    "# test_y = test_y.reshape(2, 15, 1)"
   ]
  },
  {
   "cell_type": "code",
   "execution_count": 19,
   "id": "4e59443c-428a-482a-b9b8-b69695c9f48b",
   "metadata": {},
   "outputs": [
    {
     "name": "stdout",
     "output_type": "stream",
     "text": [
      "rolling_data: (136, 15, 118)\n",
      "seq count: 136\n",
      "seq length: 15\n",
      "total batch count: 68\n",
      "batch size: 2\n",
      "rolling_data: torch.Size([68, 2, 15, 118])\n",
      "train_x: torch.Size([67, 2, 15, 117])\n",
      "train_y: torch.Size([67, 2, 15, 1])\n",
      "test_x:  torch.Size([1, 2, 15, 117])\n",
      "test_y:  torch.Size([1, 2, 15, 1])\n",
      "train_batch_count: 67\n",
      "test_batch_count:  1\n"
     ]
    }
   ],
   "source": [
    "# 方法2，将数据按照batch_size的窗口进行滑动，每个窗口数据做一组\n",
    "\n",
    "# # 数据转成sequence的格式，这里定义每个seq的长度\n",
    "seq_len = 15\n",
    "batch_size = 2                                                    # 注意：batch_size是要能够整除seq_count的\n",
    "\n",
    "# 把数据切换成 batch_size 的一个个batch\n",
    "rolling_data = pd.DataFrame()\n",
    "for i in dataset.rolling(seq_len):\n",
    "    if i.shape[0] == seq_len:\n",
    "        rolling_data = rolling_data.append(i)\n",
    "\n",
    "rolling_data = rolling_data.values.reshape(-1, seq_len, 118)                 # 数据一共是 seq_count x seq_len x in_dim\n",
    "\n",
    "print(\"rolling_data: {}\".format(rolling_data.shape))\n",
    "print(\"seq count: {}\".format(rolling_data.shape[0]))                 # 所以一共有 seq_count 列数据，每一行的数据是118维 （包括y）\n",
    "print(\"seq length: {}\".format(seq_len))\n",
    "\n",
    "\n",
    "total_batch_count = int(rolling_data.shape[0]/batch_size)                          # 把数据规划成 batch_count 个 batch\n",
    "\n",
    "print(\"total batch count: {}\".format(total_batch_count))\n",
    "print(\"batch size: {}\".format(batch_size))\n",
    "\n",
    "rolling_data = rolling_data.reshape(total_batch_count, batch_size, seq_len, 118)  # 把数据转成 total_batch_count x batch_size x seq_len x in_dim 格式\n",
    "rolling_data = torch.tensor(rolling_data)\n",
    "print(\"rolling_data: {}\".format(rolling_data.shape))\n",
    "\n",
    "\n",
    "train_batch_count = total_batch_count - 1\n",
    "test_batch_count = total_batch_count - train_batch_count\n",
    "\n",
    "train = rolling_data[:train_batch_count, :, :, :]\n",
    "test  = rolling_data[train_batch_count:, :, :, :]\n",
    "\n",
    "\n",
    "# train = rolling_data.iloc[:train_batch_count*batch_size, :].reset_index(drop=True)\n",
    "# test  = rolling_data.iloc[train_batch_count*batch_size:, :].reset_index(drop=True)\n",
    "\n",
    "# train_x, train_y = train.iloc[:, 1:], train.iloc[:, 0]\n",
    "# test_x, test_y = test.iloc[:, 1:], test.iloc[:, 0]\n",
    "\n",
    "train_x, train_y = train[:,:,:,1:], train[:,:,:,0:1]\n",
    "test_x,  test_y  = test[:,:,:, 1:],  test[:,:,:,0:1]\n",
    "\n",
    "# train_y = torch.tensor(np.array(train_y).reshape(-1, 1))\n",
    "# test_y = torch.tensor(np.array(test_y).reshape(-1, 1))\n",
    "\n",
    "print(\"train_x: {}\".format(train_x.shape))\n",
    "print(\"train_y: {}\".format(train_y.shape))\n",
    "print(\"test_x:  {}\".format(test_x.shape))\n",
    "print(\"test_y:  {}\".format(test_y.shape))\n",
    "print(\"train_batch_count: {}\".format(train_batch_count))\n",
    "print(\"test_batch_count:  {}\".format(test_batch_count))\n",
    "\n",
    "# # 数据转换成 tesnsor\n",
    "# train_x = torch.tensor(np.array(train_x))\n",
    "# train_y = torch.tensor(np.array(train_y))\n",
    "# test_x = torch.tensor(np.array(test_x))\n",
    "# test_y = torch.tensor(np.array(test_y))\n",
    "# print(train_x.shape)\n",
    "# print(train_y.shape)\n",
    "# print(test_x.shape)\n",
    "# print(test_y.shape)\n",
    "\n",
    "# # batch first\n",
    "# # 把训练数据分成 ... 个batch，每 batch 有 15 个sequence\n",
    "# train_x = train_x.reshape(train_batch_count, batch_size, seq_len, 117)\n",
    "# train_y = train_y.reshape(train_batch_count, batch_size, seq_len, 1)\n",
    "# # 把测试数据分成 1 个batch，每个 batch 有 15 个sequence\n",
    "# test_x = test_x.reshape(test_batch_count, batch_size, seq_len, 117)\n",
    "# test_y = test_y.reshape(test_batch_count, batch_size, seq_len, 1)\n",
    "\n",
    "# seq first\n",
    "# # 把训练数据分成 ... 个batch，每 batch 有 15 个sequence\n",
    "# train_x = train_x.reshape(batch_size, train_batch_count, 117)\n",
    "# train_y = train_y.reshape(batch_size, train_batch_count, 1)\n",
    "# # 把测试数据分成 1 个batch，每个 batch 有 15 个sequence\n",
    "# test_x = test_x.reshape(batch_size, test_batch_count, 117)\n",
    "# test_y = test_y.reshape(batch_size, test_batch_count, 1)\n",
    "# print(\"train_x: {}\".format(train_x.size))\n",
    "# print(\"train_y: {}\".format(train_y.size))\n",
    "# print(\"test_x:  {}\".format(test_x.size))\n",
    "# print(\"test_y:  {}\".format(test_y.size))\n",
    "\n"
   ]
  },
  {
   "cell_type": "code",
   "execution_count": 20,
   "id": "0f0b1054-e3bc-45ad-bba6-96f98d3e0341",
   "metadata": {},
   "outputs": [],
   "source": [
    "# 开始定义 RNN 模型\n",
    "TIME_STEP = seq_len                                        # 一般这个单独设定，这里为了简单，还是直接就等于seq_len的方便。其实也就是等于最长的那个sequence length\n",
    "INPUT_SIZE = 117\n",
    "HIDDEN_SIZE = 768\n",
    "\n",
    "class RNN(nn.Module):\n",
    "    def __init__(self):\n",
    "        super(RNN, self).__init__()\n",
    "        \n",
    "        self.rnn = nn.RNN(\n",
    "                input_size = INPUT_SIZE,                    # 输入 x 的feature 维度\n",
    "                hidden_size = HIDDEN_SIZE,                  # 隐状态 hidden_state 中的feature维度\n",
    "                num_layers = 5,                             # RNN 的层数\n",
    "                nonlinearity='relu',                        # 指定激活函数 [‘tanh’ | ’relu’]. 默认: ‘tanh’\n",
    "                bias = True,                                # 如果是 False , 那么 RNN 层就不会使用偏置权重 b_ih 和 b_hh, 默认: True\n",
    "                batch_first = True,                         # 如果 True, 输入Tensor的shape应该是(batch_size, seq_len, features),并且输出也是一样.\n",
    "                dropout = 0.1,                                # 如果值非零, 那么除了最后一层外, 其它层的输出都会套上一个 dropout 层\n",
    "                bidirectional = False                       # 如果 True , 将会变成一个双向 RNN, 默认为 False\n",
    "        )\n",
    "        \n",
    "        self.out = nn.Linear(HIDDEN_SIZE, 1)\n",
    "        \n",
    "    def forward(self, x, h_state):\n",
    "        r_out, h_state = self.rnn(x, h_state)\n",
    "        outs = []\n",
    "        for time_step in range(TIME_STEP):\n",
    "            outs.append(self.out(r_out[:, time_step, :]))\n",
    "\n",
    "        return torch.stack(outs, dim=1), h_state"
   ]
  },
  {
   "cell_type": "code",
   "execution_count": 21,
   "id": "d2877e5f-6cb4-4851-a07b-0a1c121e9641",
   "metadata": {
    "tags": []
   },
   "outputs": [
    {
     "name": "stdout",
     "output_type": "stream",
     "text": [
      "tensor(0.0002, dtype=torch.float64, grad_fn=<MseLossBackward0>)\n",
      "tensor(0.0002, dtype=torch.float64, grad_fn=<MseLossBackward0>)\n",
      "tensor(0.0003, dtype=torch.float64, grad_fn=<MseLossBackward0>)\n",
      "tensor(0.0003, dtype=torch.float64, grad_fn=<MseLossBackward0>)\n",
      "tensor(0.0004, dtype=torch.float64, grad_fn=<MseLossBackward0>)\n",
      "tensor(0.0002, dtype=torch.float64, grad_fn=<MseLossBackward0>)\n",
      "tensor(0.0002, dtype=torch.float64, grad_fn=<MseLossBackward0>)\n",
      "tensor(0.0001, dtype=torch.float64, grad_fn=<MseLossBackward0>)\n",
      "tensor(0.0001, dtype=torch.float64, grad_fn=<MseLossBackward0>)\n",
      "tensor(0.0001, dtype=torch.float64, grad_fn=<MseLossBackward0>)\n",
      "tensor(0.0001, dtype=torch.float64, grad_fn=<MseLossBackward0>)\n",
      "tensor(0.0002, dtype=torch.float64, grad_fn=<MseLossBackward0>)\n",
      "tensor(0.0002, dtype=torch.float64, grad_fn=<MseLossBackward0>)\n",
      "tensor(0.0001, dtype=torch.float64, grad_fn=<MseLossBackward0>)\n",
      "tensor(0.0002, dtype=torch.float64, grad_fn=<MseLossBackward0>)\n",
      "tensor(0.0001, dtype=torch.float64, grad_fn=<MseLossBackward0>)\n",
      "tensor(0.0001, dtype=torch.float64, grad_fn=<MseLossBackward0>)\n",
      "tensor(0.0001, dtype=torch.float64, grad_fn=<MseLossBackward0>)\n",
      "tensor(0.0001, dtype=torch.float64, grad_fn=<MseLossBackward0>)\n",
      "tensor(0.0001, dtype=torch.float64, grad_fn=<MseLossBackward0>)\n"
     ]
    }
   ],
   "source": [
    "# 初始化 RNN 模型\n",
    "rnn = RNN()\n",
    "LR = 5e-5\n",
    "loss_func = nn.MSELoss()\n",
    "optimizer = torch.optim.Adam(rnn.parameters(), lr=LR, weight_decay=1e-8)\n",
    "\n",
    "i = 0\n",
    "h_state = None\n",
    "# 训练 RNN 模型; 计划训练 10 轮\n",
    "for step in range(train_batch_count*20):\n",
    "    rnn = rnn.double()\n",
    "    pred, h_state = rnn(train_x[i], h_state)\n",
    "    h_state = h_state.data\n",
    "    loss = loss_func(pred, train_y[i])\n",
    "    optimizer.zero_grad()\n",
    "    loss.backward()\n",
    "    optimizer.step()\n",
    "    \n",
    "    if (i+1)%train_batch_count == 0:\n",
    "        print(loss)\n",
    "        i=0\n",
    "    else:\n",
    "        i=i+1"
   ]
  },
  {
   "cell_type": "code",
   "execution_count": 23,
   "id": "60de7088-2b08-4373-a294-6ddaa5a43455",
   "metadata": {},
   "outputs": [
    {
     "name": "stdout",
     "output_type": "stream",
     "text": [
      "tensor(0.0002, dtype=torch.float64, grad_fn=<MseLossBackward0>)\n",
      "True\n"
     ]
    },
    {
     "data": {
      "image/png": "[encoded data removed]",
      "text/plain": [
       "<Figure size 432x288 with 1 Axes>"
      ]
     },
     "metadata": {
      "needs_background": "light"
     },
     "output_type": "display_data"
    }
   ],
   "source": [
    "# 用模型来做测试数据的误差\n",
    "h_state = None\n",
    "pred, h_state = rnn(test_x[0], h_state)\n",
    "loss = loss_func(pred, test_y[0])\n",
    "print(loss)\n",
    "\n",
    "actual_line = np.array(test_y[0]).flatten().tolist()\n",
    "pred_line = pred.data.numpy().flatten().tolist()\n",
    "\n",
    "print(len(actual_line) == len(pred_line))\n",
    "plt.plot(actual_line, 'r--')\n",
    "plt.plot(pred_line, 'b-')\n",
    "plt.show()"
   ]
  },
  {
   "cell_type": "code",
   "execution_count": null,
   "id": "0125af7c-b15b-4ebb-ae0d-bf496563f44c",
   "metadata": {},
   "outputs": [],
   "source": [
    "#---------GPU GPU GPU GPU GPU GPU GPU-----------------------------"
   ]
  },
  {
   "cell_type": "code",
   "execution_count": 77,
   "id": "cdd3ba33-cbb6-4c1d-bffd-3281f2d98df1",
   "metadata": {},
   "outputs": [
    {
     "name": "stdout",
     "output_type": "stream",
     "text": [
      "(150, 118)\n",
      "rolling_data: (130, 21, 118)\n",
      "seq count: 130\n",
      "seq length: 21\n",
      "total batch count: 65\n",
      "batch size: 2\n",
      "rolling_data: torch.Size([65, 2, 21, 118])\n",
      "train_x: torch.Size([64, 2, 21, 117])\n",
      "train_y: torch.Size([64, 2, 21, 1])\n",
      "test_x:  torch.Size([1, 2, 21, 117])\n",
      "test_y:  torch.Size([1, 2, 21, 1])\n",
      "train_batch_count: 64\n",
      "test_batch_count:  1\n"
     ]
    }
   ],
   "source": [
    "# GPU -- 准备来做一个GPU版本的RNN\n",
    "import torch\n",
    "import torch.nn as nn\n",
    "from torch.autograd import Variable\n",
    "import numpy as np\n",
    "import matplotlib.pyplot as plt\n",
    "\n",
    "# 设置 GPU 优先\n",
    "device = torch.device('cuda:0' if torch.cuda.is_available() else 'cpu')\n",
    "\n",
    "# 加载数据\n",
    "dataset = pd.read_csv(\"000600.csv\", index_col=0)\n",
    "dataset = dataset.drop(['date','prediction'], axis=1)\n",
    "# print(dataset.columns)\n",
    "# print(dataset.tail())\n",
    "dataset['updown'] = dataset['updown']\n",
    "print(dataset.shape)\n",
    "# print(dataset.tail())\n",
    "\n",
    "# 方法2，将数据按照batch_size的窗口进行滑动，每个窗口数据做一组\n",
    "\n",
    "# # 数据转成sequence的格式，这里定义每个seq的长度\n",
    "seq_len = 21\n",
    "batch_size = 2                                                    # 注意：batch_size是要能够整除seq_count的\n",
    "\n",
    "# 把数据切换成 batch_size 的一个个batch\n",
    "rolling_data = pd.DataFrame()\n",
    "for i in dataset.rolling(seq_len):\n",
    "    if i.shape[0] == seq_len:\n",
    "        rolling_data = rolling_data.append(i)\n",
    "\n",
    "rolling_data = rolling_data.values.reshape(-1, seq_len, 118)                 # 数据一共是 seq_count x seq_len x in_dim\n",
    "\n",
    "print(\"rolling_data: {}\".format(rolling_data.shape))\n",
    "print(\"seq count: {}\".format(rolling_data.shape[0]))                 # 所以一共有 seq_count 列数据，每一行的数据是118维 （包括y）\n",
    "print(\"seq length: {}\".format(seq_len))\n",
    "\n",
    "\n",
    "total_batch_count = int(rolling_data.shape[0]/batch_size)                          # 把数据规划成 batch_count 个 batch\n",
    "\n",
    "print(\"total batch count: {}\".format(total_batch_count))\n",
    "print(\"batch size: {}\".format(batch_size))\n",
    "\n",
    "rolling_data = rolling_data.reshape(total_batch_count, batch_size, seq_len, 118)  # 把数据转成 total_batch_count x batch_size x seq_len x in_dim 格式\n",
    "rolling_data = torch.tensor(rolling_data)\n",
    "print(\"rolling_data: {}\".format(rolling_data.shape))\n",
    "\n",
    "\n",
    "train_batch_count = total_batch_count - 1\n",
    "test_batch_count = total_batch_count - train_batch_count\n",
    "\n",
    "train = rolling_data[:train_batch_count, :, :, :]\n",
    "test  = rolling_data[train_batch_count:, :, :, :]\n",
    "\n",
    "train_x, train_y = train[:,:,:,1:], train[:,:,:,0:1]\n",
    "test_x,  test_y  = test[:,:,:, 1:],  test[:,:,:,0:1]\n",
    "\n",
    "train_x = train_x.to(device)\n",
    "train_y = train_y.to(device)\n",
    "test_x = test_x.to(device)\n",
    "test_y = test_y.to(device)\n",
    "\n",
    "print(\"train_x: {}\".format(train_x.shape))\n",
    "print(\"train_y: {}\".format(train_y.shape))\n",
    "print(\"test_x:  {}\".format(test_x.shape))\n",
    "print(\"test_y:  {}\".format(test_y.shape))\n",
    "print(\"train_batch_count: {}\".format(train_batch_count))\n",
    "print(\"test_batch_count:  {}\".format(test_batch_count))"
   ]
  },
  {
   "cell_type": "code",
   "execution_count": 87,
   "id": "22409052-fc60-408c-81f9-c46c322cd7f2",
   "metadata": {},
   "outputs": [],
   "source": [
    "# GPU -- 开始定义 RNN 模型\n",
    "TIME_STEP = seq_len                                        # 一般这个单独设定，这里为了简单，还是直接就等于seq_len的方便。其实也就是等于最长的那个sequence length\n",
    "INPUT_SIZE = 117\n",
    "HIDDEN_SIZE = 1024\n",
    "\n",
    "class RNN(nn.Module):\n",
    "    def __init__(self):\n",
    "        super(RNN, self).__init__()\n",
    "        \n",
    "        self.rnn = nn.RNN(\n",
    "                input_size = INPUT_SIZE,                    # 输入 x 的feature 维度\n",
    "                hidden_size = HIDDEN_SIZE,                  # 隐状态 hidden_state 中的feature维度\n",
    "                num_layers = 2,                             # RNN 的层数\n",
    "                nonlinearity='relu',                        # 指定激活函数 [‘tanh’ | ’relu’]. 默认: ‘tanh’\n",
    "                bias = True,                                # 如果是 False , 那么 RNN 层就不会使用偏置权重 b_ih 和 b_hh, 默认: True\n",
    "                batch_first = True,                         # 如果 True, 输入Tensor的shape应该是(batch_size, seq_len, features),并且输出也是一样.\n",
    "                dropout = 0.1,                                # 如果值非零, 那么除了最后一层外, 其它层的输出都会套上一个 dropout 层\n",
    "                bidirectional = False                       # 如果 True , 将会变成一个双向 RNN, 默认为 False\n",
    "        )\n",
    "        \n",
    "        self.out = nn.Linear(HIDDEN_SIZE, 1)\n",
    "        \n",
    "    def forward(self, x, h_state):\n",
    "        r_out, h_state = self.rnn(x, h_state)\n",
    "        outs = []\n",
    "        for time_step in range(TIME_STEP):\n",
    "            outs.append(self.out(r_out[:, time_step, :]))\n",
    "\n",
    "        return torch.stack(outs, dim=1), h_state\n"
   ]
  },
  {
   "cell_type": "code",
   "execution_count": 88,
   "id": "af0c09b9-8e88-4817-813d-b6e8bb40bd64",
   "metadata": {
    "tags": []
   },
   "outputs": [
    {
     "name": "stdout",
     "output_type": "stream",
     "text": [
      "RNN(\n",
      "  (rnn): RNN(117, 1024, num_layers=2, batch_first=True, dropout=0.1)\n",
      "  (out): Linear(in_features=1024, out_features=1, bias=True)\n",
      ")\n",
      "0 of 100 epoch loss: 0.000353\n",
      "10 of 100 epoch loss: 0.000093\n",
      "20 of 100 epoch loss: 0.000097\n",
      "30 of 100 epoch loss: 0.000073\n",
      "40 of 100 epoch loss: 0.000038\n",
      "50 of 100 epoch loss: 0.000030\n",
      "60 of 100 epoch loss: 0.000039\n",
      "70 of 100 epoch loss: 0.000032\n",
      "80 of 100 epoch loss: 0.000019\n",
      "90 of 100 epoch loss: 0.000024\n",
      "Train Done\n"
     ]
    }
   ],
   "source": [
    "# GPU -- 初始化 RNN 模型\n",
    "rnn = RNN()\n",
    "rnn.to(device)\n",
    "print(rnn)\n",
    "LR = 1e-5\n",
    "loss_func = nn.MSELoss()\n",
    "optimizer = torch.optim.Adam(rnn.parameters(), lr=LR, weight_decay=1e-10)\n",
    "\n",
    "epoches = 100\n",
    "i = 0\n",
    "h_state = None\n",
    "# 训练 RNN 模型; 计划训练 10 轮\n",
    "for epoch in range(epoches):\n",
    "    for step in range(train_batch_count):\n",
    "        rnn = rnn.double()\n",
    "        pred, h_state = rnn(train_x[i], h_state)\n",
    "        pred.to(device)\n",
    "        h_state = h_state.data.to(device)\n",
    "\n",
    "        loss = loss_func(pred, train_y[i])\n",
    "        optimizer.zero_grad()\n",
    "        loss.backward()\n",
    "        optimizer.step()\n",
    "\n",
    "        if (i+1)%train_batch_count == 0:\n",
    "            i=0\n",
    "        else:\n",
    "            i=i+1\n",
    "    if epoch%10 == 0:\n",
    "        print(\"{} of {} epoch loss: {:.6f}\".format(epoch, epoches, loss))\n",
    "            \n",
    "print(\"Train Done\")"
   ]
  },
  {
   "cell_type": "code",
   "execution_count": 89,
   "id": "bf1ba7ad-1b2f-4224-b1d1-b5fac9927de2",
   "metadata": {},
   "outputs": [
    {
     "name": "stdout",
     "output_type": "stream",
     "text": [
      "loss: 0.000061\n",
      "True\n"
     ]
    },
    {
     "data": {
      "image/png": "[encoded data removed]",
      "text/plain": [
       "<Figure size 432x288 with 1 Axes>"
      ]
     },
     "metadata": {
      "needs_background": "light"
     },
     "output_type": "display_data"
    }
   ],
   "source": [
    "# GPU -- 用模型来做测试数据的误差\n",
    "h_state = None\n",
    "pred, h_state = rnn(test_x[0], h_state)\n",
    "\n",
    "test_y=test_y.cpu()\n",
    "pred = pred.cpu()\n",
    "\n",
    "loss = loss_func(pred, test_y[0])\n",
    "print(\"loss: {:.6f}\".format(loss))\n",
    "\n",
    "# actual_line = np.array(test_y[0]).flatten().tolist()\n",
    "# pred_line = pred.data.numpy().flatten().tolist()\n",
    "\n",
    "actual_line = np.array(test_y[0][-1]).flatten().tolist()\n",
    "pred_line = pred[-1].data.numpy().flatten().tolist()\n",
    "\n",
    "\n",
    "print(len(actual_line) == len(pred_line))\n",
    "plt.plot(actual_line, 'r--')\n",
    "plt.plot(pred_line, 'b-')\n",
    "plt.show()"
   ]
  },
  {
   "cell_type": "code",
   "execution_count": null,
   "id": "773620d7-c235-4f50-bae3-ec6e96f038cb",
   "metadata": {},
   "outputs": [],
   "source": []
  },
  {
   "cell_type": "code",
   "execution_count": null,
   "id": "b0bcccf3-c610-4281-8013-c2163a3d959c",
   "metadata": {},
   "outputs": [],
   "source": []
  }
 ],
 "metadata": {
  "kernelspec": {
   "display_name": "Python 3 (ipykernel)",
   "language": "python",
   "name": "python3"
  },
  "language_info": {
   "codemirror_mode": {
    "name": "ipython",
    "version": 3
   },
   "file_extension": ".py",
   "mimetype": "text/x-python",
   "name": "python",
   "nbconvert_exporter": "python",
   "pygments_lexer": "ipython3",
   "version": "3.7.0"
  }
 },
 "nbformat": 4,
 "nbformat_minor": 5
}
