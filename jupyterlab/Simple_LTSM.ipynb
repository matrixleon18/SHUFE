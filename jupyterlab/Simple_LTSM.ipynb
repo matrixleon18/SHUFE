{
 "cells": [
  {
   "cell_type": "code",
   "execution_count": 7,
   "id": "84918cd0-ce3b-4221-a645-c15527573f83",
   "metadata": {},
   "outputs": [
    {
     "name": "stdout",
     "output_type": "stream",
     "text": [
      "torch.Size([5, 3, 20])\n",
      "torch.Size([2, 3, 20])\n",
      "torch.Size([2, 3, 20])\n"
     ]
    }
   ],
   "source": [
    "# 这是最简单的 LTSM 模型\n",
    "import torch\n",
    "import torch.nn as nn\n",
    "\n",
    "# 初始化的 lstm 模型\n",
    "lstm_model = nn.LSTM(10, 20, 2)                    # 参数为(input_size, hidden_size, num_layers)\n",
    "\n",
    "# 模型的cell接受的输入参数\n",
    "x = torch.randn(5, 3, 10)                         # 参数为(seq_len, batch, input_size)\n",
    "# 模型的cell接受的输入hidden_state；也是前一个cell的输出hidden_state\n",
    "h0 = torch.randn(2, 3, 20)                         # 参数为(num_layers * num_directions, batch, hidden_size)\n",
    "# 模型的cell初始值\n",
    "c0 = torch.randn(2, 3, 20)                         # 参数为(num_layers * num_directions, batch, hidden_size)\n",
    "\n",
    "y, (h1, c1) = lstm_model(x, (h0, c0))\n",
    "\n",
    "print(y.size())\n",
    "print(h1.size())\n",
    "print(c1.size())\n"
   ]
  },
  {
   "cell_type": "code",
   "execution_count": 1,
   "id": "80ef4ef8-5b74-4fbf-bc94-13ab3833fa76",
   "metadata": {},
   "outputs": [],
   "source": [
    "# LSTM 做股票预测\n",
    "import torch\n",
    "import torch.nn as nn\n",
    "from torch.autograd import Variable\n",
    "import numpy as np\n",
    "import pandas as pd\n",
    "import matplotlib.pyplot as plt"
   ]
  },
  {
   "cell_type": "code",
   "execution_count": 2,
   "id": "93673132-3006-4021-a0cd-6ca155ab1a0a",
   "metadata": {},
   "outputs": [
    {
     "name": "stdout",
     "output_type": "stream",
     "text": [
      "(150, 118)\n",
      "rolling_data: (130, 21, 118)\n",
      "seq count: 130\n",
      "seq length: 21\n",
      "total batch count: 65\n",
      "batch size: 2\n",
      "rolling_data: torch.Size([65, 2, 21, 118])\n",
      "train_x: torch.Size([64, 2, 21, 117])\n",
      "train_y: torch.Size([64, 2, 21, 1])\n",
      "test_x:  torch.Size([1, 2, 21, 117])\n",
      "test_y:  torch.Size([1, 2, 21, 1])\n",
      "train_batch_count: 64\n",
      "test_batch_count:  1\n"
     ]
    }
   ],
   "source": [
    "# GPU -- 准备来做一个GPU版本的LSTM\n",
    "import torch\n",
    "import torch.nn as nn\n",
    "from torch.autograd import Variable\n",
    "import numpy as np\n",
    "import pandas as pd\n",
    "import matplotlib.pyplot as plt\n",
    "\n",
    "# 设置 GPU 优先\n",
    "device = torch.device('cuda:0' if torch.cuda.is_available() else 'cpu')\n",
    "\n",
    "# 加载数据\n",
    "dataset = pd.read_csv(\"000600.csv\", index_col=0)\n",
    "dataset = dataset.drop(['date','prediction'], axis=1)\n",
    "# print(dataset.columns)\n",
    "# print(dataset.tail())\n",
    "dataset['updown'] = dataset['updown']\n",
    "print(dataset.shape)\n",
    "# print(dataset.tail())\n",
    "\n",
    "# 方法2，将数据按照batch_size的窗口进行滑动，每个窗口数据做一组\n",
    "\n",
    "# # 数据转成sequence的格式，这里定义每个seq的长度\n",
    "seq_len = 21\n",
    "batch_size = 2                                                    # 注意：batch_size是要能够整除seq_count的\n",
    "\n",
    "# 把数据切换成 batch_size 的一个个batch\n",
    "rolling_data = pd.DataFrame()\n",
    "for i in dataset.rolling(seq_len):\n",
    "    if i.shape[0] == seq_len:\n",
    "        rolling_data = rolling_data.append(i)\n",
    "\n",
    "rolling_data = rolling_data.values.reshape(-1, seq_len, 118)                 # 数据一共是 seq_count x seq_len x in_dim\n",
    "\n",
    "print(\"rolling_data: {}\".format(rolling_data.shape))\n",
    "print(\"seq count: {}\".format(rolling_data.shape[0]))                 # 所以一共有 seq_count 列数据，每一行的数据是118维 （包括y）\n",
    "print(\"seq length: {}\".format(seq_len))\n",
    "\n",
    "\n",
    "total_batch_count = int(rolling_data.shape[0]/batch_size)                          # 把数据规划成 batch_count 个 batch\n",
    "\n",
    "print(\"total batch count: {}\".format(total_batch_count))\n",
    "print(\"batch size: {}\".format(batch_size))\n",
    "\n",
    "rolling_data = rolling_data.reshape(total_batch_count, batch_size, seq_len, 118)  # 把数据转成 total_batch_count x batch_size x seq_len x in_dim 格式\n",
    "rolling_data = torch.tensor(rolling_data)\n",
    "print(\"rolling_data: {}\".format(rolling_data.shape))\n",
    "\n",
    "\n",
    "train_batch_count = total_batch_count - 1\n",
    "test_batch_count = total_batch_count - train_batch_count\n",
    "\n",
    "train = rolling_data[:train_batch_count, :, :, :]\n",
    "test  = rolling_data[train_batch_count:, :, :, :]\n",
    "\n",
    "train_x, train_y = train[:,:,:,1:], train[:,:,:,0:1]\n",
    "test_x,  test_y  = test[:,:,:, 1:],  test[:,:,:,0:1]\n",
    "\n",
    "train_x = train_x.to(device)\n",
    "train_y = train_y.to(device)\n",
    "test_x = test_x.to(device)\n",
    "test_y = test_y.to(device)\n",
    "\n",
    "print(\"train_x: {}\".format(train_x.shape))\n",
    "print(\"train_y: {}\".format(train_y.shape))\n",
    "print(\"test_x:  {}\".format(test_x.shape))\n",
    "print(\"test_y:  {}\".format(test_y.shape))\n",
    "print(\"train_batch_count: {}\".format(train_batch_count))\n",
    "print(\"test_batch_count:  {}\".format(test_batch_count))"
   ]
  },
  {
   "cell_type": "code",
   "execution_count": 8,
   "id": "89afd6a6-b863-43bc-8884-34c3b669701e",
   "metadata": {},
   "outputs": [],
   "source": [
    "# 开始定义 LSTM 模型\n",
    "TIME_STEP = seq_len                                        # 一般这个单独设定，这里为了简单，还是直接就等于seq_len的方便。其实也就是等于最长的那个sequence length\n",
    "INPUT_SIZE = 117\n",
    "HIDDEN_SIZE = 768\n",
    "NUM_LAYERS = 3\n",
    "\n",
    "class LSTMModel(nn.Module):\n",
    "    def __init__(self, input_size, hidden_layer_size, num_layers, output_size, dropout=0.2):\n",
    "        super().__init__()\n",
    "        self.linear_1 = nn.Linear(input_size, hidden_layer_size)\n",
    "        self.relu = nn.ReLU()\n",
    "        self.lstm = nn.LSTM(input_size=hidden_layer_size, hidden_size=hidden_layer_size, num_layers=num_layers, batch_first=True, dropout=0.2)\n",
    "        self.dropout = nn.Dropout(dropout)\n",
    "        self.linear_2 = nn.Linear(hidden_layer_size, output_size)\n",
    "        \n",
    "        # self.init_weights()\n",
    "\n",
    "    def init_weights(self):\n",
    "        for name, param in self.lstm.named_parameters():\n",
    "            if 'bias' in name:\n",
    "                 nn.init.constant_(param, 0.0)\n",
    "            elif 'weight_ih' in name:\n",
    "                 nn.init.kaiming_normal_(param)\n",
    "            elif 'weight_hh' in name:\n",
    "                 nn.init.orthogonal_(param)\n",
    "\n",
    "    def forward(self, x):\n",
    "        batchsize = x.shape[0]\n",
    "\n",
    "        # layer 1\n",
    "        x = self.linear_1(x)\n",
    "        x = self.relu(x)\n",
    "        \n",
    "        # LSTM layer\n",
    "        lstm_out, self.hidden_cell = self.lstm(x)\n",
    "\n",
    "        lstm_out = self.dropout(lstm_out)\n",
    "        predictions = self.linear_2(lstm_out)\n",
    "        return predictions\n"
   ]
  },
  {
   "cell_type": "code",
   "execution_count": 9,
   "id": "9a955f38-4ff2-477a-baf3-80289544d046",
   "metadata": {},
   "outputs": [
    {
     "name": "stdout",
     "output_type": "stream",
     "text": [
      "4 of 100 epoch loss: 0.000270\n",
      "9 of 100 epoch loss: 0.000185\n",
      "14 of 100 epoch loss: 0.000191\n",
      "19 of 100 epoch loss: 0.000161\n",
      "24 of 100 epoch loss: 0.000137\n",
      "29 of 100 epoch loss: 0.000096\n",
      "34 of 100 epoch loss: 0.000098\n",
      "39 of 100 epoch loss: 0.000067\n",
      "44 of 100 epoch loss: 0.000096\n",
      "49 of 100 epoch loss: 0.000065\n",
      "54 of 100 epoch loss: 0.000047\n",
      "59 of 100 epoch loss: 0.000035\n",
      "64 of 100 epoch loss: 0.000029\n",
      "69 of 100 epoch loss: 0.000037\n",
      "74 of 100 epoch loss: 0.000024\n",
      "79 of 100 epoch loss: 0.000016\n",
      "84 of 100 epoch loss: 0.000018\n",
      "89 of 100 epoch loss: 0.000018\n",
      "94 of 100 epoch loss: 0.000016\n",
      "99 of 100 epoch loss: 0.000013\n",
      "Done\n"
     ]
    }
   ],
   "source": [
    "# 初始化 LSTM 模型\n",
    "model = LSTMModel(input_size=INPUT_SIZE, hidden_layer_size=HIDDEN_SIZE, num_layers=NUM_LAYERS, output_size=1)\n",
    "model = model.to(device)\n",
    "LR = 5e-5\n",
    "loss_func = nn.MSELoss()\n",
    "optimizer = torch.optim.Adam(model.parameters(), lr=LR, weight_decay=1e-8)\n",
    "\n",
    "# 训练 LSTM 模型; \n",
    "i = 0\n",
    "epoches = 100\n",
    "\n",
    "for epoch in range(epoches):\n",
    "    for step in range(train_batch_count):\n",
    "        # print(train_x[i])\n",
    "        # print(train_x[i].shape)\n",
    "        model = model.double()\n",
    "\n",
    "        pred = model(train_x[i])\n",
    "        # pred.to('cpu')\n",
    "        # print(\"pred   : {}\".format(pred.shape))\n",
    "        # print(\"train_y: {}\".format(train_y[i].shape))\n",
    "        loss = loss_func(pred, train_y[i])\n",
    "        optimizer.zero_grad()\n",
    "        loss.backward()\n",
    "        torch.nn.utils.clip_grad_norm_(model.parameters(), max_norm=20, norm_type=2)\n",
    "        optimizer.step()\n",
    "\n",
    "        if (i+1)%train_batch_count == 0:\n",
    "            i=0\n",
    "        else:\n",
    "            i=i+1\n",
    "    if (epoch+1)%5 == 0:\n",
    "        print(\"{} of {} epoch loss: {:.6f}\".format(epoch, epoches, loss.item()))\n",
    "print(\"Done\")"
   ]
  },
  {
   "cell_type": "code",
   "execution_count": 12,
   "id": "de03d0d2-8f72-4a41-9f33-20fa64aa951e",
   "metadata": {},
   "outputs": [
    {
     "name": "stdout",
     "output_type": "stream",
     "text": [
      "loss: 0.000045\n",
      "True\n"
     ]
    },
    {
     "data": {
      "image/png": "[encoded data removed]",
      "text/plain": [
       "<Figure size 432x288 with 1 Axes>"
      ]
     },
     "metadata": {
      "needs_background": "light"
     },
     "output_type": "display_data"
    }
   ],
   "source": [
    "# GPU -- 用模型来做测试数据的误差\n",
    "\n",
    "pred = model(test_x[0])\n",
    "\n",
    "test_y=test_y.cpu()\n",
    "pred = pred.cpu()\n",
    "\n",
    "loss = loss_func(pred, test_y[0])\n",
    "print(\"loss: {:.6f}\".format(loss.item()))\n",
    "\n",
    "# actual_line = np.array(test_y[0]).flatten().tolist()\n",
    "# pred_line = pred.data.numpy().flatten().tolist()\n",
    "\n",
    "actual_line = np.array(test_y[0][-1]).flatten().tolist()\n",
    "pred_line = pred[-1].data.numpy().flatten().tolist()\n",
    "\n",
    "\n",
    "print(len(actual_line) == len(pred_line))\n",
    "plt.plot(actual_line, 'r--')\n",
    "plt.plot(pred_line, 'b-')\n",
    "plt.show()"
   ]
  },
  {
   "cell_type": "code",
   "execution_count": null,
   "id": "07796408-ed76-42e0-8b86-ee14eb5f2210",
   "metadata": {},
   "outputs": [],
   "source": []
  }
 ],
 "metadata": {
  "kernelspec": {
   "display_name": "Python 3 (ipykernel)",
   "language": "python",
   "name": "python3"
  },
  "language_info": {
   "codemirror_mode": {
    "name": "ipython",
    "version": 3
   },
   "file_extension": ".py",
   "mimetype": "text/x-python",
   "name": "python",
   "nbconvert_exporter": "python",
   "pygments_lexer": "ipython3",
   "version": "3.7.0"
  }
 },
 "nbformat": 4,
 "nbformat_minor": 5
}
