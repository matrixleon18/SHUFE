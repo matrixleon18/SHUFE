{
 "cells": [
  {
   "cell_type": "code",
   "execution_count": 7,
   "id": "84918cd0-ce3b-4221-a645-c15527573f83",
   "metadata": {},
   "outputs": [
    {
     "name": "stdout",
     "output_type": "stream",
     "text": [
      "torch.Size([5, 3, 20])\n",
      "torch.Size([2, 3, 20])\n",
      "torch.Size([2, 3, 20])\n"
     ]
    }
   ],
   "source": [
    "# 这是最简单的 LTSM 模型\n",
    "import torch\n",
    "import torch.nn as nn\n",
    "\n",
    "# 初始化的 lstm 模型\n",
    "lstm_model = nn.LSTM(10, 20, 2)                    # 参数为(input_size, hidden_size, num_layers)\n",
    "\n",
    "# 模型的cell接受的输入参数\n",
    "x = torch.randn(5, 3, 10)                         # 参数为(seq_len, batch, input_size)\n",
    "# 模型的cell接受的输入hidden_state；也是前一个cell的输出hidden_state\n",
    "h0 = torch.randn(2, 3, 20)                         # 参数为(num_layers * num_directions, batch, hidden_size)\n",
    "# 模型的cell初始值\n",
    "c0 = torch.randn(2, 3, 20)                         # 参数为(num_layers * num_directions, batch, hidden_size)\n",
    "\n",
    "y, (h1, c1) = lstm_model(x, (h0, c0))\n",
    "\n",
    "print(y.size())\n",
    "print(h1.size())\n",
    "print(c1.size())\n"
   ]
  },
  {
   "cell_type": "code",
   "execution_count": null,
   "id": "80ef4ef8-5b74-4fbf-bc94-13ab3833fa76",
   "metadata": {},
   "outputs": [],
   "source": [
    "# 这是用LTSM模型做 MNIST 图片的识别\n",
    "import torch\n",
    "import torch.nn as nn\n",
    "from torch.autograd import Variable\n",
    "import numpy as np\n",
    "import matplotlib.pyplot as plt"
   ]
  }
 ],
 "metadata": {
  "kernelspec": {
   "display_name": "Python 3 (ipykernel)",
   "language": "python",
   "name": "python3"
  },
  "language_info": {
   "codemirror_mode": {
    "name": "ipython",
    "version": 3
   },
   "file_extension": ".py",
   "mimetype": "text/x-python",
   "name": "python",
   "nbconvert_exporter": "python",
   "pygments_lexer": "ipython3",
   "version": "3.7.3"
  }
 },
 "nbformat": 4,
 "nbformat_minor": 5
}
