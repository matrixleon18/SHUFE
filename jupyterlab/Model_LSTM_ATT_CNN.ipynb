{
 "cells": [
  {
   "cell_type": "code",
   "execution_count": 1,
   "id": "0f6e9707-a755-443b-8483-00b9df2ea38b",
   "metadata": {},
   "outputs": [],
   "source": [
    "# LSTM 单层 LSTM 的结构"
   ]
  },
  {
   "cell_type": "code",
   "execution_count": 2,
   "id": "301a0bfe-88e2-4398-9334-cc77d8bb8563",
   "metadata": {},
   "outputs": [],
   "source": [
    "# 准备数据\n",
    "import torch\n",
    "import torch.nn as nn\n",
    "from torch.autograd import Variable\n",
    "import torch.nn.functional as F\n",
    "import numpy as np\n",
    "import pandas as pd\n",
    "import time\n",
    "import random\n",
    "import math\n",
    "import matplotlib.pyplot as plt"
   ]
  },
  {
   "cell_type": "code",
   "execution_count": 3,
   "id": "0a0c3f73-0613-4605-9691-ba3dfbbfbf66",
   "metadata": {},
   "outputs": [],
   "source": [
    "np.random.seed(3)\n",
    "torch.manual_seed(3)\n",
    "torch.cuda.manual_seed(3)\n",
    "\n",
    "# np.random.seed(1027)\n",
    "# torch.manual_seed(1027)\n",
    "# torch.cuda.manual_seed(1027)\n",
    "torch.backends.cudnn.deterministic = True"
   ]
  },
  {
   "cell_type": "code",
   "execution_count": 4,
   "id": "fe160cab-111b-4904-abb0-8204a8a10669",
   "metadata": {},
   "outputs": [],
   "source": [
    "# 设置 GPU 优先\n",
    "device = torch.device('cuda:0' if torch.cuda.is_available() else 'cpu')\n",
    "\n",
    "# 加载数据\n",
    "dataset = pd.read_csv(\"601229.csv\", index_col=0)\n",
    "dataset = dataset.drop(['date'], axis=1)\n",
    "dataset = dataset.fillna(0)"
   ]
  },
  {
   "cell_type": "code",
   "execution_count": 5,
   "id": "e812258d-0a75-4bff-b1eb-383f1f9f96be",
   "metadata": {},
   "outputs": [
    {
     "name": "stdout",
     "output_type": "stream",
     "text": [
      "rolling_data shape: (646, 25, 139)\n",
      "seq count: 646\n",
      "seq length: 25\n",
      "TRAIN_BATCH_COUNT : 14\n",
      "VALID_BATCH_COUNT : 2\n",
      "TEST_BATCH_COUNT  : 1\n",
      "train_x: torch.Size([14, 40, 25, 138])\n",
      "train_y: torch.Size([14, 40, 1, 1])\n",
      "valid_x: torch.Size([2, 40, 25, 138])\n",
      "valid_y: torch.Size([2, 40, 1, 1])\n",
      "test_x:  torch.Size([1, 6, 25, 138])\n",
      "test_y:  torch.Size([1, 6, 1, 1])\n",
      "train_batch_count: 14\n",
      "valid_batch_count: 2\n",
      "test_batch_count:  1\n"
     ]
    }
   ],
   "source": [
    "# 将数据按照BATCH_SIZE的窗口进行滑动，每个窗口数据做一组\n",
    "# # 数据转成sequence的格式，这里定义每个seq的长度\n",
    "TRAIN_VALIDATION_RATIO = 0.9\n",
    "TRAIN_BATCH_SIZE = 40                                                        # 注意：BATCH_SIZE是要能够整除(total_seq_count-1)的\n",
    "TEST_BATCH_SIZE = 1\n",
    "SEQ_LENGTH = 25\n",
    "Y_SEQ_LEN = 1                                                         # 要用2个y来表示预测的第一天和预测的第二天，对应 \"future\" 和 \"future2\",每个y都是1-D的，y的seq_len是2\n",
    "Y_DIM = 1\n",
    "X_DIM = dataset.shape[1]-Y_SEQ_LEN                                    # 表示输入的sequence里每个element有122维度，也是encoder的input_dim\n",
    "\n",
    "# 把数据切换成 BATCH_SIZE 的一个个batch\n",
    "rolling_data = pd.DataFrame()\n",
    "for i in dataset.rolling(SEQ_LENGTH):\n",
    "    if i.shape[0] == SEQ_LENGTH:\n",
    "        rolling_data = rolling_data.append(i)\n",
    "\n",
    "rolling_data = rolling_data.values.reshape(-1, SEQ_LENGTH, X_DIM+Y_SEQ_LEN)                   # 数据一共是 seq_count x seq_len x (x_in_dim+Y_SEQ_LEN) \n",
    "\n",
    "print(\"rolling_data shape: {}\".format(rolling_data.shape))\n",
    "print(\"seq count: {}\".format(rolling_data.shape[0]))                                       # 所以一共有 seq_count 列数据，每一行的数据是123维 （包括y）\n",
    "print(\"seq length: {}\".format(SEQ_LENGTH))\n",
    "\n",
    "# TEST_BATCH_COUNT  = (rolling_data.shape[0])%TRAIN_BATCH_SIZE\n",
    "TEST_BATCH_SIZE  = (rolling_data.shape[0])%TRAIN_BATCH_SIZE\n",
    "if TEST_BATCH_SIZE == 0:                                                                   # 如果 rolling_data 刚好被整除，那就专门留一整块给test，全部算一个batch\n",
    "    TEST_BATCH_SIZE = TRAIN_BATCH_SIZE\n",
    "TEST_BATCH_COUNT = 1\n",
    "TRAIN_BATCH_COUNT = int(((rolling_data.shape[0]-TEST_BATCH_SIZE*TEST_BATCH_COUNT)//TRAIN_BATCH_SIZE) * TRAIN_VALIDATION_RATIO)\n",
    "VALID_BATCH_COUNT = int(((rolling_data.shape[0]-TEST_BATCH_SIZE*TEST_BATCH_COUNT)//TRAIN_BATCH_SIZE) - TRAIN_BATCH_COUNT)\n",
    "\n",
    "print(\"TRAIN_BATCH_COUNT : {}\".format(TRAIN_BATCH_COUNT))\n",
    "print(\"VALID_BATCH_COUNT : {}\".format(VALID_BATCH_COUNT))\n",
    "print(\"TEST_BATCH_COUNT  : {}\".format(TEST_BATCH_COUNT))\n",
    "\n",
    "# train = rolling_data[:-test_seq_count].reshape(-1, BATCH_SIZE, SEQ_LENGTH, X_DIM+Y_SEQ_LEN)           # 把数据转成 tain_batch_count x BATCH_SIZE x seq_len x in_dim 格式\n",
    "# test  = rolling_data[-test_seq_count:].reshape(-1, BATCH_SIZE, SEQ_LENGTH, X_DIM+Y_SEQ_LEN)           # 把数据转成 test_batch_count x BATCH_SIZE x seq_len x in_dim 格式\n",
    "\n",
    "train = rolling_data[:TRAIN_BATCH_COUNT*TRAIN_BATCH_SIZE].reshape(TRAIN_BATCH_COUNT, TRAIN_BATCH_SIZE, SEQ_LENGTH, X_DIM+Y_DIM*Y_SEQ_LEN)                    # 把数据转成 tain_batch_count x TRAIN_BATCH_SIZE x seq_len x in_dim 格式\n",
    "valid = rolling_data[TRAIN_BATCH_COUNT*TRAIN_BATCH_SIZE:-TEST_BATCH_COUNT*TEST_BATCH_SIZE].reshape(VALID_BATCH_COUNT, TRAIN_BATCH_SIZE, SEQ_LENGTH, X_DIM+Y_DIM*Y_SEQ_LEN)     # 把数据转成 tain_batch_count x TRAIN_BATCH_SIZE x seq_len x in_dim 格式\n",
    "test  = rolling_data[-TEST_BATCH_COUNT*TEST_BATCH_SIZE:].reshape(TEST_BATCH_COUNT, TEST_BATCH_SIZE, SEQ_LENGTH, X_DIM+Y_DIM*Y_SEQ_LEN)                     # 把数据转成 test_batch_count x TEST_BATCH_SIZE x seq_len x in_dim 格式\n",
    "\n",
    "TRAIN_BATCH_COUNT = train.shape[0]\n",
    "TRAIN_BATCH_SIZE = train.shape[1]\n",
    "VALID_BATCH_COUNT = valid.shape[0]\n",
    "VALID_BATCH_SIZE = valid.shape[1]\n",
    "TEST_BATCH_COUNT = test.shape[0]\n",
    "TEST_BATCH_SIZE = test.shape[1]\n",
    "\n",
    "train = torch.tensor(train)\n",
    "valid = torch.tensor(valid)\n",
    "test  = torch.tensor(test)\n",
    "\n",
    "\n",
    "train_x, train_y = train[:,:,:,Y_SEQ_LEN:], train[:,:,-1:,0:Y_SEQ_LEN]           # [train_batch_count, batch_size, sequence_length, XorY dimission]\n",
    "valid_x, valid_y = valid[:,:,:,Y_SEQ_LEN:], valid[:,:,-1:,0:Y_SEQ_LEN]           # [valid_batch_count, batch_size, sequence_length, XorY dimission]\n",
    "test_x,  test_y  = test[:,:,:, Y_SEQ_LEN:],  test[:,:,-1:,0:Y_SEQ_LEN]           # [train_batch_count, batch_size, sequence_length, XorY dimission]\n",
    "\n",
    "train_y = train_y.permute(0, 1, 3, 2)                                    # conver from [train_batch_count, batch_size, seq_length, y_seq_len]  to [train_batch_count, batch_size, y_seq_len, 1-dim]\n",
    "valid_y = valid_y.permute(0, 1, 3, 2)                                    # conver from [train_batch_count, batch_size, seq_length, y_seq_len]  to [train_batch_count, batch_size, y_seq_len, 1-dim]\n",
    "test_y  =  test_y.permute(0, 1, 3, 2)                                    # conver from [test_batch_count, batch_size, seq_length, y_seq_len]  to  [test_batch_count, batch_size, y_seq_len, 1-dim]\n",
    "\n",
    "\n",
    "train_x = train_x.to(device)\n",
    "train_y = train_y.to(device)\n",
    "valid_x = valid_x.to(device)\n",
    "valid_y = valid_y.to(device)\n",
    "test_x = test_x.to(device)\n",
    "test_y = test_y.to(device)\n",
    "\n",
    "print(\"train_x: {}\".format(train_x.shape))\n",
    "print(\"train_y: {}\".format(train_y.shape))\n",
    "print(\"valid_x: {}\".format(valid_x.shape))\n",
    "print(\"valid_y: {}\".format(valid_y.shape))\n",
    "print(\"test_x:  {}\".format(test_x.shape))\n",
    "print(\"test_y:  {}\".format(test_y.shape))\n",
    "print(\"train_batch_count: {}\".format(train.shape[0]))\n",
    "print(\"valid_batch_count: {}\".format(valid.shape[0]))\n",
    "print(\"test_batch_count:  {}\".format(test.shape[0]))"
   ]
  },
  {
   "cell_type": "code",
   "execution_count": 6,
   "id": "3699882f-47e3-4cd3-a9ca-9be52a8f89e4",
   "metadata": {},
   "outputs": [],
   "source": [
    "# 定义 LSTM 模型\n",
    "\n",
    "class LSTMModel(nn.Module):\n",
    "    def __init__(self, input_size, hidden_dim_size, num_layers, output_size, attention_size=5, dropout=0.1):\n",
    "        super().__init__()\n",
    "        self.hidden_size = hidden_dim_size\n",
    "        self.sequence_length = SEQ_LENGTH\n",
    "        self.attention_size = attention_size\n",
    "        self.num_layers = num_layers\n",
    "        self.attention_size = attention_size    \n",
    "        self.output_size = output_size\n",
    "        \n",
    "        self.conv1 = nn.Conv1d(input_size, 512, kernel_size=3, padding='same')        \n",
    "        self.conv2 = nn.Conv1d(input_size, 512, kernel_size=5, padding='same')\n",
    "        self.conv3 = nn.Conv1d(input_size, 512, kernel_size=7, padding='same')\n",
    "        self.conv4 = nn.Conv1d(input_size, 512, kernel_size=9, padding='same')\n",
    "        self.bn1 = nn.BatchNorm1d(256)  \n",
    "        self.bn2 = nn.BatchNorm1d(self.hidden_size)\n",
    "        \n",
    "        self.conv01 = nn.Conv1d(input_size, 256, kernel_size=3, padding='same')        \n",
    "        self.conv02 = nn.Conv1d(input_size, 256, kernel_size=5, padding='same')\n",
    "        self.conv03 = nn.Conv1d(input_size, 256, kernel_size=7, padding='same')\n",
    "        self.conv04 = nn.Conv1d(input_size, 256, kernel_size=9, padding='same')\n",
    "          \n",
    "            \n",
    "        self.conv31 = nn.Conv1d(self.hidden_size, 512, kernel_size=3, padding='same')        \n",
    "        self.conv32 = nn.Conv1d(512, 256, kernel_size=5, padding='same')\n",
    "        self.conv33 = nn.Conv1d(256, 128, kernel_size=7, padding='same')\n",
    "        self.conv34 = nn.Conv1d(128, 64, kernel_size=9, padding='same')\n",
    "        self.linear35 = nn.Linear(64, self.output_size)    # 这个是给最后的多头注意力再乘 W0 的\n",
    "        \n",
    "                \n",
    "        self.num_attention_head = 64                                                                  # 64\n",
    "        self.attention_head_size = int(self.hidden_size/self.num_attention_head)                      # 每个头是32个维度\n",
    "        self.all_head_size = self.num_attention_head * self.attention_head_size                       # 所有的头的维度合集\n",
    "        \n",
    "        self.dropout = nn.Dropout(dropout)\n",
    "        \n",
    "        self.layer_norm = nn.LayerNorm(self.hidden_size, elementwise_affine=False)\n",
    "        \n",
    "        self.lstm1 = nn.LSTM(input_size=self.hidden_size, hidden_size=self.hidden_size, num_layers=self.num_layers, batch_first=True, dropout=dropout)\n",
    "        self.lstm2 = nn.LSTM(input_size=self.hidden_size, hidden_size=self.hidden_size, num_layers=self.num_layers, batch_first=True, dropout=dropout)\n",
    "\n",
    "        self.linear_1 = nn.Linear(input_size, self.hidden_size)          # 这个是将输入的维度转换成 hidden_dim 的\n",
    "        self.linear_2 = nn.Linear(self.hidden_size, self.hidden_size)    # 这个是给最后的多头注意力再乘 W0 的\n",
    "        self.linear_3 = nn.Linear(self.hidden_size, self.output_size)    # 这个是给最后的多头注意力再乘 W0 的\n",
    "        \n",
    "        self.relu = nn.LeakyReLU()                                       # 用 relu 来增强模型非线性\n",
    "        self.tanh = nn.Tanh()\n",
    "        \n",
    "        # self.query = nn.Linear(self.hidden_size, self.hidden_size)     # 输入768， 输出多头的维度总数。这里还是768.\n",
    "        # self.key = nn.Linear(self.hidden_size, self.hidden_size)       # 输入768， 输出多头的维度总数。这里还是768.\n",
    "        # self.value = nn.Linear(self.hidden_size, self.hidden_size)     # 输入768， 输出多头的维度总数。这里还是768.\n",
    "        \n",
    "        self.query = nn.Linear(self.hidden_size, self.all_head_size)     # 输入768， 输出多头的维度总数。这里还是768.\n",
    "        self.key = nn.Linear(self.hidden_size, self.all_head_size)       # 输入768， 输出多头的维度总数。这里还是768.\n",
    "        self.value = nn.Linear(self.hidden_size, self.all_head_size)     # 输入768， 输出多头的维度总数。这里还是768.\n",
    "        \n",
    "  \n",
    "        self.init_weights3()\n",
    "\n",
    "    def init_weights1(self):\n",
    "        for name, param in self.lstm1.named_parameters():\n",
    "            if 'bias' in name:\n",
    "                nn.init.constant_(param, 0.0)\n",
    "            elif 'weight_ih' in name:\n",
    "                nn.init.kaiming_normal_(param)\n",
    "            elif 'weight_hh' in name:\n",
    "                nn.init.orthogonal_(param)\n",
    "        for name, param in self.lstm2.named_parameters():\n",
    "            if 'bias' in name:\n",
    "                nn.init.constant_(param, 0.0)\n",
    "            elif 'weight_ih' in name:\n",
    "                nn.init.kaiming_normal_(param)\n",
    "            elif 'weight_hh' in name:\n",
    "                nn.init.orthogonal_(param)\n",
    "                \n",
    "    def init_weights2(self):\n",
    "        for name, param in self.lstm1.named_parameters():\n",
    "            if 'bias' in name:\n",
    "                nn.init.constant_(param, 0.0)\n",
    "            elif 'weight_ih' in name:\n",
    "                nn.init.kaiming_normal_(param)\n",
    "            elif 'weight_hh' in name:\n",
    "                nn.init.kaiming_normal_(param)    \n",
    "        for name, param in self.lstm2.named_parameters():\n",
    "            if 'bias' in name:\n",
    "                nn.init.constant_(param, 0.0)\n",
    "            elif 'weight_ih' in name:\n",
    "                nn.init.kaiming_normal_(param)\n",
    "            elif 'weight_hh' in name:\n",
    "                nn.init.kaiming_normal_(param)    \n",
    "                \n",
    "    def init_weights3(self):\n",
    "        for name, param in self.lstm1.named_parameters():\n",
    "            if 'bias' in name:\n",
    "                nn.init.constant_(param, 0.0)\n",
    "            elif 'weight_ih' in name:\n",
    "                nn.init.orthogonal_(param)\n",
    "            elif 'weight_hh' in name:\n",
    "                nn.init.orthogonal_(param)\n",
    "        for name, param in self.lstm2.named_parameters():\n",
    "            if 'bias' in name:\n",
    "                nn.init.constant_(param, 0.0)\n",
    "            elif 'weight_ih' in name:\n",
    "                nn.init.orthogonal_(param)\n",
    "            elif 'weight_hh' in name:\n",
    "                nn.init.orthogonal_(param)\n",
    "    \n",
    "    def init_weights4(self):\n",
    "        for name, param in self.lstm1.named_parameters():\n",
    "            if 'bias' in name:\n",
    "                nn.init.normal_(param, mean=0, std=1)\n",
    "            elif 'weight_ih' in name:\n",
    "                nn.init.orthogonal_(param)\n",
    "            elif 'weight_hh' in name:\n",
    "                nn.init.orthogonal_(param)\n",
    "        for name, param in self.lstm2.named_parameters():\n",
    "            if 'bias' in name:\n",
    "                nn.init.normal_(param, mean=0, std=1)\n",
    "            elif 'weight_ih' in name:\n",
    "                nn.init.orthogonal_(param)\n",
    "            elif 'weight_hh' in name:\n",
    "                nn.init.orthogonal_(param)\n",
    "    \n",
    "    \n",
    "    def conv_net(self, x):\n",
    "        \n",
    "        x = x.permute(0, 2, 1)\n",
    "        \n",
    "        x1 = self.relu(self.conv1(x))\n",
    "        x1 = x1.permute(0, 2, 1)\n",
    "        x1 = F.max_pool1d(x1, 2)\n",
    "                \n",
    "        x2 = self.relu(self.conv2(x))\n",
    "        x2 = x2.permute(0, 2, 1)\n",
    "        x2 = F.max_pool1d(x2, 2)\n",
    "\n",
    "        x3 = self.relu(self.conv3(x))\n",
    "        x3 = x3.permute(0, 2, 1)\n",
    "        x3 = F.max_pool1d(x3, 2)\n",
    "       \n",
    "        x4 = self.relu(self.conv4(x))\n",
    "        x4 = x4.permute(0, 2, 1)\n",
    "        x4 = F.max_pool1d(x4, 2)\n",
    "        \n",
    "        \n",
    "        x = torch.cat([x1, x2, x3, x4], 2)\n",
    "               \n",
    "        return x\n",
    "\n",
    "    \n",
    "    def conv_net2(self, x):\n",
    "        \n",
    "        x = x.permute(0, 2, 1)\n",
    "        \n",
    "        x1 = F.relu(self.conv01(x))\n",
    "        x1 = x1.permute(0, 2, 1)\n",
    "                \n",
    "        x2 = F.relu(self.conv02(x))\n",
    "        x2 = x2.permute(0, 2, 1)\n",
    "\n",
    "        x3 = F.relu(self.conv03(x))\n",
    "        x3 = x3.permute(0, 2, 1)\n",
    "       \n",
    "        x4 = F.relu(self.conv04(x))\n",
    "        x4 = x4.permute(0, 2, 1)\n",
    "        \n",
    "        \n",
    "        x = torch.cat([x1, x2, x3, x4], 2)\n",
    "        \n",
    "        return x\n",
    "\n",
    "    def conv_net3(self, x):\n",
    "        \n",
    "        x = x.permute(0, 2, 1)\n",
    "        \n",
    "        x = F.relu(self.conv31(x))\n",
    "        x = F.max_pool1d(x, 2)\n",
    "\n",
    "        x = F.relu(self.conv32(x))\n",
    "        x = F.max_pool1d(x, 2)\n",
    "                \n",
    "        x = F.relu(self.conv33(x))\n",
    "        x = F.max_pool1d(x, 2)\n",
    "        \n",
    "        x = F.relu(self.conv34(x))\n",
    "        x = F.max_pool1d(x, 2)\n",
    "        \n",
    "        \n",
    "        x = x.permute(0, 2, 1)\n",
    "        \n",
    "        return x\n",
    "    \n",
    "    def attention_net(self, in_value, mask=None):\n",
    "        # print(lstm_output.size())                                                   # [batch_size, seq_len, hidden_dim_size]\n",
    "        # print(query.size())                                                         # [batch_size, seq_len, hidden_dim_size]\n",
    "        # key   = lstm_output.transpose(1,2)\n",
    "        # query = lstm_output\n",
    "        # value = lstm_output\n",
    "        batch_size = in_value.shape[0]\n",
    "        seq_len = in_value.shape[1]\n",
    "        hidden_dim = in_value.shape[2]\n",
    "        \n",
    "        # Q = self.query(in_value)\n",
    "        # K = self.key(in_value)\n",
    "        # V = self.value(in_value)\n",
    "        # V = in_value\n",
    "        \n",
    "        # Q : [batch_size, seq_len, hidden_dim] ==> [batch_size, seq_len, num_head, head_size] ==> [batch_size, num_head, seq_len, head_size]\n",
    "        Q = self.query(in_value).reshape(batch_size, seq_len, self.num_attention_head, self.attention_head_size).permute(0, 2, 1, 3)      # 先将 hidden_dim 切成 num_head * head_size ，再将 num_head 和 seq_len互换\n",
    "        K = self.key(in_value).reshape(batch_size, seq_len, self.num_attention_head, self.attention_head_size).permute(0, 2, 1, 3)        # 先将 hidden_dim 切成 num_head * head_size ，再将 num_head 和 seq_len互换\n",
    "        V = self.value(in_value).reshape(batch_size, seq_len, self.num_attention_head, self.attention_head_size).permute(0, 2, 1, 3)      # 先将 hidden_dim 切成 num_head * head_size ，再将 num_head 和 seq_len互换\n",
    "        \n",
    "        # d_k = Q.size(-1)                                                                            # d_k为query的维度。避免概率接近0\n",
    "        \n",
    "        # attention_scores = torch.matmul(query, lstm_output.transpose(1, 2)) / math.sqrt(d_k)     #打分机制  [batch_size, seq_len, hid_dim] * [batch_size, hid_dim, seq_len] ==> scores:[batch_size, seq_len, seq_len], 每个值就是两个输入x元素的相似性\n",
    "        attention_scores = torch.matmul(Q, K.transpose(-1, -2))                                    # [batch_size, num_head, seq_len, head_size] * [batch_size, num_head, head_size, seq_len] ==> [batch_size, num_head, seq_len, seq_len]\n",
    "        \n",
    "        # attention_scores = attention_scores / math.sqrt(d_k)                                       # [batch_size, seq_len, seq_len]\n",
    "        attention_scores = attention_scores / math.sqrt(self.attention_head_size)                  # 多头机制下，hidden-dim被划分为 num_head个区域，所以现在要除的就是每个小区域的维度开方\n",
    "        \n",
    "        # alpha = F.softmax(attention_scores, dim = -1)                                            #对最后一个维度归一化得分  [batch_size, seq_len, seq_len] 保证相似性在一行上归一了。\n",
    "        alpha = nn.Softmax(dim=-1)(attention_scores)                                               # 因为alpha是方阵，0维的seq_len就是真正的序列长度，1维的seq_len是对应每一个element和序列元素相关性。\n",
    "        \n",
    "        # alpha = self.dropout(alpha)\n",
    "\n",
    "        attention = torch.matmul(alpha, V)                                            # [batch_size, num_head, seq_len, seq_len] * [batch_size, num_head, seq_len, head_size] = [batch_size, num_head, seq_len, head_size]\n",
    "        \n",
    "        attention = attention.permute(0, 2, 1, 3).contiguous()                       # [batch_size, num_head, seq_len, head_size] ==> [batch_size, seq_len, num_head, head_size]\n",
    "        # new_attention_shape = attention.size()[:-2] + (self.all_head_size,)\n",
    "        # attention = attention.view(*new_attention_shape)\n",
    "        attention = attention.reshape(batch_size, seq_len, self.all_head_size)\n",
    "        \n",
    "        attention = self.linear_2(attention)\n",
    "        \n",
    "        return attention      \n",
    "        \n",
    "    \n",
    "    def forward(self, x, hidden, cell):\n",
    "        \n",
    "        # x = self.conv_net(x)\n",
    "        \n",
    "        # x = self.conv_net2(x)\n",
    "        \n",
    "        x = self.linear_1(x)\n",
    "\n",
    "        lstm1_out, (h1_n, c1_n) = self.lstm1(x, (hidden, cell))\n",
    "        \n",
    "        lstm1_out = self.dropout(lstm1_out)\n",
    "        \n",
    "        lstm1_out,  (h2_n, c2_n) = self.lstm2(lstm1_out, (h1_n, c1_n))\n",
    "        \n",
    "        attn_output = self.attention_net(lstm1_out)       #和LSTM的不同就在于这一句\n",
    "        \n",
    "        # attn_output = self.dropout(attn_output)\n",
    "\n",
    "        # predictions = self.linear_3(attn_output)\n",
    "        \n",
    "        attn_output = self.conv_net3(attn_output)\n",
    "\n",
    "        predictions = self.linear35(attn_output)\n",
    "        \n",
    "        \n",
    "        return predictions, h2_n, c2_n\n"
   ]
  },
  {
   "cell_type": "code",
   "execution_count": 7,
   "id": "847eb8d0-f5f3-4943-ad9e-b9f2a7ba5c52",
   "metadata": {},
   "outputs": [],
   "source": [
    "# 训练 LSTM 模型 ---- 这里的损失函数是计算Sequence最后一个元素的预测数据和真实数据差异\n",
    "\n",
    "HIDDEN_SIZE = 1024\n",
    "NUM_LAYERS = 2\n",
    "\n",
    "def RMSELoss(yhat,y):\n",
    "    return torch.sqrt(torch.mean((yhat-y)**2))\n",
    "\n",
    "model = LSTMModel(input_size=X_DIM, hidden_dim_size=HIDDEN_SIZE, num_layers=NUM_LAYERS, output_size=1).double().to(device)\n",
    "LR = 1e-5\n",
    "# loss_func = nn.MSELoss(reduction=\"mean\")\n",
    "loss_func = RMSELoss\n",
    "optimizer = torch.optim.Adam(model.parameters(), lr=LR, weight_decay=1e-6)\n",
    "scheduler = torch.optim.lr_scheduler.ExponentialLR(optimizer, gamma=1, last_epoch=-1)"
   ]
  },
  {
   "cell_type": "code",
   "execution_count": 8,
   "id": "a55a643b-f390-4f82-b4fb-da27b3592b8c",
   "metadata": {
    "tags": []
   },
   "outputs": [
    {
     "name": "stdout",
     "output_type": "stream",
     "text": [
      "9 of 200 epoch   train_loss: 0.536555   valid_loss: 1.391537\n",
      "19 of 200 epoch   train_loss: 0.478093   valid_loss: 1.228202\n",
      "29 of 200 epoch   train_loss: 0.441216   valid_loss: 1.144369\n",
      "39 of 200 epoch   train_loss: 0.345683   valid_loss: 0.679917\n",
      "49 of 200 epoch   train_loss: 0.202115   valid_loss: 0.403878\n",
      "59 of 200 epoch   train_loss: 0.240915   valid_loss: 0.567954\n",
      "69 of 200 epoch   train_loss: 0.209270   valid_loss: 0.569333\n",
      "79 of 200 epoch   train_loss: 0.210810   valid_loss: 0.537488\n",
      "89 of 200 epoch   train_loss: 0.157019   valid_loss: 0.395633\n",
      "99 of 200 epoch   train_loss: 0.167834   valid_loss: 0.517168\n",
      "109 of 200 epoch   train_loss: 0.195391   valid_loss: 0.420490\n",
      "119 of 200 epoch   train_loss: 0.133937   valid_loss: 0.454544\n",
      "129 of 200 epoch   train_loss: 0.305536   valid_loss: 0.559710\n",
      "139 of 200 epoch   train_loss: 0.277638   valid_loss: 0.373290\n",
      "149 of 200 epoch   train_loss: 0.169921   valid_loss: 0.520666\n",
      "159 of 200 epoch   train_loss: 0.247788   valid_loss: 0.386142\n",
      "169 of 200 epoch   train_loss: 0.369451   valid_loss: 0.753051\n",
      "179 of 200 epoch   train_loss: 0.127487   valid_loss: 0.429986\n",
      "189 of 200 epoch   train_loss: 0.145750   valid_loss: 0.413855\n",
      "199 of 200 epoch   train_loss: 0.158374   valid_loss: 0.390977\n"
     ]
    },
    {
     "data": {
      "image/png": "[encoded data removed]",
      "text/plain": [
       "<Figure size 432x288 with 1 Axes>"
      ]
     },
     "metadata": {
      "needs_background": "light"
     },
     "output_type": "display_data"
    }
   ],
   "source": [
    "# 训练 LSTM 模型;  ---- 这里的损失函数是计算Sequence最后一个元素的预测数据和真实数据差异\n",
    "model.train()\n",
    "epoches = 200\n",
    "train_epoch_loss = 0\n",
    "train_epoch_loss_list = []\n",
    "valid_smallest_loss = 1\n",
    "valid_smallest_epoch = 0\n",
    "valid_epoch_loss = 0\n",
    "valid_epoch_loss_list = []\n",
    "\n",
    "train_batch_count = train_x.shape[0]\n",
    "valid_batch_count = valid_x.shape[0]\n",
    "\n",
    "h0 = torch.zeros(NUM_LAYERS, TRAIN_BATCH_SIZE, HIDDEN_SIZE).double().to(device)\n",
    "c0 = torch.zeros(NUM_LAYERS, TRAIN_BATCH_SIZE, HIDDEN_SIZE).double().to(device)\n",
    "\n",
    "\n",
    "for epoch in range(epoches):\n",
    "    batch_loss = []\n",
    "    train_epoch_loss = 0\n",
    "    train_pred_value_list = []\n",
    "    train_real_value_list = []\n",
    "    train_batch_list = list(range(0,train_batch_count))\n",
    "    # random.shuffle(train_batch_list)\n",
    "    for step in train_batch_list:\n",
    "        train_pred, hn, cn = model(train_x[step], h0, c0)\n",
    "        # h0, c0 = hn.detach(), cn.detach()\n",
    "        loss = loss_func(train_pred[:,-1,-1], train_y[step][:,-1,-1])                # Compare the all sequences' last element in one batch\n",
    "        train_pred_value_list.extend(list(train_pred[:,-1].cpu().detach().flatten().numpy() ))\n",
    "        train_real_value_list.extend(list(train_y[step,:,-1,-1].cpu().detach().flatten().numpy() ))\n",
    "        optimizer.zero_grad()\n",
    "        loss.backward()\n",
    "        torch.nn.utils.clip_grad_norm_(model.parameters(), max_norm=20, norm_type=2)\n",
    "        optimizer.step()\n",
    "        batch_loss.append(loss.cpu().data.numpy())\n",
    "    # print(batch_loss)\n",
    "    train_epoch_loss = np.mean(batch_loss)\n",
    "\n",
    "    batch_loss = []\n",
    "    valid_epoch_loss = 0\n",
    "    valid_pred_value_list = []\n",
    "    valid_real_value_list = []\n",
    "    for step in range(valid_batch_count):\n",
    "        valid_pred, hn, cn = model(valid_x[step], h0, c0)\n",
    "        loss = loss_func(valid_pred[:,-1], valid_y[step][:,-1,-1])\n",
    "        valid_pred_value_list.extend(list(valid_pred[:,-1].cpu().detach().flatten().numpy()))\n",
    "        valid_real_value_list.extend(list(valid_y[step,:,-1,-1].cpu().detach().flatten().numpy()))\n",
    "        batch_loss.append(loss.cpu().data.numpy())\n",
    "    # print(batch_loss)\n",
    "    valid_epoch_loss = np.mean(batch_loss)\n",
    "    \n",
    "    if ((epoch+1) %10) == 0:\n",
    "        print(\"{} of {} epoch   train_loss: {:.6f}   valid_loss: {:.6f}\".format(epoch, epoches, train_epoch_loss, valid_epoch_loss))\n",
    "\n",
    "    valid_epoch_loss_list.append(valid_epoch_loss)\n",
    "    train_epoch_loss_list.append(train_epoch_loss)\n",
    "\n",
    "plt.plot(train_epoch_loss_list, 'r-')\n",
    "plt.plot(valid_epoch_loss_list, 'b-')\n",
    "plt.show()    "
   ]
  },
  {
   "cell_type": "code",
   "execution_count": 9,
   "id": "2b69845d-ab88-441a-8ad9-e92ddf92884f",
   "metadata": {
    "tags": []
   },
   "outputs": [
    {
     "data": {
      "image/png": "[encoded data removed]",
      "text/plain": [
       "<Figure size 432x288 with 1 Axes>"
      ]
     },
     "metadata": {
      "needs_background": "light"
     },
     "output_type": "display_data"
    }
   ],
   "source": [
    "# 这是 train 的预测图形\n",
    "plt.plot(train_real_value_list, 'r-')\n",
    "plt.plot(train_pred_value_list, 'b-')\n",
    "plt.show()\n",
    "# print(train_real_value_list)"
   ]
  },
  {
   "cell_type": "code",
   "execution_count": 10,
   "id": "cb5eeb65-91d9-40f2-a653-2a0d84653eac",
   "metadata": {
    "tags": []
   },
   "outputs": [
    {
     "data": {
      "image/png": "[encoded data removed]",
      "text/plain": [
       "<Figure size 432x288 with 1 Axes>"
      ]
     },
     "metadata": {
      "needs_background": "light"
     },
     "output_type": "display_data"
    }
   ],
   "source": [
    "# 这是 vali的预测图形\n",
    "plt.plot(valid_real_value_list, 'r-')\n",
    "plt.plot(valid_pred_value_list, 'b-')\n",
    "plt.show()"
   ]
  },
  {
   "cell_type": "code",
   "execution_count": 11,
   "id": "c8cc4f28-b980-401f-873d-95218a9cd9c6",
   "metadata": {
    "tags": []
   },
   "outputs": [
    {
     "data": {
      "image/png": "[encoded data removed]",
      "text/plain": [
       "<Figure size 432x288 with 1 Axes>"
      ]
     },
     "metadata": {
      "needs_background": "light"
     },
     "output_type": "display_data"
    },
    {
     "name": "stdout",
     "output_type": "stream",
     "text": [
      "[5.88 5.84 5.73 5.85 5.83 5.95 5.96 6.02 5.9  5.79 5.75 5.91 5.86 6.02\n",
      " 6.04 6.01 5.99 5.77 5.76 5.75 5.95 5.87 5.99 5.95 5.89 5.57 5.34 5.41\n",
      " 5.4  5.36 5.03 5.2  5.44 5.66 5.85 5.96 6.06 6.06 6.25 6.36]\n",
      "[5.89388748 5.73914918 5.65778138 5.5678508  5.61375404 5.62283548\n",
      " 5.69568158 5.72132354 5.75263226 5.67098312 5.57733618 5.4807235\n",
      " 5.53874665 5.51905494 5.60310786 5.66808352 5.69881391 5.66856987\n",
      " 5.51695427 5.46355195 5.42044322 5.57509917 5.55477276 5.63858378\n",
      " 5.62412663 5.56616969 5.38848375 5.26146639 5.2567063  5.23342074\n",
      " 5.22108214 5.12582813 5.18512731 5.36118673 5.54514258 5.71605129\n",
      " 5.83081451 5.92831888 5.9771935  6.08412396]\n",
      "tensor([5.8800, 5.8400, 5.7300, 5.8500, 5.8300, 5.9500, 5.9600, 6.0200, 5.9000,\n",
      "        5.7900, 5.7500, 5.9100, 5.8600, 6.0200, 6.0400, 6.0100, 5.9900, 5.7700,\n",
      "        5.7600, 5.7500, 5.9500, 5.8700, 5.9900, 5.9500, 5.8900, 5.5700, 5.3400,\n",
      "        5.4100, 5.4000, 5.3600, 5.0300, 5.2000, 5.4400, 5.6600, 5.8500, 5.9600,\n",
      "        6.0600, 6.0600, 6.2500, 6.3600], device='cuda:0', dtype=torch.float64)\n"
     ]
    }
   ],
   "source": [
    "# 这是 valid 最后一段的数据。误差累积到这里已经很大了。\n",
    "plt.plot(valid_y[-1,:,-1,-1].cpu().detach().flatten().numpy(), 'r-')\n",
    "plt.plot(valid_pred[:,-1].cpu().detach().flatten().numpy(), 'b-')\n",
    "plt.show()\n",
    "print(valid_y[-1,:,-1,-1].cpu().detach().flatten().numpy())\n",
    "print(valid_pred[:,-1].cpu().detach().flatten().numpy())\n",
    "print(valid_y[-1,:,-1,-1])"
   ]
  },
  {
   "cell_type": "code",
   "execution_count": 12,
   "id": "4d4a22ac-9ea0-4ebd-b1a7-4b62964784e3",
   "metadata": {},
   "outputs": [
    {
     "name": "stdout",
     "output_type": "stream",
     "text": [
      "Test Loss : 2.639751\n",
      "Prediction: 6.55\n",
      "Actual:     0.00\n"
     ]
    },
    {
     "data": {
      "image/png": "[encoded data removed]",
      "text/plain": [
       "<Figure size 432x288 with 1 Axes>"
      ]
     },
     "metadata": {
      "needs_background": "light"
     },
     "output_type": "display_data"
    },
    {
     "name": "stdout",
     "output_type": "stream",
     "text": [
      "tensor([6.2100, 6.5100, 6.5700, 7.0600, 7.2600, 0.0000], device='cuda:0',\n",
      "       dtype=torch.float64)\n",
      "tensor([[6.1904],\n",
      "        [6.1517],\n",
      "        [6.2992],\n",
      "        [6.3589],\n",
      "        [6.4999],\n",
      "        [6.5533]], device='cuda:0', dtype=torch.float64,\n",
      "       grad_fn=<SelectBackward0>)\n"
     ]
    }
   ],
   "source": [
    "# 用模型预测数据\n",
    "# 考虑到时序因素，这里的时候误差很大。\n",
    "model.eval()\n",
    "test_loss = 0\n",
    "\n",
    "h0 = torch.zeros(NUM_LAYERS, test_x.shape[1], HIDDEN_SIZE).double().to(device)\n",
    "c0 = torch.zeros(NUM_LAYERS, test_x.shape[1], HIDDEN_SIZE).double().to(device)\n",
    "\n",
    "for step in range(test_x.shape[0]):\n",
    "    pred, hn, cn = model(test_x[step], h0, c0)\n",
    "    \n",
    "    loss = loss_func(pred[:,-1], test_y[step][:,-1,-1])               # Compare the all sequences' last element in one batch\n",
    "    \n",
    "    if test_x.shape[0] > 1:\n",
    "        actual_line.append(test_y[step][-1,-1].item())\n",
    "        pred_line.append(pred[-1,-1].item())\n",
    "    elif test_x.shape[0] == 1:\n",
    "        actual_line = test_y[step].cpu().detach().flatten().numpy()        # Only plot the last sequence of test batch\n",
    "        pred_line   = pred[:,-1].cpu().detach().flatten().numpy()                # Only plot the last sequence of test batch\n",
    "        \n",
    "print(\"Test Loss : {:.6f}\".format(loss.data))\n",
    "print(\"Prediction: {:.2f}\".format(float(pred[-1,-1].data)))\n",
    "print(\"Actual:     {:.2f}\".format(float(test_y[step][-1,-1].data)))\n",
    "\n",
    "\n",
    "plt.plot(test_y[step,:,-1,-1].cpu().detach().flatten().numpy(), 'r--')\n",
    "plt.plot(pred[:,-1].cpu().detach().flatten().numpy(), 'b-')\n",
    "plt.show()\n",
    "print(test_y[step,:,-1,-1])\n",
    "print(pred[:,-1])"
   ]
  },
  {
   "cell_type": "code",
   "execution_count": 13,
   "id": "cae1c0fe-d7bc-4558-a152-f7f432903458",
   "metadata": {},
   "outputs": [
    {
     "name": "stdout",
     "output_type": "stream",
     "text": [
      "(646, 25, 139)\n",
      "40\n",
      "640\n",
      "(641, 25, 139)\n",
      "torch.Size([16, 40, 25, 138]) torch.Size([16, 40, 1, 1])\n",
      "torch.Size([1, 1, 25, 138]) torch.Size([1, 1, 1, 1])\n",
      "tensor([[[[0.]]]], device='cuda:0', dtype=torch.float64)\n"
     ]
    }
   ],
   "source": [
    "# 把rolling_data再分割为 train / test 就再预测\n",
    "# 既然 预测值 和时序相关性很高，可以考虑太早的零星数据对于test影响不大，可以删掉\n",
    "print(rolling_data.shape)\n",
    "print(TRAIN_BATCH_SIZE)\n",
    "print(((rolling_data.shape[0]-1)//TRAIN_BATCH_SIZE)*TRAIN_BATCH_SIZE)\n",
    "rolling_data = rolling_data[-((rolling_data.shape[0]-1)//TRAIN_BATCH_SIZE)*TRAIN_BATCH_SIZE-1:,]\n",
    "print(rolling_data.shape)\n",
    "\n",
    "train = rolling_data[:-1].reshape(-1, TRAIN_BATCH_SIZE, SEQ_LENGTH, X_DIM+Y_DIM*Y_SEQ_LEN)                    # 把数据转成 tain_batch_count x TRAIN_BATCH_SIZE x seq_len x in_dim 格式\n",
    "test  = rolling_data[-1:].reshape(1, 1, SEQ_LENGTH, X_DIM+Y_DIM*Y_SEQ_LEN)                     # 把数据转成 test_batch_count x TEST_BATCH_SIZE x seq_len x in_dim 格式\n",
    "\n",
    "train = torch.tensor(train).to(device)\n",
    "test  = torch.tensor(test).to(device)\n",
    "\n",
    "train_x, train_y = train[:,:,:,Y_SEQ_LEN:], train[:,:,-1:,0:Y_SEQ_LEN]           # [train_batch_count, batch_size, sequence_length, XorY dimission]\n",
    "test_x,  test_y  = test[:,:,:, Y_SEQ_LEN:],  test[:,:,-1:,0:Y_SEQ_LEN]           # [train_batch_count, batch_size, sequence_length, XorY dimission]\n",
    "print(train_x.shape, train_y.shape)\n",
    "print(test_x.shape, test_y.shape)\n",
    "print(test_y)"
   ]
  },
  {
   "cell_type": "code",
   "execution_count": 14,
   "id": "36aa93b9-0c68-4771-8c31-4840a9e16c0c",
   "metadata": {},
   "outputs": [
    {
     "name": "stdout",
     "output_type": "stream",
     "text": [
      "9 of 200 epoch   train_loss: 0.592856\n",
      "19 of 200 epoch   train_loss: 0.524258\n",
      "29 of 200 epoch   train_loss: 0.501198\n",
      "39 of 200 epoch   train_loss: 0.266934\n",
      "49 of 200 epoch   train_loss: 0.412803\n",
      "59 of 200 epoch   train_loss: 0.229584\n",
      "69 of 200 epoch   train_loss: 0.206163\n",
      "79 of 200 epoch   train_loss: 0.249389\n",
      "89 of 200 epoch   train_loss: 0.172648\n",
      "99 of 200 epoch   train_loss: 0.187478\n",
      "109 of 200 epoch   train_loss: 0.220142\n",
      "119 of 200 epoch   train_loss: 0.197564\n",
      "129 of 200 epoch   train_loss: 0.178905\n",
      "139 of 200 epoch   train_loss: 0.206187\n",
      "149 of 200 epoch   train_loss: 0.141025\n",
      "159 of 200 epoch   train_loss: 0.167348\n",
      "169 of 200 epoch   train_loss: 0.135409\n",
      "179 of 200 epoch   train_loss: 0.164515\n",
      "189 of 200 epoch   train_loss: 0.170955\n",
      "199 of 200 epoch   train_loss: 0.133119\n"
     ]
    },
    {
     "data": {
      "image/png": "[encoded data removed]",
      "text/plain": [
       "<Figure size 432x288 with 1 Axes>"
      ]
     },
     "metadata": {
      "needs_background": "light"
     },
     "output_type": "display_data"
    }
   ],
   "source": [
    "# 再重新生成模型再 train 模型\n",
    "model = LSTMModel(input_size=X_DIM, hidden_dim_size=HIDDEN_SIZE, num_layers=NUM_LAYERS, output_size=1).double().to(device)\n",
    "LR = 1e-5\n",
    "# loss_func = nn.MSELoss(reduction=\"mean\")\n",
    "loss_func = RMSELoss\n",
    "optimizer = torch.optim.Adam(model.parameters(), lr=LR, weight_decay=1e-6)\n",
    "scheduler = torch.optim.lr_scheduler.ExponentialLR(optimizer, gamma=1, last_epoch=-1)\n",
    "model.train()\n",
    "\n",
    "h0 = torch.zeros(NUM_LAYERS, TRAIN_BATCH_SIZE, HIDDEN_SIZE).double().to(device)\n",
    "c0 = torch.zeros(NUM_LAYERS, TRAIN_BATCH_SIZE, HIDDEN_SIZE).double().to(device)\n",
    "\n",
    "\n",
    "for epoch in range(epoches):\n",
    "    batch_loss = []\n",
    "    train_epoch_loss = 0\n",
    "    train_pred_value_list = []\n",
    "    train_real_value_list = []\n",
    "    train_batch_list = list(range(0,train_batch_count))\n",
    "    # random.shuffle(train_batch_list)\n",
    "    for step in range(0, train_x.shape[0]):\n",
    "        train_pred, hn, cn = model(train_x[step], h0, c0)\n",
    "        # h0, c0 = hn.detach(), cn.detach()\n",
    "        loss = loss_func(train_pred[:,-1,-1], train_y[step][:,-1,-1])                # Compare the all sequences' last element in one batch\n",
    "        train_pred_value_list.extend(list(train_pred[:,-1,-1].cpu().detach().flatten().numpy() ))\n",
    "        train_real_value_list.extend(list(train_y[step,:,-1,-1].cpu().detach().flatten().numpy() ))\n",
    "        optimizer.zero_grad()\n",
    "        loss.backward()\n",
    "        torch.nn.utils.clip_grad_norm_(model.parameters(), max_norm=20, norm_type=2)\n",
    "        optimizer.step()\n",
    "        batch_loss.append(loss.cpu().data.numpy())\n",
    "    if ((epoch+1) %10) == 0:\n",
    "        print(\"{} of {} epoch   train_loss: {:.6f}\".format(epoch, epoches, np.mean(batch_loss)))\n",
    "    train_epoch_loss = np.mean(batch_loss)\n",
    "    \n",
    "plt.plot(train_real_value_list, 'r-')\n",
    "plt.plot(train_pred_value_list, 'b-')\n",
    "plt.show()    "
   ]
  },
  {
   "cell_type": "code",
   "execution_count": 15,
   "id": "69b17f39-67ef-43c1-8619-e37146361e15",
   "metadata": {},
   "outputs": [
    {
     "name": "stdout",
     "output_type": "stream",
     "text": [
      "torch.Size([40, 1, 1])\n",
      "torch.Size([16, 40, 1, 1])\n",
      "tensor([[7.2600]], device='cuda:0', dtype=torch.float64)\n",
      "tensor([6.6497], device='cuda:0', dtype=torch.float64,\n",
      "       grad_fn=<SelectBackward0>)\n"
     ]
    }
   ],
   "source": [
    "print(train_pred.shape)\n",
    "print(train_y.shape)\n",
    "\n",
    "print(train_y[-1,-1])\n",
    "print(train_pred[-1,-1])"
   ]
  },
  {
   "cell_type": "code",
   "execution_count": 16,
   "id": "f336190a-8bc4-47c5-975a-8bd2686a62e7",
   "metadata": {},
   "outputs": [
    {
     "data": {
      "image/png": "[encoded data removed]",
      "text/plain": [
       "<Figure size 432x288 with 1 Axes>"
      ]
     },
     "metadata": {
      "needs_background": "light"
     },
     "output_type": "display_data"
    }
   ],
   "source": [
    "plt.plot(train_real_value_list, 'r-')\n",
    "plt.plot(train_pred_value_list, 'b-')\n",
    "plt.show()"
   ]
  },
  {
   "cell_type": "code",
   "execution_count": 17,
   "id": "64b5edd6-7cd8-400f-b198-2d8cdfa405ac",
   "metadata": {},
   "outputs": [
    {
     "name": "stdout",
     "output_type": "stream",
     "text": [
      "7.26\n",
      "6.649678726723153\n"
     ]
    }
   ],
   "source": [
    "# print(train_x.shape)\n",
    "# print(test_x.shape)\n",
    "print(train_real_value_list[-1])\n",
    "print(train_pred_value_list[-1])"
   ]
  },
  {
   "cell_type": "code",
   "execution_count": 18,
   "id": "7cfbfe06-2838-4e89-a7be-69dc7d233231",
   "metadata": {},
   "outputs": [
    {
     "name": "stdout",
     "output_type": "stream",
     "text": [
      "torch.Size([1, 1, 1, 1])\n",
      "torch.Size([1, 1, 1])\n",
      "tensor([[[[0.]]]], device='cuda:0', dtype=torch.float64)\n",
      "tensor([[6.6901]], device='cuda:0', dtype=torch.float64,\n",
      "       grad_fn=<SliceBackward0>)\n"
     ]
    }
   ],
   "source": [
    "model.eval()\n",
    "\n",
    "h0 = torch.zeros(NUM_LAYERS, test_x.shape[1], HIDDEN_SIZE).double().to(device)\n",
    "c0 = torch.zeros(NUM_LAYERS, test_x.shape[1], HIDDEN_SIZE).double().to(device)\n",
    "\n",
    "pred, hn, cn = model(test_x[-1], h0, c0)\n",
    "\n",
    "print(test_y.shape)\n",
    "print(pred.shape)\n",
    "print(test_y)\n",
    "print(pred[:,-1,:])"
   ]
  }
 ],
 "metadata": {
  "kernelspec": {
   "display_name": "Python 3 (ipykernel)",
   "language": "python",
   "name": "python3"
  },
  "language_info": {
   "codemirror_mode": {
    "name": "ipython",
    "version": 3
   },
   "file_extension": ".py",
   "mimetype": "text/x-python",
   "name": "python",
   "nbconvert_exporter": "python",
   "pygments_lexer": "ipython3",
   "version": "3.7.0"
  },
  "toc-autonumbering": false,
  "toc-showmarkdowntxt": false
 },
 "nbformat": 4,
 "nbformat_minor": 5
}
