{
 "cells": [
  {
   "cell_type": "code",
   "execution_count": 1,
   "id": "0f6e9707-a755-443b-8483-00b9df2ea38b",
   "metadata": {},
   "outputs": [],
   "source": [
    "# CNN + LSTM + Multi-Head-Attention 的结构"
   ]
  },
  {
   "cell_type": "code",
   "execution_count": 2,
   "id": "301a0bfe-88e2-4398-9334-cc77d8bb8563",
   "metadata": {},
   "outputs": [],
   "source": [
    "# 准备数据\n",
    "import torch\n",
    "import torch.nn as nn\n",
    "from torch.autograd import Variable\n",
    "import torch.nn.functional as F\n",
    "import numpy as np\n",
    "import pandas as pd\n",
    "import time\n",
    "import random\n",
    "import math\n",
    "import matplotlib.pyplot as plt"
   ]
  },
  {
   "cell_type": "code",
   "execution_count": 3,
   "id": "0a0c3f73-0613-4605-9691-ba3dfbbfbf66",
   "metadata": {},
   "outputs": [],
   "source": [
    "np.random.seed(3)\n",
    "torch.manual_seed(3)\n",
    "torch.cuda.manual_seed(3)\n",
    "\n",
    "# np.random.seed(1027)\n",
    "# torch.manual_seed(1027)\n",
    "# torch.cuda.manual_seed(1027)\n",
    "torch.backends.cudnn.deterministic = True"
   ]
  },
  {
   "cell_type": "code",
   "execution_count": 4,
   "id": "fe160cab-111b-4904-abb0-8204a8a10669",
   "metadata": {},
   "outputs": [
    {
     "name": "stdout",
     "output_type": "stream",
     "text": [
      "(825, 136)\n",
      "(825, 137)\n",
      "Index(['future', 'close', 'hl_pct', 'co_pct', 'vm5_pct', 'close-sma5',\n",
      "       'close-sma10', 'close-sma30', 'close-sma60', 'close-sma90',\n",
      "       ...\n",
      "       'max5-max60', 'max10-max30', 'max10-max60', 'max30-max60', 'mon', 'tue',\n",
      "       'wed', 'thr', 'fri', 'dummy'],\n",
      "      dtype='object', length=137)\n"
     ]
    }
   ],
   "source": [
    "# 设置 GPU 优先\n",
    "device = torch.device('cuda:0' if torch.cuda.is_available() else 'cpu')\n",
    "\n",
    "# 加载数据\n",
    "# dataset = pd.read_csv(\"601229_price_qfq_137dims.csv\", index_col=0)\n",
    "dataset = pd.read_csv(\"601229_price_qfq_137dims_part.csv\", index_col=0)\n",
    "# dataset = dataset.drop(['date'], axis=1)\n",
    "dataset = dataset.fillna(0)\n",
    "print(dataset.shape)\n",
    "if dataset.shape[0] %2 == 1:                                                  # 因为 position_encoding需要偶数的dim，才能对称\n",
    "    dataset['dummy'] = 0\n",
    "print(dataset.shape)\n",
    "print(dataset.columns)"
   ]
  },
  {
   "cell_type": "code",
   "execution_count": 5,
   "id": "e812258d-0a75-4bff-b1eb-383f1f9f96be",
   "metadata": {},
   "outputs": [
    {
     "name": "stdout",
     "output_type": "stream",
     "text": [
      "rolling_data shape: (801, 25, 137)\n",
      "seq count: 801\n",
      "seq length: 25\n",
      "TRAIN_BATCH_COUNT : 18\n",
      "VALID_BATCH_COUNT : 2\n",
      "TEST_BATCH_COUNT  : 1\n",
      "train_x: torch.Size([18, 40, 25, 136])\n",
      "train_y: torch.Size([18, 40, 1, 1])\n",
      "valid_x: torch.Size([2, 40, 25, 136])\n",
      "valid_y: torch.Size([2, 40, 1, 1])\n",
      "test_x:  torch.Size([1, 1, 25, 136])\n",
      "test_y:  torch.Size([1, 1, 1, 1])\n",
      "train_batch_count: 18\n",
      "valid_batch_count: 2\n",
      "test_batch_count:  1\n"
     ]
    }
   ],
   "source": [
    "# 将数据按照BATCH_SIZE的窗口进行滑动，每个窗口数据做一组\n",
    "# # 数据转成sequence的格式，这里定义每个seq的长度\n",
    "TRAIN_VALIDATION_RATIO = 0.9\n",
    "TRAIN_BATCH_SIZE = 40                                                        # 注意：BATCH_SIZE是要能够整除(total_seq_count-1)的\n",
    "TEST_BATCH_SIZE = 1\n",
    "SEQ_LENGTH = 25\n",
    "Y_SEQ_LEN = 1                                                         # 要用2个y来表示预测的第一天和预测的第二天，对应 \"future\" 和 \"future2\",每个y都是1-D的，y的seq_len是2\n",
    "Y_DIM = 1\n",
    "X_DIM = dataset.shape[1]-Y_SEQ_LEN                                    # 表示输入的sequence里每个element有122维度，也是encoder的input_dim\n",
    "\n",
    "# 把数据切换成 BATCH_SIZE 的一个个batch\n",
    "rolling_data = pd.DataFrame()\n",
    "for i in dataset.rolling(SEQ_LENGTH):\n",
    "    if i.shape[0] == SEQ_LENGTH:\n",
    "        rolling_data = rolling_data.append(i)\n",
    "\n",
    "rolling_data = rolling_data.values.reshape(-1, SEQ_LENGTH, X_DIM+Y_SEQ_LEN)                   # 数据一共是 seq_count x seq_len x (x_in_dim+Y_SEQ_LEN) \n",
    "\n",
    "# 打乱train数据\n",
    "# np.random.shuffle(rolling_data)\n",
    "\n",
    "print(\"rolling_data shape: {}\".format(rolling_data.shape))\n",
    "print(\"seq count: {}\".format(rolling_data.shape[0]))                                       # 所以一共有 seq_count 列数据，每一行的数据是123维 （包括y）\n",
    "print(\"seq length: {}\".format(SEQ_LENGTH))\n",
    "\n",
    "# TEST_BATCH_COUNT  = (rolling_data.shape[0])%TRAIN_BATCH_SIZE\n",
    "TEST_BATCH_SIZE  = (rolling_data.shape[0])%TRAIN_BATCH_SIZE\n",
    "if TEST_BATCH_SIZE == 0:                                                                   # 如果 rolling_data 刚好被整除，那就专门留一整块给test，全部算一个batch\n",
    "    TEST_BATCH_SIZE = TRAIN_BATCH_SIZE\n",
    "TEST_BATCH_COUNT = 1\n",
    "TRAIN_BATCH_COUNT = int(((rolling_data.shape[0]-TEST_BATCH_SIZE*TEST_BATCH_COUNT)//TRAIN_BATCH_SIZE) * TRAIN_VALIDATION_RATIO)\n",
    "VALID_BATCH_COUNT = int(((rolling_data.shape[0]-TEST_BATCH_SIZE*TEST_BATCH_COUNT)//TRAIN_BATCH_SIZE) - TRAIN_BATCH_COUNT)\n",
    "\n",
    "print(\"TRAIN_BATCH_COUNT : {}\".format(TRAIN_BATCH_COUNT))\n",
    "print(\"VALID_BATCH_COUNT : {}\".format(VALID_BATCH_COUNT))\n",
    "print(\"TEST_BATCH_COUNT  : {}\".format(TEST_BATCH_COUNT))\n",
    "\n",
    "# train = rolling_data[:-test_seq_count].reshape(-1, BATCH_SIZE, SEQ_LENGTH, X_DIM+Y_SEQ_LEN)           # 把数据转成 tain_batch_count x BATCH_SIZE x seq_len x in_dim 格式\n",
    "# test  = rolling_data[-test_seq_count:].reshape(-1, BATCH_SIZE, SEQ_LENGTH, X_DIM+Y_SEQ_LEN)           # 把数据转成 test_batch_count x BATCH_SIZE x seq_len x in_dim 格式\n",
    "\n",
    "train = rolling_data[:TRAIN_BATCH_COUNT*TRAIN_BATCH_SIZE].reshape(TRAIN_BATCH_COUNT, TRAIN_BATCH_SIZE, SEQ_LENGTH, X_DIM+Y_DIM*Y_SEQ_LEN)                    # 把数据转成 tain_batch_count x TRAIN_BATCH_SIZE x seq_len x in_dim 格式\n",
    "valid = rolling_data[TRAIN_BATCH_COUNT*TRAIN_BATCH_SIZE:-TEST_BATCH_COUNT*TEST_BATCH_SIZE].reshape(VALID_BATCH_COUNT, TRAIN_BATCH_SIZE, SEQ_LENGTH, X_DIM+Y_DIM*Y_SEQ_LEN)     # 把数据转成 tain_batch_count x TRAIN_BATCH_SIZE x seq_len x in_dim 格式\n",
    "test  = rolling_data[-TEST_BATCH_COUNT*TEST_BATCH_SIZE:].reshape(TEST_BATCH_COUNT, TEST_BATCH_SIZE, SEQ_LENGTH, X_DIM+Y_DIM*Y_SEQ_LEN)                     # 把数据转成 test_batch_count x TEST_BATCH_SIZE x seq_len x in_dim 格式\n",
    "\n",
    "TRAIN_BATCH_COUNT = train.shape[0]\n",
    "TRAIN_BATCH_SIZE = train.shape[1]\n",
    "VALID_BATCH_COUNT = valid.shape[0]\n",
    "VALID_BATCH_SIZE = valid.shape[1]\n",
    "TEST_BATCH_COUNT = test.shape[0]\n",
    "TEST_BATCH_SIZE = test.shape[1]\n",
    "\n",
    "train = torch.tensor(train)\n",
    "valid = torch.tensor(valid)\n",
    "test  = torch.tensor(test)\n",
    "\n",
    "\n",
    "train_x, train_y = train[:,:,:,Y_SEQ_LEN:], train[:,:,-1:,0:Y_SEQ_LEN]           # [train_batch_count, batch_size, sequence_length, XorY dimission]\n",
    "valid_x, valid_y = valid[:,:,:,Y_SEQ_LEN:], valid[:,:,-1:,0:Y_SEQ_LEN]           # [valid_batch_count, batch_size, sequence_length, XorY dimission]\n",
    "test_x,  test_y  = test[:,:,:, Y_SEQ_LEN:],  test[:,:,-1:,0:Y_SEQ_LEN]           # [train_batch_count, batch_size, sequence_length, XorY dimission]\n",
    "\n",
    "train_y = train_y.permute(0, 1, 3, 2)                                    # conver from [train_batch_count, batch_size, seq_length, y_seq_len]  to [train_batch_count, batch_size, y_seq_len, 1-dim]\n",
    "valid_y = valid_y.permute(0, 1, 3, 2)                                    # conver from [train_batch_count, batch_size, seq_length, y_seq_len]  to [train_batch_count, batch_size, y_seq_len, 1-dim]\n",
    "test_y  =  test_y.permute(0, 1, 3, 2)                                    # conver from [test_batch_count, batch_size, seq_length, y_seq_len]  to  [test_batch_count, batch_size, y_seq_len, 1-dim]\n",
    "\n",
    "\n",
    "train_x = train_x.to(device)\n",
    "train_y = train_y.to(device)\n",
    "valid_x = valid_x.to(device)\n",
    "valid_y = valid_y.to(device)\n",
    "test_x = test_x.to(device)\n",
    "test_y = test_y.to(device)\n",
    "\n",
    "print(\"train_x: {}\".format(train_x.shape))\n",
    "print(\"train_y: {}\".format(train_y.shape))\n",
    "print(\"valid_x: {}\".format(valid_x.shape))\n",
    "print(\"valid_y: {}\".format(valid_y.shape))\n",
    "print(\"test_x:  {}\".format(test_x.shape))\n",
    "print(\"test_y:  {}\".format(test_y.shape))\n",
    "print(\"train_batch_count: {}\".format(train.shape[0]))\n",
    "print(\"valid_batch_count: {}\".format(valid.shape[0]))\n",
    "print(\"test_batch_count:  {}\".format(test.shape[0]))"
   ]
  },
  {
   "cell_type": "code",
   "execution_count": 6,
   "id": "3699882f-47e3-4cd3-a9ca-9be52a8f89e4",
   "metadata": {},
   "outputs": [],
   "source": [
    "# 定义 PositionEncoding 模型\n",
    "class PositionalEncoding(nn.Module):\n",
    "    def __init__(self, d_model, dropout=0.1, max_len=5000):\n",
    "        super(PositionalEncoding, self).__init__()\n",
    "        self.dropout = nn.Dropout(p=dropout)\n",
    "\n",
    "        pe = torch.zeros(max_len, d_model)                                                                  # seq_len x input_dim\n",
    "        position = torch.arange(0, max_len, dtype=torch.float).unsqueeze(1)                                 # seq_len x 1\n",
    "        div_term = torch.exp(torch.arange(0, d_model, 2).float() * (-math.log(10000.0) / d_model))          # input_dim/2\n",
    "        \n",
    "        pe[:, 0::2] = torch.sin(position * div_term)\n",
    "        pe[:, 1::2] = torch.cos(position * div_term)\n",
    "        pe = pe.unsqueeze(0).transpose(0, 1)\n",
    "        self.register_buffer('pe', pe)\n",
    "\n",
    "    def forward(self, x):\n",
    "        '''\n",
    "        x: [seq_len, batch_size, d_model]\n",
    "        '''\n",
    "        x = x + self.pe[:x.size(0), :]\n",
    "        return self.dropout(x)\n",
    "\n",
    "\n",
    "# 定义 LSTM 模型\n",
    "class LSTMModel(nn.Module):\n",
    "    def __init__(self, input_size, hidden_dim_size, num_layers, output_dim_size, seq_len, dropout=0.1):\n",
    "        super().__init__()\n",
    "        self.hidden_size = hidden_dim_size\n",
    "        self.max_seq_len = seq_len\n",
    "        self.num_layers = num_layers\n",
    "        self.input_dim_size = input_size\n",
    "        self.output_dim_size = output_dim_size\n",
    "        self.dropout = nn.Dropout(dropout)\n",
    "        \n",
    "        self.post=PositionalEncoding(d_model=self.input_dim_size, dropout=0.1, max_len=self.max_seq_len)\n",
    "\n",
    "        self.conv1 = nn.Conv1d(self.input_dim_size, 512, kernel_size=3, padding='same')\n",
    "        self.conv2 = nn.Conv1d(self.input_dim_size, 512, kernel_size=5, padding='same')\n",
    "        self.conv3 = nn.Conv1d(self.input_dim_size, 512, kernel_size=7, padding='same')\n",
    "        self.conv4 = nn.Conv1d(self.input_dim_size, 512, kernel_size=9, padding='same')\n",
    "        self.bn1 = nn.BatchNorm1d(256)\n",
    "        self.bn2 = nn.BatchNorm1d(self.hidden_size)\n",
    "\n",
    "        self.conv31 = nn.Conv1d(self.hidden_size, int(self.hidden_size/2), kernel_size=3, padding='same')\n",
    "        self.conv32 = nn.Conv1d(self.hidden_size, int(self.hidden_size/2), kernel_size=5, padding='same')\n",
    "        self.conv33 = nn.Conv1d(self.hidden_size, int(self.hidden_size/2), kernel_size=7, padding='same')\n",
    "        self.conv34 = nn.Conv1d(self.hidden_size, int(self.hidden_size/2), kernel_size=9, padding='same')\n",
    "        self.linear35 = nn.Linear(64, self.output_dim_size)    # 这个是给最后的多头注意力再乘 W0 的\n",
    "\n",
    "        self.num_attention_head = 256                                                                 # 64\n",
    "        self.attention_head_size = int(self.hidden_size/self.num_attention_head)                      # 每个头是32个维度\n",
    "        self.all_head_size = self.num_attention_head * self.attention_head_size                       # 所有的头的维度合集\n",
    "\n",
    "        self.layer_norm = nn.LayerNorm(self.hidden_size, elementwise_affine=False)\n",
    "\n",
    "        self.lstm1 = nn.LSTM(input_size=self.input_dim_size,       hidden_size=self.hidden_size, num_layers=self.num_layers, batch_first=True, dropout=dropout)\n",
    "        self.lstm2 = nn.LSTM(input_size=self.hidden_size,          hidden_size=self.hidden_size, num_layers=self.num_layers, batch_first=True, dropout=dropout)\n",
    "\n",
    "        # self.linear_1 = nn.Linear(self.input_dim_size, self.hidden_size)          # 这个是将输入的维度转换成 hidden_dim 的\n",
    "        self.linear_2 = nn.Linear(self.hidden_size, self.hidden_size)             # 这个是给最后的多头注意力再乘 W0 的\n",
    "        self.linear_3 = nn.Linear(self.hidden_size, self.output_dim_size)         # 这个是最后输出时将每个element的hidden_dim转成需要的out_dim\n",
    "        self.linear_4 = nn.Linear(self.max_seq_len, 1)                            # 这个是最后输出时将整个seq的输出转成一个值\n",
    "\n",
    "        self.relu = nn.LeakyReLU()                                       # 用 relu 来增强模型非线性\n",
    "        self.tanh = nn.Tanh()\n",
    "\n",
    "        self.query = nn.Linear(self.hidden_size, self.all_head_size)     # 输入768， 输出多头的维度总数。这里还是768.\n",
    "        self.key = nn.Linear(self.hidden_size, self.all_head_size)       # 输入768， 输出多头的维度总数。这里还是768.\n",
    "        self.value = nn.Linear(self.hidden_size, self.all_head_size)     # 输入768， 输出多头的维度总数。这里还是768.\n",
    "\n",
    "        self.init_weights3()\n",
    "\n",
    "    def init_weights1(self):\n",
    "        for name, param in self.lstm1.named_parameters():\n",
    "            if 'bias' in name:\n",
    "                nn.init.constant_(param, 0.0)\n",
    "            elif 'weight_ih' in name:\n",
    "                nn.init.kaiming_normal_(param)\n",
    "            elif 'weight_hh' in name:\n",
    "                nn.init.orthogonal_(param)\n",
    "        for name, param in self.lstm2.named_parameters():\n",
    "            if 'bias' in name:\n",
    "                nn.init.constant_(param, 0.0)\n",
    "            elif 'weight_ih' in name:\n",
    "                nn.init.kaiming_normal_(param)\n",
    "            elif 'weight_hh' in name:\n",
    "                nn.init.orthogonal_(param)\n",
    "\n",
    "    def init_weights2(self):\n",
    "        for name, param in self.lstm1.named_parameters():\n",
    "            if 'bias' in name:\n",
    "                nn.init.constant_(param, 0.0)\n",
    "            elif 'weight_ih' in name:\n",
    "                nn.init.kaiming_normal_(param)\n",
    "            elif 'weight_hh' in name:\n",
    "                nn.init.kaiming_normal_(param)\n",
    "        for name, param in self.lstm2.named_parameters():\n",
    "            if 'bias' in name:\n",
    "                nn.init.constant_(param, 0.0)\n",
    "            elif 'weight_ih' in name:\n",
    "                nn.init.kaiming_normal_(param)\n",
    "            elif 'weight_hh' in name:\n",
    "                nn.init.kaiming_normal_(param)\n",
    "\n",
    "    def init_weights3(self):\n",
    "        for name, param in self.lstm1.named_parameters():\n",
    "            if 'bias' in name:\n",
    "                nn.init.constant_(param, 0.0)\n",
    "            elif 'weight_ih' in name:\n",
    "                nn.init.orthogonal_(param)\n",
    "            elif 'weight_hh' in name:\n",
    "                nn.init.orthogonal_(param)\n",
    "        for name, param in self.lstm2.named_parameters():\n",
    "            if 'bias' in name:\n",
    "                nn.init.constant_(param, 0.0)\n",
    "            elif 'weight_ih' in name:\n",
    "                nn.init.orthogonal_(param)\n",
    "            elif 'weight_hh' in name:\n",
    "                nn.init.orthogonal_(param)\n",
    "\n",
    "    def init_weights4(self):\n",
    "        for name, param in self.lstm1.named_parameters():\n",
    "            if 'bias' in name:\n",
    "                nn.init.normal_(param, mean=0, std=1)\n",
    "            elif 'weight_ih' in name:\n",
    "                nn.init.orthogonal_(param)\n",
    "            elif 'weight_hh' in name:\n",
    "                nn.init.orthogonal_(param)\n",
    "        for name, param in self.lstm2.named_parameters():\n",
    "            if 'bias' in name:\n",
    "                nn.init.normal_(param, mean=0, std=1)\n",
    "            elif 'weight_ih' in name:\n",
    "                nn.init.orthogonal_(param)\n",
    "            elif 'weight_hh' in name:\n",
    "                nn.init.orthogonal_(param)\n",
    "\n",
    "    def attention_net(self, in_value, mask=None):\n",
    "        batch_size = in_value.shape[0]\n",
    "        seq_len = in_value.shape[1]\n",
    "        hidden_dim = in_value.shape[2]\n",
    "\n",
    "        # Q : [batch_size, seq_len, hidden_dim] ==> [batch_size, seq_len, num_head, head_size] ==> [batch_size, num_head, seq_len, head_size]\n",
    "        Q = self.query(in_value).reshape(batch_size, seq_len, self.num_attention_head, self.attention_head_size).permute(0, 2, 1, 3)      # 先将 hidden_dim 切成 num_head * head_size ，再将 num_head 和 seq_len互换\n",
    "        K = self.key(in_value).reshape(batch_size, seq_len, self.num_attention_head, self.attention_head_size).permute(0, 2, 1, 3)        # 先将 hidden_dim 切成 num_head * head_size ，再将 num_head 和 seq_len互换\n",
    "        V = self.value(in_value).reshape(batch_size, seq_len, self.num_attention_head, self.attention_head_size).permute(0, 2, 1, 3)      # 先将 hidden_dim 切成 num_head * head_size ，再将 num_head 和 seq_len互换\n",
    "\n",
    "        # d_k = Q.size(-1)                                                                            # d_k为query的维度。避免概率接近0\n",
    "\n",
    "        # attention_scores = torch.matmul(query, lstm_output.transpose(1, 2)) / math.sqrt(d_k)     #打分机制  [batch_size, seq_len, hid_dim] * [batch_size, hid_dim, seq_len] ==> scores:[batch_size, seq_len, seq_len], 每个值就是两个输入x元素的相似性\n",
    "        attention_scores = torch.matmul(Q, K.transpose(-1, -2))                                    # [batch_size, num_head, seq_len, head_size] * [batch_size, num_head, head_size, seq_len] ==> [batch_size, num_head, seq_len, seq_len]\n",
    "\n",
    "        # attention_scores = attention_scores / math.sqrt(d_k)                                       # [batch_size, seq_len, seq_len]\n",
    "        attention_scores = attention_scores / math.sqrt(self.attention_head_size)                  # 多头机制下，hidden-dim被划分为 num_head个区域，所以现在要除的就是每个小区域的维度开方\n",
    "\n",
    "        # alpha = F.softmax(attention_scores, dim = -1)                                            #对最后一个维度归一化得分  [batch_size, seq_len, seq_len] 保证相似性在一行上归一了。\n",
    "        alpha = nn.Softmax(dim=-1)(attention_scores)                                               # 因为alpha是方阵，0维的seq_len就是真正的序列长度，1维的seq_len是对应每一个element和序列元素相关性。\n",
    "\n",
    "        # alpha = self.dropout(alpha)\n",
    "\n",
    "        attention = torch.matmul(alpha, V)                                            # [batch_size, num_head, seq_len, seq_len] * [batch_size, num_head, seq_len, head_size] = [batch_size, num_head, seq_len, head_size]\n",
    "\n",
    "        attention = attention.permute(0, 2, 1, 3).contiguous()                       # [batch_size, num_head, seq_len, head_size] ==> [batch_size, seq_len, num_head, head_size]\n",
    "        # new_attention_shape = attention.size()[:-2] + (self.all_head_size,)\n",
    "        # attention = attention.view(*new_attention_shape)\n",
    "        attention = attention.reshape(batch_size, seq_len, self.all_head_size)\n",
    "\n",
    "        attention = self.linear_2(attention)\n",
    "\n",
    "        return attention\n",
    "\n",
    "    def forward(self, x, hidden, cell):\n",
    "        x = x.float()\n",
    "        \n",
    "        # 下面这是 position_encoding 实现\n",
    "        x = x.permute(1, 0, 2)                                                                 # 转化为 seq_len * batch_size * hidden_dim\n",
    "        # 输入的维度： seq_len * batch * hidden_dim\n",
    "        x = self.post(x)\n",
    "        # 输出的维度： seq_len * batch * hidden_dim\n",
    "        x = x.permute(1, 0, 2)                                                                 # 转化为 batch_size * seq_len * hidden_dim\n",
    "\n",
    "        # 下面这是双 LSTM+Attention 实现\n",
    "        lstm1_out, (h1_n, c1_n) = self.lstm1(x, (hidden, cell))\n",
    "        lstm1_out = self.dropout(lstm1_out)\n",
    "        lstm1_out,  (h2_n, c2_n) = self.lstm2(lstm1_out, (h1_n, c1_n))\n",
    "        output = self.dropout(lstm1_out)\n",
    "        output = self.attention_net(output)                                             # 和LSTM的不同就在于这一句   40 x 25 x 1024 [batch_size, seq_len, dim]\n",
    "        output = output.permute(0, 2, 1)                                              # 40 x 1024 x 25 [batch_size, dim, seq_len]\n",
    "        \n",
    "        # 下面这是 CNN-1D 的实现\n",
    "        cov_output01 = F.relu(self.conv31(output))                                         # 40 x 512 x 25 [batch_size, dim, seq_len]\n",
    "        cov_output01 = cov_output01.permute(0, 2, 1)                                            # 40 x 25 x 512 [batch_size, seq_len, dim]\n",
    "        cov_output01 = F.max_pool1d(cov_output01, 2)                                            # 40 x 25 x 256 [batch_size, seq_len, dim]\n",
    "\n",
    "        cov_output02 = F.relu(self.conv32(output))\n",
    "        cov_output02 = cov_output02.permute(0, 2, 1)\n",
    "        cov_output02 = F.max_pool1d(cov_output02, 2)\n",
    "\n",
    "        cov_output03 = F.relu(self.conv33(output))\n",
    "        cov_output03 = cov_output03.permute(0, 2, 1)\n",
    "        cov_output03 = F.max_pool1d(cov_output03, 2)\n",
    "\n",
    "        cov_output04 = F.relu(self.conv34(output))\n",
    "        cov_output04 = cov_output04.permute(0, 2, 1)\n",
    "        cov_output04 = F.max_pool1d(cov_output04, 2)\n",
    "\n",
    "\n",
    "        \n",
    "        # 下面是将 4 个做完 LSTM-CNN 的数据拼起来\n",
    "        output = torch.cat([cov_output01, cov_output02, cov_output03, cov_output04], 2)    # 40 x 25 x 1024 [batch_size, seq_len, dim]\n",
    "\n",
    "        \n",
    "        # 下面是将拼接后的数据输出为 1 维的预测值\n",
    "        output = self.linear_3(output)                                                # 40 x 25 x 1 [batch_size, seq_len, out_dim]\n",
    "\n",
    "        # 这段代码将seq_len的数据压缩成1个\n",
    "        # predictions = predictions.permute(0, 2, 1)\n",
    "        # predictions = self.linear_4(predictions)\n",
    "        # predictions = predictions.permute(0, 2, 1)\n",
    "\n",
    "        return output, h2_n, c2_n\n"
   ]
  },
  {
   "cell_type": "code",
   "execution_count": 7,
   "id": "65359048-ae92-4a86-9bb5-73d14d8b52b7",
   "metadata": {},
   "outputs": [],
   "source": [
    "def ACC(y_hat, y_real):\n",
    "    y_real = np.array(y_real) + 1\n",
    "    y_hat = np.array(y_hat) + 1\n",
    "    percentage = 1 - np.sqrt(np.mean(np.square((y_real - y_hat) / y_real)))\n",
    "    return percentage * 100\n",
    "\n",
    "# 定义 RMSE 损失函数。因为torch没有。\n",
    "def RMSE(y_hat, y):\n",
    "    return torch.sqrt(torch.mean((y_hat-y)**2))\n",
    "\n",
    "\n",
    "# 定义 MAPE 计算函数。平均绝对百分比误差：不受量纲影响。但y接近0时受极端值影响。为（0%）表示完美模型，MAPE 大于 （100%）则表示劣质模型。\n",
    "def MAPE(y_hat, y):\n",
    "    absolute_percent_error = (torch.abs(y_hat-y)+1e-7)/(torch.abs(y)+1e-7)\n",
    "    return torch.mean(absolute_percent_error)\n",
    "\n",
    "# 定义了 R2 的计算函数。决定系数：反映因变量的全部变异能通过回归关系被自变量解释的比例。\n",
    "# R2<=1，R2为1时说明预测模型不犯任何错误；R2为0时说明预测模型等于基准模型；R2小于0说明预测模型不如基准模型，可能数据不存在任何线性关系。\n",
    "def R2(y_hat, y):\n",
    "    y_mean = torch.mean(y)\n",
    "    ss_tot = torch.sum((y - y_mean) ** 2)\n",
    "    ss_res = torch.sum((y - y_hat) ** 2)\n",
    "    r2 = 1 - ss_res / ss_tot\n",
    "    return r2\n",
    "\n",
    "# 定义 SMAPE 计算函数。修复了原始MAPE的缺点-它同时具有下限（0％）和上限（200％)\n",
    "def SMAPE(y_hat, y):\n",
    "    absolute_percent_error = (torch.abs(y_hat-y)+1e-7)/(torch.abs(y_hat)+torch.abs(y)+1e-7)\n",
    "    return 2.0 * torch.mean(absolute_percent_error)"
   ]
  },
  {
   "cell_type": "code",
   "execution_count": 8,
   "id": "0c37614c-3797-4ce7-95a9-6f9416e9c65d",
   "metadata": {},
   "outputs": [],
   "source": [
    "# 训练 LSTM 模型 ---- 这里的损失函数是计算Sequence最后一个元素的预测数据和真实数据差异\n",
    "\n",
    "HIDDEN_SIZE = 1024\n",
    "NUM_LAYERS = 2\n",
    "\n",
    "model = LSTMModel(input_size=train_x.shape[3], hidden_dim_size=HIDDEN_SIZE, num_layers=NUM_LAYERS, seq_len=train_x.shape[2], output_dim_size=1).float().to(device)\n",
    "LR = 1e-6\n",
    "# loss_func = nn.MSELoss(reduction=\"mean\")\n",
    "loss_func = RMSE\n",
    "optimizer = torch.optim.Adam(model.parameters(), lr=LR, weight_decay=1e-6)\n",
    "scheduler = torch.optim.lr_scheduler.ExponentialLR(optimizer, gamma=1, last_epoch=-1)"
   ]
  },
  {
   "cell_type": "code",
   "execution_count": 9,
   "id": "a55a643b-f390-4f82-b4fb-da27b3592b8c",
   "metadata": {
    "tags": []
   },
   "outputs": [
    {
     "name": "stdout",
     "output_type": "stream",
     "text": [
      "9 of 200 epoch \t train_loss: 0.446 \t train_MAPE: 5.12% \t train_r2: -8.794 \t valid_loss: 0.273 \t valid_MAPE: 3.39% \t valid_r2: -3.524\n",
      "19 of 200 epoch \t train_loss: 0.571 \t train_MAPE: 6.68% \t train_r2: -18.425 \t valid_loss: 0.356 \t valid_MAPE: 4.76% \t valid_r2: -6.681\n",
      "29 of 200 epoch \t train_loss: 0.429 \t train_MAPE: 4.90% \t train_r2: -9.090 \t valid_loss: 0.234 \t valid_MAPE: 3.00% \t valid_r2: -2.291\n",
      "39 of 200 epoch \t train_loss: 0.579 \t train_MAPE: 6.86% \t train_r2: -22.639 \t valid_loss: 0.551 \t valid_MAPE: 7.79% \t valid_r2: -18.668\n",
      "49 of 200 epoch \t train_loss: 0.518 \t train_MAPE: 6.10% \t train_r2: -17.608 \t valid_loss: 0.484 \t valid_MAPE: 6.77% \t valid_r2: -13.878\n",
      "59 of 200 epoch \t train_loss: 0.428 \t train_MAPE: 4.89% \t train_r2: -10.738 \t valid_loss: 0.318 \t valid_MAPE: 4.29% \t valid_r2: -5.060\n",
      "69 of 200 epoch \t train_loss: 0.399 \t train_MAPE: 4.53% \t train_r2: -9.234 \t valid_loss: 0.310 \t valid_MAPE: 4.13% \t valid_r2: -4.799\n",
      "79 of 200 epoch \t train_loss: 0.388 \t train_MAPE: 4.41% \t train_r2: -9.008 \t valid_loss: 0.302 \t valid_MAPE: 4.10% \t valid_r2: -4.481\n",
      "89 of 200 epoch \t train_loss: 0.367 \t train_MAPE: 4.14% \t train_r2: -7.402 \t valid_loss: 0.317 \t valid_MAPE: 4.26% \t valid_r2: -5.020\n",
      "99 of 200 epoch \t train_loss: 0.355 \t train_MAPE: 4.01% \t train_r2: -7.335 \t valid_loss: 0.321 \t valid_MAPE: 4.19% \t valid_r2: -5.191\n",
      "109 of 200 epoch \t train_loss: 0.352 \t train_MAPE: 3.97% \t train_r2: -6.942 \t valid_loss: 0.333 \t valid_MAPE: 4.47% \t valid_r2: -5.670\n",
      "119 of 200 epoch \t train_loss: 0.337 \t train_MAPE: 3.82% \t train_r2: -6.850 \t valid_loss: 0.354 \t valid_MAPE: 4.78% \t valid_r2: -6.510\n",
      "129 of 200 epoch \t train_loss: 0.277 \t train_MAPE: 3.04% \t train_r2: -4.349 \t valid_loss: 0.402 \t valid_MAPE: 5.43% \t valid_r2: -8.692\n",
      "139 of 200 epoch \t train_loss: 0.264 \t train_MAPE: 2.91% \t train_r2: -2.960 \t valid_loss: 0.395 \t valid_MAPE: 5.49% \t valid_r2: -8.409\n",
      "149 of 200 epoch \t train_loss: 0.268 \t train_MAPE: 2.95% \t train_r2: -2.976 \t valid_loss: 0.331 \t valid_MAPE: 4.63% \t valid_r2: -5.620\n",
      "159 of 200 epoch \t train_loss: 0.358 \t train_MAPE: 4.11% \t train_r2: -6.534 \t valid_loss: 0.408 \t valid_MAPE: 5.61% \t valid_r2: -8.991\n",
      "169 of 200 epoch \t train_loss: 0.357 \t train_MAPE: 4.09% \t train_r2: -7.418 \t valid_loss: 0.374 \t valid_MAPE: 5.24% \t valid_r2: -7.440\n",
      "179 of 200 epoch \t train_loss: 0.339 \t train_MAPE: 3.85% \t train_r2: -6.780 \t valid_loss: 0.383 \t valid_MAPE: 5.32% \t valid_r2: -7.857\n",
      "189 of 200 epoch \t train_loss: 0.300 \t train_MAPE: 3.33% \t train_r2: -4.417 \t valid_loss: 0.358 \t valid_MAPE: 4.88% \t valid_r2: -6.704\n",
      "199 of 200 epoch \t train_loss: 0.287 \t train_MAPE: 3.18% \t train_r2: -4.190 \t valid_loss: 0.358 \t valid_MAPE: 4.96% \t valid_r2: -6.776\n"
     ]
    },
    {
     "data": {
      "image/png": "[encoded data removed]",
      "text/plain": [
       "<Figure size 432x288 with 1 Axes>"
      ]
     },
     "metadata": {
      "needs_background": "light"
     },
     "output_type": "display_data"
    },
    {
     "name": "stdout",
     "output_type": "stream",
     "text": [
      "min train loss: 0.237\n",
      "min valid loss: 0.219\n"
     ]
    }
   ],
   "source": [
    "# 训练 LSTM 模型;  ---- 这里的损失函数是计算Sequence最后一个元素的预测数据和真实数据差异\n",
    "model.train()\n",
    "epochs = 2000\n",
    "train_epoch_loss = 0\n",
    "train_epoch_loss_list = []\n",
    "train_epoch_acc_list = []\n",
    "valid_epoch_loss = 0\n",
    "valid_epoch_loss_list = []\n",
    "valid_epoch_acc_list = []\n",
    "\n",
    "train_batch_count = train_x.shape[0]\n",
    "valid_batch_count = valid_x.shape[0]\n",
    "\n",
    "h0 = torch.zeros(NUM_LAYERS, TRAIN_BATCH_SIZE, HIDDEN_SIZE).float().to(device)\n",
    "c0 = torch.zeros(NUM_LAYERS, TRAIN_BATCH_SIZE, HIDDEN_SIZE).float().to(device)\n",
    "\n",
    "\n",
    "for epoch in range(epochs):\n",
    "    batch_loss = []\n",
    "    batch_mape = []\n",
    "    batch_r2   = []\n",
    "    train_epoch_loss = 0\n",
    "    train_epoch_mape = 0\n",
    "    train_epoch_r2 = 0\n",
    "    train_pred_value_list = []\n",
    "    train_real_value_list = []\n",
    "    train_batch_list = list(range(0, train_batch_count))\n",
    "    # random.shuffle(train_batch_list)\n",
    "    for step in train_batch_list:\n",
    "        train_pred, hn, cn = model(train_x[step], h0, c0)                                                    # pred: [batch_size, seq_len, out_dim]  但被修改成了 [batch_size, 1, out_dim]\n",
    "        loss = loss_func(train_pred[:, -1, -1], train_y[step][:, -1, -1])                                    # 取batch里每个sequence最后一个预测输出来和实际\n",
    "        train_pred_value_list.extend(list(train_pred[:, -1, -1].cpu().detach().flatten().numpy() ))\n",
    "        train_real_value_list.extend(list(train_y[step][:, -1, -1].cpu().detach().flatten().numpy() ))\n",
    "        optimizer.zero_grad()\n",
    "        loss.backward()\n",
    "        torch.nn.utils.clip_grad_norm_(model.parameters(), max_norm=20, norm_type=2)\n",
    "        optimizer.step()\n",
    "        batch_loss.append(loss.cpu().data.numpy())\n",
    "        batch_mape.append(MAPE(train_pred[:, -1, -1], train_y[step][:, -1, -1]).item())\n",
    "        batch_r2.append(R2(train_pred[:, -1, -1], train_y[step][:, -1, -1]).item())\n",
    "    # print(batch_mape)\n",
    "    train_epoch_loss = np.mean(batch_loss)\n",
    "    train_epoch_mape = np.mean(batch_mape)\n",
    "    train_epoch_r2 = np.mean(batch_r2)\n",
    "\n",
    "    batch_loss = []\n",
    "    batch_mape = []\n",
    "    batch_r2 = []\n",
    "    valid_epoch_loss = 0\n",
    "    valid_epoch_mape = 0\n",
    "    valid_epoch_r2 = 0\n",
    "    valid_pred_value_list = []\n",
    "    valid_real_value_list = []\n",
    "    for step in range(valid_batch_count):\n",
    "        valid_pred, hn, cn = model(valid_x[step], h0, c0)\n",
    "        loss = loss_func(valid_pred[:, -1, -1], valid_y[step][:, -1, -1])\n",
    "        valid_pred_value_list.extend(list(valid_pred[:, -1, -1].cpu().detach().flatten().numpy()))\n",
    "        valid_real_value_list.extend(list(valid_y[step][ :, -1, -1].cpu().detach().flatten().numpy()))\n",
    "        batch_loss.append(loss.cpu().data.numpy())\n",
    "        batch_mape.append(MAPE(valid_pred[:, -1, -1], valid_y[step][:, -1, -1]).item())\n",
    "        batch_r2.append(R2(valid_pred[:, -1, -1], valid_y[step][:, -1, -1]).item())\n",
    "    # print(batch_loss)\n",
    "    valid_epoch_loss = np.mean(batch_loss)\n",
    "    valid_epoch_mape = np.mean(batch_mape)\n",
    "    valid_epoch_r2 = np.mean(batch_r2)\n",
    "\n",
    "\n",
    "    valid_epoch_loss_list.append(valid_epoch_loss)\n",
    "    train_epoch_loss_list.append(train_epoch_loss)\n",
    "\n",
    "    if ((epoch+1) % 10) == 0:\n",
    "        print(\"{} of {} epoch \\t train_loss: {:.3f} \\t train_MAPE: {:.2%} \\t train_r2: {:.3f} \\t valid_loss: {:.3f} \\t valid_MAPE: {:.2%} \\t valid_r2: {:.3f}\".format(epoch, epochs, train_epoch_loss, train_epoch_mape, train_epoch_r2, valid_epoch_loss, valid_epoch_mape, valid_epoch_r2))\n",
    "    # print(\"{} of {} epoch \\t train_loss: {:.3f} \\t train_MAPE: {:.2%} \\t train_r2: {:.3f} \\t valid_loss: {:.3f} \\t valid_MAPE: {:.2%} \\t valid_r2: {:.3f}\".format(epoch, epochs, train_epoch_loss, train_epoch_mape, train_epoch_r2, valid_epoch_loss, valid_epoch_mape, valid_epoch_r2))\n",
    "\n",
    "    if train_epoch_loss < 0.1:\n",
    "        print(\"{} of {} epoch \\t train_loss: {:.3f} \\t train_MAPE: {:.2%} \\t train_r2: {:.3f} \\t valid_loss: {:.3f} \\t valid_MAPE: {:.2%} \\t valid_r2: {:.3f}\".format(epoch, epochs, train_epoch_loss, train_epoch_mape, train_epoch_r2, valid_epoch_loss, valid_epoch_mape, valid_epoch_r2))\n",
    "        print(\"****************************************** STOP TRAIN  ****************************************\")\n",
    "        break\n",
    "\n",
    "plt.plot(train_epoch_loss_list, 'r-')\n",
    "plt.plot(valid_epoch_loss_list, 'b-')\n",
    "plt.show()\n",
    "print(\"min train loss: {:.3f}\".format(min(train_epoch_loss_list)))\n",
    "print(\"min valid loss: {:.3f}\".format(min(valid_epoch_loss_list)))"
   ]
  },
  {
   "cell_type": "code",
   "execution_count": 10,
   "id": "2b69845d-ab88-441a-8ad9-e92ddf92884f",
   "metadata": {
    "tags": []
   },
   "outputs": [
    {
     "data": {
      "image/png": "[encoded data removed]",
      "text/plain": [
       "<Figure size 432x288 with 1 Axes>"
      ]
     },
     "metadata": {
      "needs_background": "light"
     },
     "output_type": "display_data"
    }
   ],
   "source": [
    "# 这是 train 的预测图形\n",
    "plt.plot(train_real_value_list, 'r-')\n",
    "plt.plot(train_pred_value_list, 'b-')\n",
    "plt.show()\n",
    "# print(train_real_value_list)"
   ]
  },
  {
   "cell_type": "code",
   "execution_count": 11,
   "id": "cb5eeb65-91d9-40f2-a653-2a0d84653eac",
   "metadata": {
    "tags": []
   },
   "outputs": [
    {
     "data": {
      "image/png": "[encoded data removed]",
      "text/plain": [
       "<Figure size 432x288 with 1 Axes>"
      ]
     },
     "metadata": {
      "needs_background": "light"
     },
     "output_type": "display_data"
    }
   ],
   "source": [
    "# 这是 vali的预测图形\n",
    "plt.plot(valid_real_value_list, 'r-')\n",
    "plt.plot(valid_pred_value_list, 'b-')\n",
    "plt.show()"
   ]
  },
  {
   "cell_type": "code",
   "execution_count": 12,
   "id": "c8cc4f28-b980-401f-873d-95218a9cd9c6",
   "metadata": {
    "tags": []
   },
   "outputs": [
    {
     "data": {
      "image/png": "[encoded data removed]",
      "text/plain": [
       "<Figure size 432x288 with 1 Axes>"
      ]
     },
     "metadata": {
      "needs_background": "light"
     },
     "output_type": "display_data"
    },
    {
     "name": "stdout",
     "output_type": "stream",
     "text": [
      "[7.03 7.01 6.93 6.8  6.63 6.66 6.69 6.61 6.44 6.49 6.49 6.55 6.5  6.56\n",
      " 6.52 6.5  6.52 6.49 6.47 6.54 6.64 6.74 6.86 6.74 6.76 6.69 6.74 6.73\n",
      " 6.72 6.75 6.65 6.7  6.66 6.61 6.69 6.43 6.37 6.38 6.41 6.49]\n",
      "[7.2311916 7.119395  7.1132207 7.0859737 6.9829273 6.9341526 7.0660524\n",
      " 7.0472627 7.0097713 7.013496  6.719655  6.971301  6.9274673 7.00145\n",
      " 7.0887957 7.025648  7.2016754 7.1415133 7.204556  7.0128474 7.071073\n",
      " 7.291066  7.3344975 7.4296794 7.4141855 7.2564764 7.328663  7.3347797\n",
      " 7.295284  7.4445105 7.465602  7.4089055 7.273336  7.3548317 7.296584\n",
      " 7.421872  7.2762837 7.1559052 7.1647787 7.058628 ]\n"
     ]
    }
   ],
   "source": [
    "# 这是 valid 最后一段的数据。误差累积到这里已经很大了。\n",
    "plt.plot(valid_y[-1,:,-1,-1].cpu().detach().flatten().numpy(), 'r-')\n",
    "plt.plot(valid_pred[:,-1].cpu().detach().flatten().numpy(), 'b-')\n",
    "plt.show()\n",
    "print(valid_y[-1,:,-1,-1].cpu().detach().flatten().numpy())\n",
    "print(valid_pred[:,-1].cpu().detach().flatten().numpy())"
   ]
  },
  {
   "cell_type": "code",
   "execution_count": 13,
   "id": "15059b8c-5221-47e4-8716-374496178915",
   "metadata": {},
   "outputs": [
    {
     "name": "stdout",
     "output_type": "stream",
     "text": [
      "Test Loss : 0.706\n",
      "Test Prediction: 7.19\n",
      "Test Actual:     6.48\n"
     ]
    },
    {
     "data": {
      "image/png": "[encoded data removed]",
      "text/plain": [
       "<Figure size 432x288 with 1 Axes>"
      ]
     },
     "metadata": {
      "needs_background": "light"
     },
     "output_type": "display_data"
    },
    {
     "name": "stdout",
     "output_type": "stream",
     "text": [
      "tensor([6.4800], device='cuda:0', dtype=torch.float64)\n",
      "tensor([[7.1862]], device='cuda:0', grad_fn=<SelectBackward0>)\n"
     ]
    }
   ],
   "source": [
    "# 用模型预测数据\n",
    "# 考虑到时序因素，这里的时候误差很大。\n",
    "model.eval()\n",
    "test_loss = 0\n",
    "\n",
    "h0 = torch.zeros(NUM_LAYERS, test_x.shape[1], HIDDEN_SIZE).float().to(device)\n",
    "c0 = torch.zeros(NUM_LAYERS, test_x.shape[1], HIDDEN_SIZE).float().to(device)\n",
    "\n",
    "for step in range(test_x.shape[0]):\n",
    "    pred, hn, cn = model(test_x[step], h0, c0)\n",
    "    \n",
    "    loss = loss_func(pred[:,-1,-1], test_y[step][:,-1,-1])               # Compare the all sequences' last element in one batch\n",
    "    \n",
    "    if test_x.shape[0] > 1:\n",
    "        actual_line.append(test_y[step][-1,-1].item())\n",
    "        pred_line.append(pred[-1,-1].item())\n",
    "    elif test_x.shape[0] == 1:\n",
    "        actual_line = test_y[step].cpu().detach().flatten().numpy()        # Only plot the last sequence of test batch\n",
    "        pred_line   = pred[:,-1].cpu().detach().flatten().numpy()                # Only plot the last sequence of test batch\n",
    "        \n",
    "print(\"Test Loss : {:.3f}\".format(loss.data))\n",
    "print(\"Test Prediction: {:.2f}\".format(float(pred[-1,-1].data)))\n",
    "print(\"Test Actual:     {:.2f}\".format(float(test_y[step][-1,-1].data)))\n",
    "\n",
    "\n",
    "plt.plot(test_y[step,:,-1,-1].cpu().detach().flatten().numpy(), 'r--')\n",
    "plt.plot(pred[:,-1].cpu().detach().flatten().numpy(), 'b-')\n",
    "plt.show()\n",
    "print(test_y[step,:,-1,-1])\n",
    "print(pred[:,-1])"
   ]
  },
  {
   "cell_type": "code",
   "execution_count": 14,
   "id": "cae1c0fe-d7bc-4558-a152-f7f432903458",
   "metadata": {},
   "outputs": [
    {
     "name": "stdout",
     "output_type": "stream",
     "text": [
      "(801, 25, 137)\n",
      "40\n",
      "800\n",
      "(801, 25, 137)\n",
      "torch.Size([20, 40, 25, 136]) torch.Size([20, 40, 1, 1])\n",
      "torch.Size([1, 1, 25, 136]) torch.Size([1, 1, 1, 1])\n",
      "tensor([[[[6.4800]]]], device='cuda:0', dtype=torch.float64)\n"
     ]
    }
   ],
   "source": [
    "# 把rolling_data再分割为 train / test 就再预测\n",
    "# 既然 预测值 和时序相关性很高，可以考虑太早的零星数据对于test影响不大，可以删掉\n",
    "rolling_data = pd.DataFrame()\n",
    "for i in dataset.rolling(SEQ_LENGTH):\n",
    "    if i.shape[0] == SEQ_LENGTH:\n",
    "        rolling_data = rolling_data.append(i)\n",
    "\n",
    "rolling_data = rolling_data.values.reshape(-1, SEQ_LENGTH, X_DIM+Y_SEQ_LEN)                   # 数据一共是 seq_count x seq_len x (x_in_dim+Y_SEQ_LEN) \n",
    "\n",
    "# 打乱train数据\n",
    "# tmp_data = rolling_data[:-1]\n",
    "# np.random.shuffle(tmp_data)\n",
    "# rolling_data = np.concatenate((tmp_data, rolling_data[-1:]), axis=0)\n",
    "\n",
    "\n",
    "print(rolling_data.shape)\n",
    "print(TRAIN_BATCH_SIZE)\n",
    "print(((rolling_data.shape[0]-1)//TRAIN_BATCH_SIZE)*TRAIN_BATCH_SIZE)\n",
    "rolling_data = rolling_data[-((rolling_data.shape[0]-1)//TRAIN_BATCH_SIZE)*TRAIN_BATCH_SIZE-1:,]\n",
    "print(rolling_data.shape)\n",
    "\n",
    "train = rolling_data[:-1].reshape(-1, TRAIN_BATCH_SIZE, SEQ_LENGTH, X_DIM+Y_DIM*Y_SEQ_LEN)                    # 把数据转成 tain_batch_count x TRAIN_BATCH_SIZE x seq_len x in_dim 格式\n",
    "test  = rolling_data[-1:].reshape(1, 1, SEQ_LENGTH, X_DIM+Y_DIM*Y_SEQ_LEN)                     # 把数据转成 test_batch_count x TEST_BATCH_SIZE x seq_len x in_dim 格式\n",
    "\n",
    "train = torch.tensor(train).to(device)\n",
    "test  = torch.tensor(test).to(device)\n",
    "\n",
    "train_x, train_y = train[:,:,:,Y_SEQ_LEN:], train[:,:,-1:,0:Y_SEQ_LEN]           # [train_batch_count, batch_size, sequence_length, XorY dimission]\n",
    "test_x,  test_y  = test[:,:,:, Y_SEQ_LEN:],  test[:,:,-1:,0:Y_SEQ_LEN]           # [train_batch_count, batch_size, sequence_length, XorY dimission]\n",
    "print(train_x.shape, train_y.shape)\n",
    "print(test_x.shape, test_y.shape)\n",
    "print(test_y)"
   ]
  },
  {
   "cell_type": "code",
   "execution_count": 15,
   "id": "6c0316ed-0aa1-481d-9101-cbb51edb191c",
   "metadata": {},
   "outputs": [
    {
     "name": "stdout",
     "output_type": "stream",
     "text": [
      "9 of 200 epoch \t train_loss: 0.490 \t train_MAPE: 6.05% \t train_r2: -36.803\n",
      "19 of 200 epoch \t train_loss: 0.298 \t train_MAPE: 3.58% \t train_r2: -12.274\n",
      "29 of 200 epoch \t train_loss: 0.678 \t train_MAPE: 8.38% \t train_r2: -26.401\n",
      "39 of 200 epoch \t train_loss: 0.305 \t train_MAPE: 3.68% \t train_r2: -8.311\n",
      "49 of 200 epoch \t train_loss: 0.432 \t train_MAPE: 5.34% \t train_r2: -25.285\n",
      "59 of 200 epoch \t train_loss: 0.800 \t train_MAPE: 9.95% \t train_r2: -42.069\n",
      "69 of 200 epoch \t train_loss: 0.432 \t train_MAPE: 5.30% \t train_r2: -11.120\n",
      "79 of 200 epoch \t train_loss: 0.283 \t train_MAPE: 3.41% \t train_r2: -9.577\n",
      "89 of 200 epoch \t train_loss: 0.283 \t train_MAPE: 3.43% \t train_r2: -6.417\n",
      "99 of 200 epoch \t train_loss: 0.296 \t train_MAPE: 3.58% \t train_r2: -4.030\n",
      "109 of 200 epoch \t train_loss: 0.254 \t train_MAPE: 3.02% \t train_r2: -6.475\n",
      "119 of 200 epoch \t train_loss: 0.572 \t train_MAPE: 7.05% \t train_r2: -16.960\n",
      "129 of 200 epoch \t train_loss: 0.972 \t train_MAPE: 12.14% \t train_r2: -46.548\n",
      "139 of 200 epoch \t train_loss: 0.712 \t train_MAPE: 8.71% \t train_r2: -25.210\n",
      "149 of 200 epoch \t train_loss: 0.885 \t train_MAPE: 10.86% \t train_r2: -40.778\n",
      "159 of 200 epoch \t train_loss: 0.553 \t train_MAPE: 6.74% \t train_r2: -18.987\n",
      "169 of 200 epoch \t train_loss: 0.458 \t train_MAPE: 5.33% \t train_r2: -11.274\n",
      "179 of 200 epoch \t train_loss: 0.436 \t train_MAPE: 5.16% \t train_r2: -10.833\n",
      "189 of 200 epoch \t train_loss: 0.304 \t train_MAPE: 3.52% \t train_r2: -5.012\n",
      "199 of 200 epoch \t train_loss: 0.293 \t train_MAPE: 3.35% \t train_r2: -2.899\n"
     ]
    },
    {
     "data": {
      "image/png": "[encoded data removed]",
      "text/plain": [
       "<Figure size 432x288 with 1 Axes>"
      ]
     },
     "metadata": {
      "needs_background": "light"
     },
     "output_type": "display_data"
    },
    {
     "name": "stdout",
     "output_type": "stream",
     "text": [
      "min train loss: 0.248\n"
     ]
    }
   ],
   "source": [
    "# 再重新生成模型再 train 模型\n",
    "model = LSTMModel(input_size=train_x.shape[3], hidden_dim_size=HIDDEN_SIZE, num_layers=NUM_LAYERS, seq_len=train_x.shape[2], output_dim_size=1).float().to(device)\n",
    "LR = 1e-4\n",
    "# loss_func = nn.MSELoss(reduction=\"mean\")\n",
    "loss_func = RMSE\n",
    "optimizer = torch.optim.Adam(model.parameters(), lr=LR, weight_decay=1e-6)\n",
    "scheduler = torch.optim.lr_scheduler.ExponentialLR(optimizer, gamma=1, last_epoch=-1)\n",
    "model.train()\n",
    "epochs = 200\n",
    "\n",
    "train_epoch_loss_list = []\n",
    "valid_epoch_loss_list = []\n",
    "\n",
    "h0 = torch.zeros(NUM_LAYERS, TRAIN_BATCH_SIZE, HIDDEN_SIZE).float().to(device)\n",
    "c0 = torch.zeros(NUM_LAYERS, TRAIN_BATCH_SIZE, HIDDEN_SIZE).float().to(device)\n",
    "\n",
    "\n",
    "for epoch in range(epochs):\n",
    "    batch_loss = []\n",
    "    batch_mape = []\n",
    "    batch_r2   = []\n",
    "    train_epoch_loss = 0\n",
    "    train_pred_value_list = []\n",
    "    train_real_value_list = []\n",
    "    train_batch_list = list(range(0, train_batch_count))\n",
    "    # random.shuffle(train_batch_list)\n",
    "    for step in range(0, train_x.shape[0]):\n",
    "        train_pred, hn, cn = model(train_x[step], h0, c0)\n",
    "        loss = loss_func(train_pred[:,-1,-1], train_y[step][:,-1,-1])                # Compare the all sequences' last element in one batch\n",
    "        train_pred_value_list.extend(list(train_pred[:,-1,-1].cpu().detach().flatten().numpy() ))\n",
    "        train_real_value_list.extend(list(train_y[step,:,-1,-1].cpu().detach().flatten().numpy() ))\n",
    "        optimizer.zero_grad()\n",
    "        loss.backward()\n",
    "        torch.nn.utils.clip_grad_norm_(model.parameters(), max_norm=20, norm_type=2)\n",
    "        optimizer.step()\n",
    "        batch_loss.append(loss.cpu().data.numpy())\n",
    "        batch_mape.append(MAPE(train_pred[:, -1, -1], train_y[step][:, -1, -1]).item())\n",
    "        batch_r2.append(R2(train_pred[:, -1, -1], train_y[step][:, -1, -1]).item())\n",
    "    train_epoch_loss = np.mean(batch_loss)\n",
    "    \n",
    "    batch_loss = []\n",
    "    valid_epoch_loss = 0\n",
    "    valid_pred_value_list = []\n",
    "    valid_real_value_list = []\n",
    "    for step in range(valid_batch_count):\n",
    "        valid_pred, hn, cn = model(valid_x[step], h0, c0)\n",
    "        loss = loss_func(valid_pred[:,-1], valid_y[step][:,-1,-1])\n",
    "        valid_pred_value_list.extend(list(valid_pred[:,-1].cpu().detach().flatten().numpy()))\n",
    "        valid_real_value_list.extend(list(valid_y[step,:,-1,-1].cpu().detach().flatten().numpy()))\n",
    "        batch_loss.append(loss.cpu().data.numpy())\n",
    "    valid_epoch_loss = np.mean(batch_loss)\n",
    "    \n",
    "    valid_epoch_loss_list.append(valid_epoch_loss)\n",
    "    train_epoch_loss_list.append(train_epoch_loss)\n",
    "    \n",
    "    if ((epoch+1) % 10) == 0:\n",
    "        print(\"{} of {} epoch \\t train_loss: {:.3f} \\t train_MAPE: {:.2%} \\t train_r2: {:.3f}\".format(epoch, epochs, np.mean(batch_loss), np.mean(batch_mape), np.mean(batch_r2)))\n",
    "\n",
    "    if np.mean(batch_loss)<0.05:\n",
    "        print(\"{} of {} epoch got the smallest epoch train loss: {:.3f}\".format(epoch, epochs, np.mean(batch_loss)))\n",
    "        break\n",
    "\n",
    "plt.plot(train_epoch_loss_list, 'r-')\n",
    "plt.plot(valid_epoch_loss_list, 'b-')\n",
    "plt.show() \n",
    "print(\"min train loss: {:.3f}\".format(min(train_epoch_loss_list)))"
   ]
  },
  {
   "cell_type": "code",
   "execution_count": 16,
   "id": "1ab2e6de-1c6b-4dab-9f1f-429949057b17",
   "metadata": {},
   "outputs": [
    {
     "name": "stdout",
     "output_type": "stream",
     "text": [
      "torch.Size([40, 25, 1])\n",
      "torch.Size([20, 40, 1, 1])\n",
      "tensor([[6.4900]], device='cuda:0', dtype=torch.float64)\n",
      "tensor([6.8902], device='cuda:0', grad_fn=<SelectBackward0>)\n"
     ]
    }
   ],
   "source": [
    "print(train_pred.shape)\n",
    "print(train_y.shape)\n",
    "\n",
    "print(train_y[-1,-1])\n",
    "print(train_pred[-1,-1])"
   ]
  },
  {
   "cell_type": "code",
   "execution_count": 17,
   "id": "f336190a-8bc4-47c5-975a-8bd2686a62e7",
   "metadata": {},
   "outputs": [
    {
     "data": {
      "image/png": "[encoded data removed]",
      "text/plain": [
       "<Figure size 432x288 with 1 Axes>"
      ]
     },
     "metadata": {
      "needs_background": "light"
     },
     "output_type": "display_data"
    }
   ],
   "source": [
    "plt.plot(valid_real_value_list, 'r-')\n",
    "plt.plot(valid_pred_value_list, 'b-')\n",
    "plt.show()"
   ]
  },
  {
   "cell_type": "code",
   "execution_count": 18,
   "id": "64b5edd6-7cd8-400f-b198-2d8cdfa405ac",
   "metadata": {},
   "outputs": [
    {
     "name": "stdout",
     "output_type": "stream",
     "text": [
      "6.49\n",
      "6.8902197\n"
     ]
    }
   ],
   "source": [
    "# print(train_x.shape)\n",
    "# print(test_x.shape)\n",
    "print(train_real_value_list[-1])\n",
    "print(train_pred_value_list[-1])"
   ]
  },
  {
   "cell_type": "code",
   "execution_count": 19,
   "id": "7cfbfe06-2838-4e89-a7be-69dc7d233231",
   "metadata": {},
   "outputs": [
    {
     "name": "stdout",
     "output_type": "stream",
     "text": [
      "torch.Size([1, 1, 1, 1])\n",
      "torch.Size([1, 25, 1])\n",
      "Real: 6.48\n",
      "Pred: 6.86\n",
      "loss: 0.383\n"
     ]
    }
   ],
   "source": [
    "model.eval()\n",
    "\n",
    "h0 = torch.zeros(NUM_LAYERS, test_x.shape[1], HIDDEN_SIZE).float().to(device)\n",
    "c0 = torch.zeros(NUM_LAYERS, test_x.shape[1], HIDDEN_SIZE).float().to(device)\n",
    "\n",
    "pred, hn, cn = model(test_x[-1], h0, c0)\n",
    "\n",
    "print(test_y.shape)\n",
    "print(pred.shape)\n",
    "print(\"Real: {:.2f}\".format(test_y.item()))\n",
    "print(\"Pred: {:.2f}\".format(pred[:,-1,:].item()))\n",
    "\n",
    "loss = loss_func(pred[:,-1,-1], test_y[-1][:,-1,-1])\n",
    "print(\"loss: {:.3f}\".format(loss.item()))"
   ]
  },
  {
   "cell_type": "code",
   "execution_count": 20,
   "id": "884f1968-b9a4-4cf7-9bcc-4b7436a7e403",
   "metadata": {
    "tags": []
   },
   "outputs": [],
   "source": [
    "# 保存模型\n",
    "torch.save(model, 'e:\\\\Model_601229_qfq.pkl')"
   ]
  },
  {
   "cell_type": "code",
   "execution_count": null,
   "id": "372fbebb-5056-462f-99c4-68e777652903",
   "metadata": {},
   "outputs": [],
   "source": []
  }
 ],
 "metadata": {
  "kernelspec": {
   "display_name": "Python 3 (ipykernel)",
   "language": "python",
   "name": "python3"
  },
  "language_info": {
   "codemirror_mode": {
    "name": "ipython",
    "version": 3
   },
   "file_extension": ".py",
   "mimetype": "text/x-python",
   "name": "python",
   "nbconvert_exporter": "python",
   "pygments_lexer": "ipython3",
   "version": "3.7.0"
  },
  "toc-autonumbering": false,
  "toc-showmarkdowntxt": false
 },
 "nbformat": 4,
 "nbformat_minor": 5
}
