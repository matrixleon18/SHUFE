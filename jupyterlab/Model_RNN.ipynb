{
 "cells": [
  {
   "cell_type": "code",
   "execution_count": 2,
   "id": "1609a875-0dd6-4fca-b2d7-778dbd7e8027",
   "metadata": {},
   "outputs": [],
   "source": [
    "# 最基本的RNN模型"
   ]
  },
  {
   "cell_type": "code",
   "execution_count": 1,
   "id": "b923a9ff-7b6e-4c57-bb3c-254b9e0962da",
   "metadata": {},
   "outputs": [
    {
     "name": "stdout",
     "output_type": "stream",
     "text": [
      "(250, 123)\n",
      "rolling_data shape: (191, 60, 123)\n",
      "seq count: 191\n",
      "seq length: 60\n",
      "total batch count: 191\n",
      "batch size: 1\n",
      "rolling_data: torch.Size([191, 1, 60, 123])\n",
      "train_x: torch.Size([190, 1, 60, 122])\n",
      "train_y: torch.Size([190, 1, 60, 1])\n",
      "test_x:  torch.Size([1, 1, 60, 122])\n",
      "test_y:  torch.Size([1, 1, 60, 1])\n",
      "train_batch_count: 190\n",
      "test_batch_count:  1\n"
     ]
    }
   ],
   "source": [
    "# 准备数据\n",
    "import torch\n",
    "import torch.nn as nn\n",
    "from torch.autograd import Variable\n",
    "import numpy as np\n",
    "import pandas as pd\n",
    "import time\n",
    "import matplotlib.pyplot as plt\n",
    "\n",
    "# 设置 GPU 优先\n",
    "device = torch.device('cuda:0' if torch.cuda.is_available() else 'cpu')\n",
    "\n",
    "# 加载数据\n",
    "dataset = pd.read_csv(\"601229.csv\", index_col=0)\n",
    "dataset = dataset.drop(['date','prediction'], axis=1)\n",
    "# print(dataset.columns)\n",
    "# print(dataset.tail())\n",
    "dataset['future'] = dataset['future']\n",
    "print(dataset.shape)\n",
    "# print(dataset.tail())\n",
    "\n",
    "# 方法2，将数据按照BATCH_SIZE的窗口进行滑动，每个窗口数据做一组\n",
    "\n",
    "# # 数据转成sequence的格式，这里定义每个seq的长度\n",
    "SEQ_LEN = 60\n",
    "BATCH_SIZE = 1                                                    # 注意：BATCH_SIZE是要能够整除seq_count的\n",
    "\n",
    "# 把数据切换成 BATCH_SIZE 的一个个batch\n",
    "rolling_data = pd.DataFrame()\n",
    "for i in dataset.rolling(SEQ_LEN):\n",
    "    if i.shape[0] == SEQ_LEN:\n",
    "        rolling_data = rolling_data.append(i)\n",
    "\n",
    "rolling_data = rolling_data.values.reshape(-1, SEQ_LEN, dataset.shape[1])                 # 数据一共是 seq_count x seq_len x (in_dim+1)\n",
    "\n",
    "print(\"rolling_data shape: {}\".format(rolling_data.shape))\n",
    "print(\"seq count: {}\".format(rolling_data.shape[0]))                                       # 所以一共有 seq_count 列数据，每一行的数据是123维 （包括y）\n",
    "print(\"seq length: {}\".format(SEQ_LEN))\n",
    "\n",
    "\n",
    "total_batch_count = int(rolling_data.shape[0]/BATCH_SIZE)                                   # 把数据规划成 batch_count 个 batch\n",
    "\n",
    "print(\"total batch count: {}\".format(total_batch_count))\n",
    "print(\"batch size: {}\".format(BATCH_SIZE))\n",
    "\n",
    "rolling_data = rolling_data.reshape(total_batch_count, BATCH_SIZE, SEQ_LEN, dataset.shape[1])  # 把数据转成 total_batch_count x BATCH_SIZE x seq_len x in_dim 格式\n",
    "rolling_data = torch.tensor(rolling_data)\n",
    "print(\"rolling_data: {}\".format(rolling_data.shape))\n",
    "\n",
    "\n",
    "train_batch_count = total_batch_count - 1\n",
    "test_batch_count = total_batch_count - train_batch_count\n",
    "\n",
    "train = rolling_data[:train_batch_count, :, :, :]\n",
    "test  = rolling_data[train_batch_count:, :, :, :]\n",
    "\n",
    "train_x, train_y = train[:,:,:,1:], train[:,:,:,0:1]\n",
    "test_x,  test_y  = test[:,:,:, 1:],  test[:,:,:,0:1]\n",
    "\n",
    "train_x = train_x.to(device)\n",
    "train_y = train_y.to(device)\n",
    "test_x = test_x.to(device)\n",
    "test_y = test_y.to(device)\n",
    "\n",
    "print(\"train_x: {}\".format(train_x.shape))\n",
    "print(\"train_y: {}\".format(train_y.shape))\n",
    "print(\"test_x:  {}\".format(test_x.shape))\n",
    "print(\"test_y:  {}\".format(test_y.shape))\n",
    "print(\"train_batch_count: {}\".format(train_batch_count))\n",
    "print(\"test_batch_count:  {}\".format(test_batch_count))"
   ]
  },
  {
   "cell_type": "code",
   "execution_count": 45,
   "id": "2254f8de-d0b6-4682-8275-c30e9a26939c",
   "metadata": {},
   "outputs": [],
   "source": [
    "# 定义 RNN 模型\n",
    "np.random.seed(1027)\n",
    "torch.manual_seed(1027)\n",
    "torch.cuda.manual_seed(1027)\n",
    "torch.backends.cudnn.deterministic = True\n",
    "\n",
    "# 开始定义 RNN 模型\n",
    "TIME_STEP = SEQ_LEN                                        # 一般这个单独设定，这里为了简单，还是直接就等于seq_len的方便。其实也就是等于最长的那个sequence length\n",
    "INPUT_SIZE = 122\n",
    "HIDDEN_SIZE = 768\n",
    "NUM_LAYERS = 5\n",
    "\n",
    "class RNN(nn.Module):\n",
    "    def __init__(self):\n",
    "        super(RNN, self).__init__()\n",
    "        \n",
    "        self.dropout = nn.Dropout(p=0.1)\n",
    "        \n",
    "        self.rnn = nn.RNN(\n",
    "                input_size = INPUT_SIZE,                    # 输入 x 的feature 维度\n",
    "                hidden_size = HIDDEN_SIZE,                  # 隐状态 hidden_state 中的feature维度\n",
    "                num_layers = NUM_LAYERS,                    # RNN 的层数\n",
    "                nonlinearity='relu',                        # 指定激活函数 [‘tanh’ | ’relu’]. 默认: ‘tanh’\n",
    "                bias = True,                                # 如果是 False , 那么 RNN 层就不会使用偏置权重 b_ih 和 b_hh, 默认: True\n",
    "                batch_first = True,                         # 如果 True, 输入Tensor的shape应该是(BATCH_SIZE, seq_len, features),并且输出也是一样.\n",
    "                dropout = 0.1,                              # 如果值非零, 那么除了最后一层外, 其它层的输出都会套上一个 dropout 层\n",
    "                bidirectional = False                       # 如果 True , 将会变成一个双向 RNN, 默认为 False\n",
    "        )\n",
    "        \n",
    "        self.out = nn.Linear(HIDDEN_SIZE, 1)\n",
    "                \n",
    "        # weight的参数用kaiming初始化；bias用zeros初始化；\n",
    "        # for name, param in self.rnn.named_parameters():\n",
    "        #     if name.startswith(\"weight\"):\n",
    "        #         nn.init.kaiming_normal_(param, nonlinearity='relu')\n",
    "        #     else:\n",
    "        #         nn.init.zeros_(param)\n",
    "\n",
    "        # weight的参数用xavier初始化；bias用zeros初始化；\n",
    "        # for name, param in self.rnn.named_parameters():\n",
    "        #     if name.startswith(\"weight\"):\n",
    "        #         nn.init.xavier_normal_(param)\n",
    "        #     else:\n",
    "        #         nn.init.zeros_(param)\n",
    "        \n",
    "    def forward(self, x):\n",
    "        x = self.dropout(x)\n",
    "        \n",
    "        h_state = torch.zeros(NUM_LAYERS, BATCH_SIZE, HIDDEN_SIZE).double().to(device)             \n",
    "        r_out, h_state = self.rnn(x, h_state)                                                      # compute from [1, seq_len, input_dim] to [1, seq_len, hidden_dim] \n",
    "        \n",
    "        # r_out = self.dropout(r_out)\n",
    "        \n",
    "        outs = []\n",
    "        for time_step in range(TIME_STEP):\n",
    "            out = self.out(r_out[:, time_step, :])                                                 # compute from [1, 1, hidden_dim] to [output_dim]\n",
    "            outs.append(out)                                                                       # Add all seq_len data to list like : [[pred1, pred2,...,predn]]                                                          \n",
    "        return torch.stack(outs, dim=1), h_state                                                   # conver from [[pred1,...,predn]] to [[[pred1], ... ,[prdn]]]"
   ]
  },
  {
   "cell_type": "code",
   "execution_count": 46,
   "id": "c1213e8d-0813-4ee9-b7a5-5c09b2e5a921",
   "metadata": {
    "tags": []
   },
   "outputs": [
    {
     "name": "stdout",
     "output_type": "stream",
     "text": [
      "0 of 20 epochs get epoch_loss: 0.666090\n",
      "1 of 20 epochs get epoch_loss: 0.504452\n",
      "2 of 20 epochs get epoch_loss: 0.225024\n",
      "3 of 20 epochs get epoch_loss: 0.126479\n",
      "4 of 20 epochs get epoch_loss: 0.087044\n",
      "5 of 20 epochs get epoch_loss: 0.070586\n",
      "6 of 20 epochs get epoch_loss: 0.058492\n",
      "7 of 20 epochs get epoch_loss: 0.050012\n",
      "8 of 20 epochs get epoch_loss: 0.042826\n",
      "9 of 20 epochs get epoch_loss: 0.039296\n",
      "10 of 20 epochs get epoch_loss: 0.034894\n",
      "11 of 20 epochs get epoch_loss: 0.028983\n",
      "12 of 20 epochs get epoch_loss: 0.029688\n",
      "13 of 20 epochs get epoch_loss: 0.025482\n",
      "14 of 20 epochs get epoch_loss: 0.021791\n",
      "15 of 20 epochs get epoch_loss: 0.019464\n",
      "16 of 20 epochs get epoch_loss: 0.021917\n",
      "17 of 20 epochs get epoch_loss: 0.020608\n",
      "18 of 20 epochs get epoch_loss: 0.016020\n",
      "19 of 20 epochs get epoch_loss: 0.016148\n"
     ]
    },
    {
     "data": {
      "image/png": "[encoded data removed]",
      "text/plain": [
       "<Figure size 432x288 with 1 Axes>"
      ]
     },
     "metadata": {
      "needs_background": "light"
     },
     "output_type": "display_data"
    }
   ],
   "source": [
    "# 训练 RNN 模型\n",
    "model = RNN().double().to(device)\n",
    "LR = 1e-4\n",
    "loss_func = nn.MSELoss(reduction=\"mean\")\n",
    "optimizer = torch.optim.Adam(model.parameters(), lr=LR, weight_decay=1e-8)\n",
    "scheduler = torch.optim.lr_scheduler.ExponentialLR(optimizer, gamma=0.9, last_epoch=-1)\n",
    "\n",
    "# 计划训练 20 轮\n",
    "epoch = 0\n",
    "epochs = 20\n",
    "epoch_loss = 0\n",
    "epoch_loss_list=[]\n",
    "for epoch in range(epochs):\n",
    "    for step in range(train_batch_count):\n",
    "        pred, h_state = model(train_x[step])                      # 其实这里的h_state也可以带给下一个batch作为输入。例如 pred,h_state=model(train_x[step], h_state)  h_state=h_state.data\n",
    "        loss = loss_func(pred, train_y[step])\n",
    "        optimizer.zero_grad()\n",
    "        loss.backward()\n",
    "        optimizer.step()\n",
    "        \n",
    "        epoch_loss += loss.data\n",
    "\n",
    "    print(\"{} of {} epochs get epoch_loss: {:.6f}\".format(epoch, epochs, epoch_loss))\n",
    "    epoch_loss_list.append(epoch_loss)\n",
    "    epoch_loss = 0\n",
    "    # scheduler.step()\n",
    "\n",
    "plt.plot(epoch_loss_list)\n",
    "plt.show()"
   ]
  },
  {
   "cell_type": "code",
   "execution_count": 44,
   "id": "a13162e3-01ae-404f-ac48-963df4658822",
   "metadata": {},
   "outputs": [],
   "source": [
    "# 保存模型\n",
    "torch.save(model, '\\Model_RNN.pkl')"
   ]
  },
  {
   "cell_type": "code",
   "execution_count": 44,
   "id": "8834f0a2-3301-4c43-8afe-2fbc51951bca",
   "metadata": {},
   "outputs": [],
   "source": [
    "# 加载模型\n",
    "model = torch.load('\\Model_RNN.pkl')"
   ]
  },
  {
   "cell_type": "code",
   "execution_count": 47,
   "id": "99fd38fc-9d21-447d-af67-4347a82010be",
   "metadata": {},
   "outputs": [
    {
     "name": "stdout",
     "output_type": "stream",
     "text": [
      "Prediction: 0.02\n",
      "loss : 0.000274\n"
     ]
    },
    {
     "data": {
      "image/png": "[encoded data removed]",
      "text/plain": [
       "<Figure size 432x288 with 1 Axes>"
      ]
     },
     "metadata": {
      "needs_background": "light"
     },
     "output_type": "display_data"
    }
   ],
   "source": [
    "# 用模型来做测试数据的预测\n",
    "\n",
    "for step in range(test_batch_count):\n",
    "    pred, h_state = model(test_x[step])\n",
    "    loss = loss_func(pred, test_y[step])\n",
    "\n",
    "    print(\"Prediction: {:.2f}\".format(float(pred[-1][-1].data)))\n",
    "    print(\"loss : {:.6f}\".format(float(loss.data)))\n",
    "\n",
    "    # print(test_y[step][-1].flatten().shape)\n",
    "    # print(pred[-1].flatten().shape)\n",
    "    \n",
    "    # actual_line = test_y[step][-1].cpu().detach().flatten().numpy()\n",
    "    # pred_line   = pred[-1].cpu().detach().flatten().numpy()\n",
    "    \n",
    "    actual_line = test_y[step].cpu().detach().flatten().numpy()\n",
    "    pred_line   = pred.cpu().detach().flatten().numpy()\n",
    "    \n",
    "    plt.plot(actual_line, 'r--')\n",
    "    plt.plot(pred_line, 'b-')\n",
    "    plt.show()"
   ]
  },
  {
   "cell_type": "code",
   "execution_count": null,
   "id": "a54bfe2c-5a65-4244-80ea-184fa1b87771",
   "metadata": {},
   "outputs": [],
   "source": []
  }
 ],
 "metadata": {
  "kernelspec": {
   "display_name": "Python 3 (ipykernel)",
   "language": "python",
   "name": "python3"
  },
  "language_info": {
   "codemirror_mode": {
    "name": "ipython",
    "version": 3
   },
   "file_extension": ".py",
   "mimetype": "text/x-python",
   "name": "python",
   "nbconvert_exporter": "python",
   "pygments_lexer": "ipython3",
   "version": "3.8.8"
  }
 },
 "nbformat": 4,
 "nbformat_minor": 5
}
