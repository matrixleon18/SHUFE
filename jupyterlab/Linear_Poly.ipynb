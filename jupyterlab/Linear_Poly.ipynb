{
 "cells": [
  {
   "cell_type": "code",
   "execution_count": 39,
   "id": "92b11001-9aaf-4c0b-ab01-4b5922d6d1a1",
   "metadata": {},
   "outputs": [],
   "source": [
    "# 只是一个多项式拟合的代码\n",
    "import torch\n",
    "import torch.nn as nn\n",
    "import torch.optim as optim\n",
    "from torch.autograd import Variable"
   ]
  },
  {
   "cell_type": "code",
   "execution_count": 21,
   "id": "37acbd46-679c-423d-b720-80221e8196de",
   "metadata": {},
   "outputs": [],
   "source": [
    "def make_features(x):\n",
    "    x = x.unsqueeze(1)\n",
    "    return torch.cat([x**i for i in range(1, 4)], 1)"
   ]
  },
  {
   "cell_type": "code",
   "execution_count": 22,
   "id": "45e42474-ea6f-4338-bdbb-390cc6e39e02",
   "metadata": {},
   "outputs": [],
   "source": [
    "W_target = torch.FloatTensor([0.5, 3, 2.4]).unsqueeze(1)\n",
    "b_target = torch.FloatTensor([0.9])"
   ]
  },
  {
   "cell_type": "code",
   "execution_count": 24,
   "id": "22c5e47d-bca9-4af9-8472-c1171fa38fd9",
   "metadata": {},
   "outputs": [],
   "source": [
    "def f(x):\n",
    "    return x.mm(W_target) + b_target[0]"
   ]
  },
  {
   "cell_type": "code",
   "execution_count": 25,
   "id": "e2ff15ae-cb61-49ce-8873-cde3a3909308",
   "metadata": {},
   "outputs": [],
   "source": [
    "def get_batch(batch_size=32):\n",
    "    random = torch.randn(batch_size)\n",
    "    x = make_features(random)\n",
    "    y = f(x)\n",
    "    return Variable(x), Variable(y)"
   ]
  },
  {
   "cell_type": "code",
   "execution_count": 29,
   "id": "22bad410-0991-4ca4-9361-632771099e95",
   "metadata": {},
   "outputs": [],
   "source": [
    "class poly_model(nn.Module):\n",
    "    def __init__(self):\n",
    "        super(poly_model, self).__init__()\n",
    "        self.poly = nn.Linear(3, 1)\n",
    "    \n",
    "    def forward(self, x):\n",
    "        out = self.poly(x)\n",
    "        return out"
   ]
  },
  {
   "cell_type": "code",
   "execution_count": 30,
   "id": "e7012a84-1144-4117-950b-532b8d1dd9f8",
   "metadata": {},
   "outputs": [],
   "source": [
    "model = poly_model()"
   ]
  },
  {
   "cell_type": "code",
   "execution_count": 35,
   "id": "1fd888b3-d5d5-490e-af3c-95540cd637f6",
   "metadata": {},
   "outputs": [],
   "source": [
    "loss_func = nn.MSELoss()\n",
    "opti_func = optim.SGD(model.parameters(), lr=1e-3)"
   ]
  },
  {
   "cell_type": "code",
   "execution_count": 58,
   "id": "9161d9f1-7303-4578-844b-e7e5ff80f622",
   "metadata": {},
   "outputs": [
    {
     "name": "stdout",
     "output_type": "stream",
     "text": [
      "tensor(1.3064e-10)\n",
      "Done at epoch 1 and loss: 1.3064227477599388e-10\n",
      "<generator object Module.parameters at 0x11d700480>\n"
     ]
    }
   ],
   "source": [
    "epoch = 0\n",
    "\n",
    "while True:\n",
    "    batch_x, batch_y = get_batch()\n",
    "    output = model(batch_x)\n",
    "    loss = loss_func(output, batch_y)\n",
    "    print(loss.data)\n",
    "    opti_func.zero_grad()\n",
    "    loss.backward()\n",
    "    opti_func.step()\n",
    "    epoch += 1\n",
    "    \n",
    "    if loss.data < 1e-3:\n",
    "        print(\"Done at epoch {} and loss: {}\".format(epoch, loss))\n",
    "        print(model.parameters())\n",
    "        break\n"
   ]
  },
  {
   "cell_type": "code",
   "execution_count": null,
   "id": "50f17660-d4ee-4413-910d-a0638a490f76",
   "metadata": {},
   "outputs": [],
   "source": []
  },
  {
   "cell_type": "code",
   "execution_count": null,
   "id": "a7066236-8c9d-49e1-98ec-db1b27123342",
   "metadata": {},
   "outputs": [],
   "source": []
  }
 ],
 "metadata": {
  "kernelspec": {
   "display_name": "Python 3 (ipykernel)",
   "language": "python",
   "name": "python3"
  },
  "language_info": {
   "codemirror_mode": {
    "name": "ipython",
    "version": 3
   },
   "file_extension": ".py",
   "mimetype": "text/x-python",
   "name": "python",
   "nbconvert_exporter": "python",
   "pygments_lexer": "ipython3",
   "version": "3.7.3"
  }
 },
 "nbformat": 4,
 "nbformat_minor": 5
}
